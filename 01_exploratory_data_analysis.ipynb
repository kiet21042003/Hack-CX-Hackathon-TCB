{
 "cells": [
  {
   "cell_type": "markdown",
   "id": "8aea5ea1",
   "metadata": {},
   "source": [
    "# I. Exploratory Data Analysis: Customer Product Adoption Prediction\n",
    "\n",
    "## Objectives\n",
    "- Understand the structure and quality of our datasets\n",
    "- Explore relationships between customer features and product adoption\n",
    "- Identify patterns and insights for feature engineering\n",
    "- Assess data quality and preprocessing needs\n",
    "\n",
    "## Dataset Overview\n",
    "We have 3 main datasets:\n",
    "1. **data_customers.csv**: Customer demographics and behavior (37 features)\n",
    "2. **data_products.csv**: Product characteristics and performance (26 features)\n",
    "3. **data_adoption_logs.csv**: Historical adoption records (10 features)"
   ]
  },
  {
   "cell_type": "code",
   "execution_count": 1,
   "id": "0bb09455",
   "metadata": {},
   "outputs": [
    {
     "name": "stdout",
     "output_type": "stream",
     "text": [
      "🔄 Loading libraries...\n",
      "✅ Core libraries loaded\n",
      "✅ IPython display loaded\n",
      "✅ Matplotlib style 'seaborn-v0_8' applied\n",
      "✅ Matplotlib loaded successfully\n",
      "✅ Seaborn loaded successfully\n",
      "✅ Plotly loaded successfully\n",
      "✅ Core libraries loaded\n",
      "✅ IPython display loaded\n",
      "✅ Matplotlib style 'seaborn-v0_8' applied\n",
      "✅ Matplotlib loaded successfully\n",
      "✅ Seaborn loaded successfully\n",
      "✅ Plotly loaded successfully\n",
      "✅ Scikit-learn loaded successfully\n",
      "\n",
      "🚀 Environment Setup Complete!\n",
      "📦 Library Status:\n",
      "   Pandas: ✅ v2.2.3\n",
      "   NumPy: ✅ v2.2.4\n",
      "   IPython: ✅\n",
      "   Matplotlib: ✅\n",
      "   Seaborn: ✅\n",
      "   Plotly: ✅\n",
      "   Scikit-learn: ✅\n",
      "\n",
      "✨ Ready to start data analysis!\n",
      "✅ Scikit-learn loaded successfully\n",
      "\n",
      "🚀 Environment Setup Complete!\n",
      "📦 Library Status:\n",
      "   Pandas: ✅ v2.2.3\n",
      "   NumPy: ✅ v2.2.4\n",
      "   IPython: ✅\n",
      "   Matplotlib: ✅\n",
      "   Seaborn: ✅\n",
      "   Plotly: ✅\n",
      "   Scikit-learn: ✅\n",
      "\n",
      "✨ Ready to start data analysis!\n"
     ]
    }
   ],
   "source": [
    "# Import Required Libraries\n",
    "print(\"🔄 Loading libraries...\")\n",
    "\n",
    "# Core libraries (always available)\n",
    "import pandas as pd\n",
    "import numpy as np\n",
    "import matplotlib.pyplot as plt\n",
    "import seaborn as sns\n",
    "import plotly.express as px\n",
    "import plotly.graph_objects as go\n",
    "from plotly.subplots import make_subplots\n",
    "from IPython.display import display\n",
    "import warnings\n",
    "import json\n",
    "import os\n",
    "from datetime import datetime\n",
    "\n",
    "# Configure display settings\n",
    "warnings.filterwarnings('ignore')\n",
    "pd.set_option('display.max_columns', None)\n",
    "pd.set_option('display.max_rows', 100)\n",
    "\n",
    "print(\"✅ Core libraries loaded\")\n",
    "\n",
    "# Try to import IPython display\n",
    "try:\n",
    "    from IPython.display import display\n",
    "    IPYTHON_AVAILABLE = True\n",
    "    print(\"✅ IPython display loaded\")\n",
    "except ImportError:\n",
    "    IPYTHON_AVAILABLE = False\n",
    "    # Create a fallback display function\n",
    "    def display(obj):\n",
    "        print(obj)\n",
    "    print(\"⚠️ IPython not available, using fallback display\")\n",
    "\n",
    "# Import plotting libraries with comprehensive error handling\n",
    "MATPLOTLIB_AVAILABLE = False\n",
    "SEABORN_AVAILABLE = False\n",
    "\n",
    "try:\n",
    "    import matplotlib\n",
    "    matplotlib.use('Agg')  # Use non-interactive backend as fallback\n",
    "    import matplotlib.pyplot as plt\n",
    "    \n",
    "    # Try different style options\n",
    "    style_applied = False\n",
    "    for style in ['seaborn-v0_8', 'seaborn', 'ggplot', 'default']:\n",
    "        try:\n",
    "            plt.style.use(style)\n",
    "            print(f\"✅ Matplotlib style '{style}' applied\")\n",
    "            style_applied = True\n",
    "            break\n",
    "        except:\n",
    "            continue\n",
    "    \n",
    "    if not style_applied:\n",
    "        print(\"⚠️ Using matplotlib default style\")\n",
    "    \n",
    "    MATPLOTLIB_AVAILABLE = True\n",
    "    print(\"✅ Matplotlib loaded successfully\")\n",
    "    \n",
    "    # Try to load seaborn\n",
    "    try:\n",
    "        import seaborn as sns\n",
    "        colors = ['#1f77b4', '#ff7f0e', '#2ca02c', '#d62728', '#9467bd', '#8c564b']\n",
    "        sns.set_palette(colors)\n",
    "        SEABORN_AVAILABLE = True\n",
    "        print(\"✅ Seaborn loaded successfully\")\n",
    "    except ImportError:\n",
    "        SEABORN_AVAILABLE = False\n",
    "        print(\"⚠️ Seaborn not available\")\n",
    "        \n",
    "except ImportError as e:\n",
    "    MATPLOTLIB_AVAILABLE = False\n",
    "    print(f\"⚠️ Matplotlib not available: {e}\")\n",
    "    \n",
    "    # Create dummy plotting functions\n",
    "    class DummyPlt:\n",
    "        @staticmethod\n",
    "        def figure(*args, **kwargs):\n",
    "            print(\"📊 Plot would be displayed here (matplotlib not available)\")\n",
    "        @staticmethod\n",
    "        def show(*args, **kwargs):\n",
    "            pass\n",
    "        @staticmethod\n",
    "        def title(*args, **kwargs):\n",
    "            pass\n",
    "        @staticmethod\n",
    "        def xlabel(*args, **kwargs):\n",
    "            pass\n",
    "        @staticmethod\n",
    "        def ylabel(*args, **kwargs):\n",
    "            pass\n",
    "        @staticmethod\n",
    "        def tight_layout(*args, **kwargs):\n",
    "            pass\n",
    "    \n",
    "    plt = DummyPlt()\n",
    "    \n",
    "    class DummySns:\n",
    "        @staticmethod\n",
    "        def barplot(*args, **kwargs):\n",
    "            print(\"📊 Seaborn barplot would be displayed here\")\n",
    "        @staticmethod\n",
    "        def heatmap(*args, **kwargs):\n",
    "            print(\"📊 Seaborn heatmap would be displayed here\")\n",
    "        @staticmethod\n",
    "        def set_palette(*args, **kwargs):\n",
    "            pass\n",
    "    \n",
    "    sns = DummySns()\n",
    "\n",
    "# Import plotly with error handling\n",
    "PLOTLY_AVAILABLE = False\n",
    "try:\n",
    "    import plotly.express as px\n",
    "    import plotly.graph_objects as go\n",
    "    from plotly.subplots import make_subplots\n",
    "    PLOTLY_AVAILABLE = True\n",
    "    print(\"✅ Plotly loaded successfully\")\n",
    "except ImportError as e:\n",
    "    print(f\"⚠️ Plotly not available: {e}\")\n",
    "    \n",
    "    # Create dummy plotly classes\n",
    "    class DummyFig:\n",
    "        def add_trace(self, *args, **kwargs):\n",
    "            pass\n",
    "        def update_layout(self, *args, **kwargs):\n",
    "            pass\n",
    "        def show(self, *args, **kwargs):\n",
    "            print(\"📊 Interactive plot would be displayed here (plotly not available)\")\n",
    "    \n",
    "    class DummyGo:\n",
    "        @staticmethod\n",
    "        def Figure(*args, **kwargs):\n",
    "            return DummyFig()\n",
    "        @staticmethod\n",
    "        def Bar(*args, **kwargs):\n",
    "            return {}\n",
    "        @staticmethod\n",
    "        def Pie(*args, **kwargs):\n",
    "            return {}\n",
    "        @staticmethod\n",
    "        def Histogram(*args, **kwargs):\n",
    "            return {}\n",
    "    \n",
    "    class DummyPx:\n",
    "        @staticmethod\n",
    "        def bar(*args, **kwargs):\n",
    "            print(\"📊 Plotly express bar chart would be displayed here\")\n",
    "    \n",
    "    def make_subplots(*args, **kwargs):\n",
    "        return DummyFig()\n",
    "    \n",
    "    go = DummyGo()\n",
    "    px = DummyPx()\n",
    "\n",
    "# Import scikit-learn with error handling\n",
    "SKLEARN_AVAILABLE = False\n",
    "try:\n",
    "    from sklearn.preprocessing import StandardScaler, LabelEncoder\n",
    "    from sklearn.impute import SimpleImputer, KNNImputer\n",
    "    from sklearn.ensemble import RandomForestClassifier\n",
    "    from sklearn.feature_selection import mutual_info_classif\n",
    "    from sklearn.model_selection import train_test_split\n",
    "    SKLEARN_AVAILABLE = True\n",
    "    print(\"✅ Scikit-learn loaded successfully\")\n",
    "except ImportError as e:\n",
    "    print(f\"⚠️ Scikit-learn not available: {e}\")\n",
    "    print(\"   Run: pip install scikit-learn\")\n",
    "\n",
    "# Summary\n",
    "print(\"\\n🚀 Environment Setup Complete!\")\n",
    "print(f\"📦 Library Status:\")\n",
    "print(f\"   Pandas: ✅ v{pd.__version__}\")\n",
    "print(f\"   NumPy: ✅ v{np.__version__}\")\n",
    "print(f\"   IPython: {'✅' if IPYTHON_AVAILABLE else '⚠️'}\")\n",
    "print(f\"   Matplotlib: {'✅' if MATPLOTLIB_AVAILABLE else '⚠️'}\")\n",
    "print(f\"   Seaborn: {'✅' if SEABORN_AVAILABLE else '⚠️'}\")\n",
    "print(f\"   Plotly: {'✅' if PLOTLY_AVAILABLE else '⚠️'}\")\n",
    "print(f\"   Scikit-learn: {'✅' if SKLEARN_AVAILABLE else '⚠️'}\")\n",
    "\n",
    "# Set global flags for conditional execution\n",
    "globals().update({\n",
    "    'MATPLOTLIB_AVAILABLE': MATPLOTLIB_AVAILABLE,\n",
    "    'SEABORN_AVAILABLE': SEABORN_AVAILABLE,\n",
    "    'PLOTLY_AVAILABLE': PLOTLY_AVAILABLE,\n",
    "    'SKLEARN_AVAILABLE': SKLEARN_AVAILABLE,\n",
    "    'IPYTHON_AVAILABLE': IPYTHON_AVAILABLE\n",
    "})\n",
    "\n",
    "print(\"\\n✨ Ready to start data analysis!\")"
   ]
  },
  {
   "cell_type": "markdown",
   "id": "5542e0ef",
   "metadata": {},
   "source": [
    "## 1. Data Loading and Initial Inspection"
   ]
  },
  {
   "cell_type": "code",
   "execution_count": 2,
   "id": "d9f58a16",
   "metadata": {},
   "outputs": [
    {
     "name": "stdout",
     "output_type": "stream",
     "text": [
      "Loading datasets...\n",
      "✓ Customers dataset loaded: (100000, 37)\n",
      "✓ Products dataset loaded: (1000, 26)\n",
      "✓ Customers dataset loaded: (100000, 37)\n",
      "✓ Products dataset loaded: (1000, 26)\n",
      "✓ Adoption logs dataset loaded: (949650, 10)\n",
      "\n",
      "📊 Dataset Overview:\n",
      "Customers: (100000, 37)\n",
      "Products: (1000, 26)\n",
      "Adoption Logs: (949650, 10)\n",
      "✓ Adoption logs dataset loaded: (949650, 10)\n",
      "\n",
      "📊 Dataset Overview:\n",
      "Customers: (100000, 37)\n",
      "Products: (1000, 26)\n",
      "Adoption Logs: (949650, 10)\n"
     ]
    }
   ],
   "source": [
    "# Load datasets\n",
    "print(\"Loading datasets...\")\n",
    "\n",
    "# Load customer data\n",
    "try:\n",
    "    customers = pd.read_csv('data/data_customers.csv')\n",
    "    print(f\"✓ Customers dataset loaded: {customers.shape}\")\n",
    "except Exception as e:\n",
    "    print(f\"❌ Error loading customers data: {e}\")\n",
    "\n",
    "# Load products data\n",
    "try:\n",
    "    products = pd.read_csv('data/data_products.csv')\n",
    "    print(f\"✓ Products dataset loaded: {products.shape}\")\n",
    "except Exception as e:\n",
    "    print(f\"❌ Error loading products data: {e}\")\n",
    "\n",
    "# Load adoption logs\n",
    "try:\n",
    "    adoption_logs = pd.read_csv('data/data_adoption_logs.csv')\n",
    "    print(f\"✓ Adoption logs dataset loaded: {adoption_logs.shape}\")\n",
    "except Exception as e:\n",
    "    print(f\"❌ Error loading adoption logs data: {e}\")\n",
    "\n",
    "# Load metadata for reference\n",
    "metadata_user = pd.read_csv('data/metadata_user.csv')\n",
    "metadata_product = pd.read_csv('data/metadata_product.csv')\n",
    "metadata_adoption = pd.read_csv('data/metadata_adoption.csv')\n",
    "\n",
    "print(\"\\n📊 Dataset Overview:\")\n",
    "print(f\"Customers: {customers.shape if 'customers' in locals() else 'Not loaded'}\")\n",
    "print(f\"Products: {products.shape if 'products' in locals() else 'Not loaded'}\")\n",
    "print(f\"Adoption Logs: {adoption_logs.shape if 'adoption_logs' in locals() else 'Not loaded'}\")"
   ]
  },
  {
   "cell_type": "markdown",
   "id": "afb399ca",
   "metadata": {},
   "source": [
    "### 1.1 Dataset Structure Analysis"
   ]
  },
  {
   "cell_type": "code",
   "execution_count": 3,
   "id": "1bbbd900",
   "metadata": {},
   "outputs": [
    {
     "name": "stdout",
     "output_type": "stream",
     "text": [
      "\n",
      "==================================================\n",
      "📋 CUSTOMERS DATASET ANALYSIS\n",
      "==================================================\n",
      "Shape: (100000, 37)\n",
      "Memory usage: 153.01 MB\n",
      "\n",
      "🔍 Column Information:\n",
      "Column                    Type            Non-Null   Null %   Unique\n",
      "----------------------------------------------------------------------\n",
      "user_id                   object          100000     0.0      100000\n",
      "age                       int64           100000     0.0      58\n",
      "occupation                object          100000     0.0      7\n",
      "income_tier               object          100000     0.0      5\n",
      "marital_status            object          100000     0.0      4\n",
      "household_size            int64           100000     0.0      6\n",
      "preferred_language        object          100000     0.0      2\n",
      "products                  object          100000     0.0      256\n",
      "tenure_years              int64           100000     0.0      31\n",
      "avg_balance               float64         100000     0.0      99999\n",
      "cc_limit_util             object          100000     0.0      98118\n",
      "mortgage_outstanding      float64         100000     0.0      60056\n",
      "investments_aum           float64         100000     0.0      100000\n",
      "monthly_salary            float64         100000     0.0      79557\n",
      "top_mcc                   object          100000     0.0      8\n",
      "ecom_pos_ratio            float64         100000     0.0      96\n",
      "overseas_share            float64         100000     0.0      82\n",
      "avg_bill_pay_amt          float64         100000     0.0      59242\n",
      "cash_wd_freq              int64           100000     0.0      17\n",
      "mobile_login_freq         int64           100000     0.0      46\n",
      "days_since_push           int64           100000     0.0      61\n",
      "preferred_channel         object          100000     0.0      5\n",
      "offer_ctr                 float64         100000     0.0      694\n",
      "offer_accepts             int64           100000     0.0      10\n",
      "offer_fatigue             float64         100000     0.0      100\n",
      "declined_offer_cat        object          83222      16.8     5\n",
      "day_time                  object          100000     0.0      1\n",
      "season_flag               object          79881      20.1     4\n",
      "Memory usage: 153.01 MB\n",
      "\n",
      "🔍 Column Information:\n",
      "Column                    Type            Non-Null   Null %   Unique\n",
      "----------------------------------------------------------------------\n",
      "user_id                   object          100000     0.0      100000\n",
      "age                       int64           100000     0.0      58\n",
      "occupation                object          100000     0.0      7\n",
      "income_tier               object          100000     0.0      5\n",
      "marital_status            object          100000     0.0      4\n",
      "household_size            int64           100000     0.0      6\n",
      "preferred_language        object          100000     0.0      2\n",
      "products                  object          100000     0.0      256\n",
      "tenure_years              int64           100000     0.0      31\n",
      "avg_balance               float64         100000     0.0      99999\n",
      "cc_limit_util             object          100000     0.0      98118\n",
      "mortgage_outstanding      float64         100000     0.0      60056\n",
      "investments_aum           float64         100000     0.0      100000\n",
      "monthly_salary            float64         100000     0.0      79557\n",
      "top_mcc                   object          100000     0.0      8\n",
      "ecom_pos_ratio            float64         100000     0.0      96\n",
      "overseas_share            float64         100000     0.0      82\n",
      "avg_bill_pay_amt          float64         100000     0.0      59242\n",
      "cash_wd_freq              int64           100000     0.0      17\n",
      "mobile_login_freq         int64           100000     0.0      46\n",
      "days_since_push           int64           100000     0.0      61\n",
      "preferred_channel         object          100000     0.0      5\n",
      "offer_ctr                 float64         100000     0.0      694\n",
      "offer_accepts             int64           100000     0.0      10\n",
      "offer_fatigue             float64         100000     0.0      100\n",
      "declined_offer_cat        object          83222      16.8     5\n",
      "day_time                  object          100000     0.0      1\n",
      "season_flag               object          79881      20.1     4\n",
      "geo_region                object          100000     0.0      6\n",
      "weather                   object          100000     0.0      6\n",
      "rt_spending_trigger       bool            100000     0.0      2\n",
      "clv_score                 float64         100000     0.0      99351\n",
      "churn_risk                float64         100000     0.0      871\n",
      "propensity_scores         object          100000     0.0      100000\n",
      "price_sensitivity         float64         100000     0.0      100\n",
      "peer_cluster_vec          object          100000     0.0      100000\n",
      "usage_journey             object          100000     0.0      60262\n",
      "geo_region                object          100000     0.0      6\n",
      "weather                   object          100000     0.0      6\n",
      "rt_spending_trigger       bool            100000     0.0      2\n",
      "clv_score                 float64         100000     0.0      99351\n",
      "churn_risk                float64         100000     0.0      871\n",
      "propensity_scores         object          100000     0.0      100000\n",
      "price_sensitivity         float64         100000     0.0      100\n",
      "peer_cluster_vec          object          100000     0.0      100000\n",
      "usage_journey             object          100000     0.0      60262\n",
      "\n",
      "==================================================\n",
      "📋 PRODUCTS DATASET ANALYSIS\n",
      "==================================================\n",
      "Shape: (1000, 26)\n",
      "Memory usage: 1.06 MB\n",
      "\n",
      "🔍 Column Information:\n",
      "Column                    Type            Non-Null   Null %   Unique\n",
      "----------------------------------------------------------------------\n",
      "product_id                object          1000       0.0      1000\n",
      "category                  object          1000       0.0      10\n",
      "tier                      object          1000       0.0      5\n",
      "apr                       float64         1000       0.0      663\n",
      "reward_type               object          1000       0.0      5\n",
      "reward_value              float64         1000       0.0      846\n",
      "eligibility               object          1000       0.0      13\n",
      "tenor_months              int64           1000       0.0      7\n",
      "risk_adj_margin           float64         1000       0.0      320\n",
      "hist_conv_rate            float64         1000       0.0      284\n",
      "hist_profit               float64         1000       0.0      965\n",
      "budget_remaining          float64         1000       0.0      1000\n",
      "max_redemptions           int64           1000       0.0      990\n",
      "offer_dates               object          1000       0.0      960\n",
      "launch_recency_days       int64           1000       0.0      765\n",
      "compliance_tag            object          1000       0.0      5\n",
      "channels                  object          1000       0.0      273\n",
      "target_segments           object          1000       0.0      277\n",
      "geo_applic                object          1000       0.0      6\n",
      "merchant_industry         object          1000       0.0      8\n",
      "cost_to_bank              float64         1000       0.0      904\n",
      "expected_utility          float64         1000       0.0      562\n",
      "cross_sell_score          float64         1000       0.0      578\n",
      "bundle_depth              int64           1000       0.0      4\n",
      "valid_window              object          1000       0.0      92\n",
      "popularity_trend          object          1000       0.0      3\n",
      "\n",
      "==================================================\n",
      "📋 ADOPTION_LOGS DATASET ANALYSIS\n",
      "==================================================\n",
      "Shape: (949650, 10)\n",
      "\n",
      "==================================================\n",
      "📋 PRODUCTS DATASET ANALYSIS\n",
      "==================================================\n",
      "Shape: (1000, 26)\n",
      "Memory usage: 1.06 MB\n",
      "\n",
      "🔍 Column Information:\n",
      "Column                    Type            Non-Null   Null %   Unique\n",
      "----------------------------------------------------------------------\n",
      "product_id                object          1000       0.0      1000\n",
      "category                  object          1000       0.0      10\n",
      "tier                      object          1000       0.0      5\n",
      "apr                       float64         1000       0.0      663\n",
      "reward_type               object          1000       0.0      5\n",
      "reward_value              float64         1000       0.0      846\n",
      "eligibility               object          1000       0.0      13\n",
      "tenor_months              int64           1000       0.0      7\n",
      "risk_adj_margin           float64         1000       0.0      320\n",
      "hist_conv_rate            float64         1000       0.0      284\n",
      "hist_profit               float64         1000       0.0      965\n",
      "budget_remaining          float64         1000       0.0      1000\n",
      "max_redemptions           int64           1000       0.0      990\n",
      "offer_dates               object          1000       0.0      960\n",
      "launch_recency_days       int64           1000       0.0      765\n",
      "compliance_tag            object          1000       0.0      5\n",
      "channels                  object          1000       0.0      273\n",
      "target_segments           object          1000       0.0      277\n",
      "geo_applic                object          1000       0.0      6\n",
      "merchant_industry         object          1000       0.0      8\n",
      "cost_to_bank              float64         1000       0.0      904\n",
      "expected_utility          float64         1000       0.0      562\n",
      "cross_sell_score          float64         1000       0.0      578\n",
      "bundle_depth              int64           1000       0.0      4\n",
      "valid_window              object          1000       0.0      92\n",
      "popularity_trend          object          1000       0.0      3\n",
      "\n",
      "==================================================\n",
      "📋 ADOPTION_LOGS DATASET ANALYSIS\n",
      "==================================================\n",
      "Shape: (949650, 10)\n",
      "Memory usage: 213.74 MB\n",
      "\n",
      "🔍 Column Information:\n",
      "Column                    Type            Non-Null   Null %   Unique\n",
      "----------------------------------------------------------------------\n",
      "adopted                   bool            949650     0.0      2\n",
      "tenure_days               int64           949650     0.0      1826\n",
      "recency_days              int64           949650     0.0      366\n",
      "activity_intensity        int64           949650     0.0      29\n",
      "monetary_volume           float64         949650     0.0      700653\n",
      "utilisation_ratio         float64         949650     0.0      932\n",
      "reward_redemption_rate    float64         949650     0.0      989\n",
      "risk_flag                 bool            949650     0.0      2\n",
      "Memory usage: 213.74 MB\n",
      "\n",
      "🔍 Column Information:\n",
      "Column                    Type            Non-Null   Null %   Unique\n",
      "----------------------------------------------------------------------\n",
      "adopted                   bool            949650     0.0      2\n",
      "tenure_days               int64           949650     0.0      1826\n",
      "recency_days              int64           949650     0.0      366\n",
      "activity_intensity        int64           949650     0.0      29\n",
      "monetary_volume           float64         949650     0.0      700653\n",
      "utilisation_ratio         float64         949650     0.0      932\n",
      "reward_redemption_rate    float64         949650     0.0      989\n",
      "risk_flag                 bool            949650     0.0      2\n",
      "user_id                   object          949650     0.0      100000\n",
      "product_id                object          949650     0.0      1000\n",
      "user_id                   object          949650     0.0      100000\n",
      "product_id                object          949650     0.0      1000\n"
     ]
    }
   ],
   "source": [
    "# Function to analyze dataset structure\n",
    "def analyze_dataset_structure(df, dataset_name):\n",
    "    print(f\"\\n{'='*50}\")\n",
    "    print(f\"📋 {dataset_name.upper()} DATASET ANALYSIS\")\n",
    "    print(f\"{'='*50}\")\n",
    "    \n",
    "    print(f\"Shape: {df.shape}\")\n",
    "    print(f\"Memory usage: {df.memory_usage(deep=True).sum() / 1024**2:.2f} MB\")\n",
    "    \n",
    "    print(\"\\n🔍 Column Information:\")\n",
    "    print(f\"{'Column':<25} {'Type':<15} {'Non-Null':<10} {'Null %':<8} {'Unique'}\")\n",
    "    print(\"-\" * 70)\n",
    "    \n",
    "    for col in df.columns:\n",
    "        non_null = df[col].count()\n",
    "        null_pct = (1 - non_null/len(df)) * 100\n",
    "        unique_count = df[col].nunique()\n",
    "        dtype = str(df[col].dtype)\n",
    "        \n",
    "        print(f\"{col:<25} {dtype:<15} {non_null:<10} {null_pct:<8.1f} {unique_count}\")\n",
    "    \n",
    "    return df.dtypes, df.isnull().sum()\n",
    "\n",
    "# Analyze each dataset if available\n",
    "if 'customers' in locals():\n",
    "    customer_dtypes, customer_nulls = analyze_dataset_structure(customers, \"customers\")\n",
    "\n",
    "if 'products' in locals():\n",
    "    product_dtypes, product_nulls = analyze_dataset_structure(products, \"products\")\n",
    "    \n",
    "if 'adoption_logs' in locals():\n",
    "    adoption_dtypes, adoption_nulls = analyze_dataset_structure(adoption_logs, \"adoption_logs\")"
   ]
  },
  {
   "cell_type": "markdown",
   "id": "406ca639",
   "metadata": {},
   "source": [
    "### 1.2 Data Quality Assessment"
   ]
  },
  {
   "cell_type": "code",
   "execution_count": 4,
   "id": "90fe3bf0",
   "metadata": {},
   "outputs": [
    {
     "name": "stdout",
     "output_type": "stream",
     "text": [
      "\n",
      "🔍 CUSTOMERS Data Quality Summary:\n",
      "----------------------------------------\n",
      "⚠️  Columns with >10% missing values:\n",
      "   declined_offer_cat: 16.78%\n",
      "   season_flag: 20.12%\n",
      "⚠️  Columns with >10% missing values:\n",
      "   declined_offer_cat: 16.78%\n",
      "   season_flag: 20.12%\n",
      "🔄 Duplicate rows: 0 (0.00%)\n",
      "📊 Numeric columns: 19\n",
      "📝 Categorical columns: 17\n",
      "\n",
      "🔍 PRODUCTS Data Quality Summary:\n",
      "----------------------------------------\n",
      "✅ No columns with >10% missing values\n",
      "🔄 Duplicate rows: 0 (0.00%)\n",
      "📊 Numeric columns: 13\n",
      "📝 Categorical columns: 13\n",
      "\n",
      "🔍 ADOPTION LOGS Data Quality Summary:\n",
      "----------------------------------------\n",
      "✅ No columns with >10% missing values\n",
      "🔄 Duplicate rows: 0 (0.00%)\n",
      "📊 Numeric columns: 19\n",
      "📝 Categorical columns: 17\n",
      "\n",
      "🔍 PRODUCTS Data Quality Summary:\n",
      "----------------------------------------\n",
      "✅ No columns with >10% missing values\n",
      "🔄 Duplicate rows: 0 (0.00%)\n",
      "📊 Numeric columns: 13\n",
      "📝 Categorical columns: 13\n",
      "\n",
      "🔍 ADOPTION LOGS Data Quality Summary:\n",
      "----------------------------------------\n",
      "✅ No columns with >10% missing values\n",
      "🔄 Duplicate rows: 0 (0.00%)\n",
      "📊 Numeric columns: 6\n",
      "📝 Categorical columns: 2\n",
      "🔄 Duplicate rows: 0 (0.00%)\n",
      "📊 Numeric columns: 6\n",
      "📝 Categorical columns: 2\n"
     ]
    }
   ],
   "source": [
    "# Data Quality Summary\n",
    "def data_quality_summary(df, dataset_name):\n",
    "    print(f\"\\n🔍 {dataset_name} Data Quality Summary:\")\n",
    "    print(\"-\" * 40)\n",
    "    \n",
    "    # Missing values\n",
    "    missing_pct = (df.isnull().sum() / len(df) * 100).round(2)\n",
    "    high_missing = missing_pct[missing_pct > 10]\n",
    "    \n",
    "    if len(high_missing) > 0:\n",
    "        print(f\"⚠️  Columns with >10% missing values:\")\n",
    "        for col, pct in high_missing.items():\n",
    "            print(f\"   {col}: {pct}%\")\n",
    "    else:\n",
    "        print(\"✅ No columns with >10% missing values\")\n",
    "    \n",
    "    # Duplicate rows\n",
    "    duplicates = df.duplicated().sum()\n",
    "    print(f\"🔄 Duplicate rows: {duplicates} ({duplicates/len(df)*100:.2f}%)\")\n",
    "    \n",
    "    # Data types\n",
    "    numeric_cols = df.select_dtypes(include=[np.number]).columns.tolist()\n",
    "    categorical_cols = df.select_dtypes(include=['object']).columns.tolist()\n",
    "    \n",
    "    print(f\"📊 Numeric columns: {len(numeric_cols)}\")\n",
    "    print(f\"📝 Categorical columns: {len(categorical_cols)}\")\n",
    "    \n",
    "    return {\n",
    "        'missing_pct': missing_pct,\n",
    "        'duplicates': duplicates,\n",
    "        'numeric_cols': numeric_cols,\n",
    "        'categorical_cols': categorical_cols\n",
    "    }\n",
    "\n",
    "# Analyze data quality for each dataset\n",
    "datasets_quality = {}\n",
    "\n",
    "if 'customers' in locals():\n",
    "    datasets_quality['customers'] = data_quality_summary(customers, \"CUSTOMERS\")\n",
    "\n",
    "if 'products' in locals():\n",
    "    datasets_quality['products'] = data_quality_summary(products, \"PRODUCTS\")\n",
    "    \n",
    "if 'adoption_logs' in locals():\n",
    "    datasets_quality['adoption_logs'] = data_quality_summary(adoption_logs, \"ADOPTION LOGS\")"
   ]
  },
  {
   "cell_type": "markdown",
   "id": "a63f8e17",
   "metadata": {},
   "source": [
    "## 2. Products Dataset Analysis"
   ]
  },
  {
   "cell_type": "code",
   "execution_count": 5,
   "id": "23bfe042",
   "metadata": {},
   "outputs": [
    {
     "name": "stdout",
     "output_type": "stream",
     "text": [
      "📦 PRODUCTS DATASET DEEP DIVE\n",
      "==================================================\n",
      "\n",
      "🔍 Sample Data:\n"
     ]
    },
    {
     "data": {
      "application/vnd.microsoft.datawrangler.viewer.v0+json": {
       "columns": [
        {
         "name": "index",
         "rawType": "int64",
         "type": "integer"
        },
        {
         "name": "product_id",
         "rawType": "object",
         "type": "string"
        },
        {
         "name": "category",
         "rawType": "object",
         "type": "string"
        },
        {
         "name": "tier",
         "rawType": "object",
         "type": "string"
        },
        {
         "name": "apr",
         "rawType": "float64",
         "type": "float"
        },
        {
         "name": "reward_type",
         "rawType": "object",
         "type": "string"
        },
        {
         "name": "reward_value",
         "rawType": "float64",
         "type": "float"
        },
        {
         "name": "eligibility",
         "rawType": "object",
         "type": "string"
        },
        {
         "name": "tenor_months",
         "rawType": "int64",
         "type": "integer"
        },
        {
         "name": "risk_adj_margin",
         "rawType": "float64",
         "type": "float"
        },
        {
         "name": "hist_conv_rate",
         "rawType": "float64",
         "type": "float"
        },
        {
         "name": "hist_profit",
         "rawType": "float64",
         "type": "float"
        },
        {
         "name": "budget_remaining",
         "rawType": "float64",
         "type": "float"
        },
        {
         "name": "max_redemptions",
         "rawType": "int64",
         "type": "integer"
        },
        {
         "name": "offer_dates",
         "rawType": "object",
         "type": "string"
        },
        {
         "name": "launch_recency_days",
         "rawType": "int64",
         "type": "integer"
        },
        {
         "name": "compliance_tag",
         "rawType": "object",
         "type": "string"
        },
        {
         "name": "channels",
         "rawType": "object",
         "type": "string"
        },
        {
         "name": "target_segments",
         "rawType": "object",
         "type": "string"
        },
        {
         "name": "geo_applic",
         "rawType": "object",
         "type": "string"
        },
        {
         "name": "merchant_industry",
         "rawType": "object",
         "type": "string"
        },
        {
         "name": "cost_to_bank",
         "rawType": "float64",
         "type": "float"
        },
        {
         "name": "expected_utility",
         "rawType": "float64",
         "type": "float"
        },
        {
         "name": "cross_sell_score",
         "rawType": "float64",
         "type": "float"
        },
        {
         "name": "bundle_depth",
         "rawType": "int64",
         "type": "integer"
        },
        {
         "name": "valid_window",
         "rawType": "object",
         "type": "string"
        },
        {
         "name": "popularity_trend",
         "rawType": "object",
         "type": "string"
        }
       ],
       "ref": "3893f9a7-61a8-4755-abc7-c02fa2259e92",
       "rows": [
        [
         "0",
         "74cf7050-cd3a-4f02-a146-58e8bc5e0b97",
         "DebitCard",
         "Signature",
         "11.47",
         "Gift",
         "7.56",
         "Age>=18 & IncomeTier in ['Upper-Middle','High','Affluent']",
         "3",
         "2.18",
         "0.022",
         "35.63",
         "377169.93",
         "27041",
         "{'start': '2025-04-19', 'end': '2025-05-30'}",
         "1443",
         "UsurySafe",
         "['Branch']",
         "['Expat', 'Family']",
         "Central",
         "E-commerce",
         "17.49",
         "0.62",
         "0.687",
         "2",
         "{'start': '21:00', 'end': '03:00'}",
         "Declining"
        ],
        [
         "1",
         "1dd25b44-395b-4c3d-afcc-52fede816f8a",
         "PersonalLoan",
         "Gold",
         "10.87",
         "Discount",
         "9.23",
         "OccupationCode='TECH' & SalaryCreditedMonthly>=1000 USD",
         "6",
         "2.77",
         "0.065",
         "37.97",
         "227666.28",
         "17286",
         "{'start': '2025-04-08', 'end': '2025-07-08'}",
         "910",
         "FXReg",
         "['Branch', 'Web', 'CallCenter']",
         "['Retiree', 'HighRoller', 'SME_Owner']",
         "Hanoi_Metro",
         "Airlines",
         "88.52",
         "0.534",
         "0.862",
         "3",
         "{'start': '02:00', 'end': '10:00'}",
         "Rising"
        ],
        [
         "2",
         "9811bf22-bbdd-453b-a07d-0b9dfa8bd759",
         "Overdraft",
         "Gold",
         "3.74",
         "Cashback",
         "23.14",
         "OccupationCode='TECH' & SalaryCreditedMonthly>=1000 USD",
         "3",
         "1.38",
         "0.123",
         "25.27",
         "447756.13",
         "19814",
         "{'start': '2025-04-11', 'end': '2025-04-26'}",
         "903",
         "UsurySafe",
         "['Web', 'Branch']",
         "['Millennial']",
         "Abroad",
         "Electronics",
         "54.93",
         "0.822",
         "0.366",
         "4",
         "{'start': '04:00', 'end': '06:00'}",
         "Declining"
        ],
        [
         "3",
         "a9c47675-8621-4620-89d7-93927e5d1a97",
         "FXTransfer",
         "Infinite",
         "10.09",
         "Points",
         "37.13",
         "OccupationCode='TECH' & SalaryCreditedMonthly>=1000 USD",
         "36",
         "1.84",
         "0.15",
         "28.01",
         "145886.57",
         "7965",
         "{'start': '2025-05-22', 'end': '2025-08-30'}",
         "809",
         "ConsumerLendingRule",
         "['Mobile', 'ATM', 'CallCenter', 'Branch', 'Web']",
         "['Retiree', 'HighRoller']",
         "Abroad",
         "Healthcare",
         "44.3",
         "0.632",
         "0.404",
         "3",
         "{'start': '00:00', 'end': '02:00'}",
         "Declining"
        ],
        [
         "4",
         "da2ff860-c86b-48bb-be83-d36b7b4bafb2",
         "Insurance",
         "Gold",
         "6.87",
         "Cashback",
         "16.5",
         "Holding<'FXTransfer'>=False & ChurnRisk<0.4",
         "3",
         "2.25",
         "0.06",
         "147.88",
         "307201.98",
         "19906",
         "{'start': '2025-05-31', 'end': '2025-09-07'}",
         "721",
         "UsurySafe",
         "['ATM', 'CallCenter', 'Branch', 'Web']",
         "['Traveler']",
         "Hanoi_Metro",
         "Fuel",
         "22.5",
         "0.918",
         "0.771",
         "4",
         "{'start': '09:00', 'end': '13:00'}",
         "Rising"
        ]
       ],
       "shape": {
        "columns": 26,
        "rows": 5
       }
      },
      "text/html": [
       "<div>\n",
       "<style scoped>\n",
       "    .dataframe tbody tr th:only-of-type {\n",
       "        vertical-align: middle;\n",
       "    }\n",
       "\n",
       "    .dataframe tbody tr th {\n",
       "        vertical-align: top;\n",
       "    }\n",
       "\n",
       "    .dataframe thead th {\n",
       "        text-align: right;\n",
       "    }\n",
       "</style>\n",
       "<table border=\"1\" class=\"dataframe\">\n",
       "  <thead>\n",
       "    <tr style=\"text-align: right;\">\n",
       "      <th></th>\n",
       "      <th>product_id</th>\n",
       "      <th>category</th>\n",
       "      <th>tier</th>\n",
       "      <th>apr</th>\n",
       "      <th>reward_type</th>\n",
       "      <th>reward_value</th>\n",
       "      <th>eligibility</th>\n",
       "      <th>tenor_months</th>\n",
       "      <th>risk_adj_margin</th>\n",
       "      <th>hist_conv_rate</th>\n",
       "      <th>hist_profit</th>\n",
       "      <th>budget_remaining</th>\n",
       "      <th>max_redemptions</th>\n",
       "      <th>offer_dates</th>\n",
       "      <th>launch_recency_days</th>\n",
       "      <th>compliance_tag</th>\n",
       "      <th>channels</th>\n",
       "      <th>target_segments</th>\n",
       "      <th>geo_applic</th>\n",
       "      <th>merchant_industry</th>\n",
       "      <th>cost_to_bank</th>\n",
       "      <th>expected_utility</th>\n",
       "      <th>cross_sell_score</th>\n",
       "      <th>bundle_depth</th>\n",
       "      <th>valid_window</th>\n",
       "      <th>popularity_trend</th>\n",
       "    </tr>\n",
       "  </thead>\n",
       "  <tbody>\n",
       "    <tr>\n",
       "      <th>0</th>\n",
       "      <td>74cf7050-cd3a-4f02-a146-58e8bc5e0b97</td>\n",
       "      <td>DebitCard</td>\n",
       "      <td>Signature</td>\n",
       "      <td>11.47</td>\n",
       "      <td>Gift</td>\n",
       "      <td>7.56</td>\n",
       "      <td>Age&gt;=18 &amp; IncomeTier in ['Upper-Middle','High'...</td>\n",
       "      <td>3</td>\n",
       "      <td>2.18</td>\n",
       "      <td>0.022</td>\n",
       "      <td>35.63</td>\n",
       "      <td>377169.93</td>\n",
       "      <td>27041</td>\n",
       "      <td>{'start': '2025-04-19', 'end': '2025-05-30'}</td>\n",
       "      <td>1443</td>\n",
       "      <td>UsurySafe</td>\n",
       "      <td>['Branch']</td>\n",
       "      <td>['Expat', 'Family']</td>\n",
       "      <td>Central</td>\n",
       "      <td>E-commerce</td>\n",
       "      <td>17.49</td>\n",
       "      <td>0.620</td>\n",
       "      <td>0.687</td>\n",
       "      <td>2</td>\n",
       "      <td>{'start': '21:00', 'end': '03:00'}</td>\n",
       "      <td>Declining</td>\n",
       "    </tr>\n",
       "    <tr>\n",
       "      <th>1</th>\n",
       "      <td>1dd25b44-395b-4c3d-afcc-52fede816f8a</td>\n",
       "      <td>PersonalLoan</td>\n",
       "      <td>Gold</td>\n",
       "      <td>10.87</td>\n",
       "      <td>Discount</td>\n",
       "      <td>9.23</td>\n",
       "      <td>OccupationCode='TECH' &amp; SalaryCreditedMonthly&gt;...</td>\n",
       "      <td>6</td>\n",
       "      <td>2.77</td>\n",
       "      <td>0.065</td>\n",
       "      <td>37.97</td>\n",
       "      <td>227666.28</td>\n",
       "      <td>17286</td>\n",
       "      <td>{'start': '2025-04-08', 'end': '2025-07-08'}</td>\n",
       "      <td>910</td>\n",
       "      <td>FXReg</td>\n",
       "      <td>['Branch', 'Web', 'CallCenter']</td>\n",
       "      <td>['Retiree', 'HighRoller', 'SME_Owner']</td>\n",
       "      <td>Hanoi_Metro</td>\n",
       "      <td>Airlines</td>\n",
       "      <td>88.52</td>\n",
       "      <td>0.534</td>\n",
       "      <td>0.862</td>\n",
       "      <td>3</td>\n",
       "      <td>{'start': '02:00', 'end': '10:00'}</td>\n",
       "      <td>Rising</td>\n",
       "    </tr>\n",
       "    <tr>\n",
       "      <th>2</th>\n",
       "      <td>9811bf22-bbdd-453b-a07d-0b9dfa8bd759</td>\n",
       "      <td>Overdraft</td>\n",
       "      <td>Gold</td>\n",
       "      <td>3.74</td>\n",
       "      <td>Cashback</td>\n",
       "      <td>23.14</td>\n",
       "      <td>OccupationCode='TECH' &amp; SalaryCreditedMonthly&gt;...</td>\n",
       "      <td>3</td>\n",
       "      <td>1.38</td>\n",
       "      <td>0.123</td>\n",
       "      <td>25.27</td>\n",
       "      <td>447756.13</td>\n",
       "      <td>19814</td>\n",
       "      <td>{'start': '2025-04-11', 'end': '2025-04-26'}</td>\n",
       "      <td>903</td>\n",
       "      <td>UsurySafe</td>\n",
       "      <td>['Web', 'Branch']</td>\n",
       "      <td>['Millennial']</td>\n",
       "      <td>Abroad</td>\n",
       "      <td>Electronics</td>\n",
       "      <td>54.93</td>\n",
       "      <td>0.822</td>\n",
       "      <td>0.366</td>\n",
       "      <td>4</td>\n",
       "      <td>{'start': '04:00', 'end': '06:00'}</td>\n",
       "      <td>Declining</td>\n",
       "    </tr>\n",
       "    <tr>\n",
       "      <th>3</th>\n",
       "      <td>a9c47675-8621-4620-89d7-93927e5d1a97</td>\n",
       "      <td>FXTransfer</td>\n",
       "      <td>Infinite</td>\n",
       "      <td>10.09</td>\n",
       "      <td>Points</td>\n",
       "      <td>37.13</td>\n",
       "      <td>OccupationCode='TECH' &amp; SalaryCreditedMonthly&gt;...</td>\n",
       "      <td>36</td>\n",
       "      <td>1.84</td>\n",
       "      <td>0.150</td>\n",
       "      <td>28.01</td>\n",
       "      <td>145886.57</td>\n",
       "      <td>7965</td>\n",
       "      <td>{'start': '2025-05-22', 'end': '2025-08-30'}</td>\n",
       "      <td>809</td>\n",
       "      <td>ConsumerLendingRule</td>\n",
       "      <td>['Mobile', 'ATM', 'CallCenter', 'Branch', 'Web']</td>\n",
       "      <td>['Retiree', 'HighRoller']</td>\n",
       "      <td>Abroad</td>\n",
       "      <td>Healthcare</td>\n",
       "      <td>44.30</td>\n",
       "      <td>0.632</td>\n",
       "      <td>0.404</td>\n",
       "      <td>3</td>\n",
       "      <td>{'start': '00:00', 'end': '02:00'}</td>\n",
       "      <td>Declining</td>\n",
       "    </tr>\n",
       "    <tr>\n",
       "      <th>4</th>\n",
       "      <td>da2ff860-c86b-48bb-be83-d36b7b4bafb2</td>\n",
       "      <td>Insurance</td>\n",
       "      <td>Gold</td>\n",
       "      <td>6.87</td>\n",
       "      <td>Cashback</td>\n",
       "      <td>16.50</td>\n",
       "      <td>Holding&lt;'FXTransfer'&gt;=False &amp; ChurnRisk&lt;0.4</td>\n",
       "      <td>3</td>\n",
       "      <td>2.25</td>\n",
       "      <td>0.060</td>\n",
       "      <td>147.88</td>\n",
       "      <td>307201.98</td>\n",
       "      <td>19906</td>\n",
       "      <td>{'start': '2025-05-31', 'end': '2025-09-07'}</td>\n",
       "      <td>721</td>\n",
       "      <td>UsurySafe</td>\n",
       "      <td>['ATM', 'CallCenter', 'Branch', 'Web']</td>\n",
       "      <td>['Traveler']</td>\n",
       "      <td>Hanoi_Metro</td>\n",
       "      <td>Fuel</td>\n",
       "      <td>22.50</td>\n",
       "      <td>0.918</td>\n",
       "      <td>0.771</td>\n",
       "      <td>4</td>\n",
       "      <td>{'start': '09:00', 'end': '13:00'}</td>\n",
       "      <td>Rising</td>\n",
       "    </tr>\n",
       "  </tbody>\n",
       "</table>\n",
       "</div>"
      ],
      "text/plain": [
       "                             product_id      category       tier    apr  \\\n",
       "0  74cf7050-cd3a-4f02-a146-58e8bc5e0b97     DebitCard  Signature  11.47   \n",
       "1  1dd25b44-395b-4c3d-afcc-52fede816f8a  PersonalLoan       Gold  10.87   \n",
       "2  9811bf22-bbdd-453b-a07d-0b9dfa8bd759     Overdraft       Gold   3.74   \n",
       "3  a9c47675-8621-4620-89d7-93927e5d1a97    FXTransfer   Infinite  10.09   \n",
       "4  da2ff860-c86b-48bb-be83-d36b7b4bafb2     Insurance       Gold   6.87   \n",
       "\n",
       "  reward_type  reward_value  \\\n",
       "0        Gift          7.56   \n",
       "1    Discount          9.23   \n",
       "2    Cashback         23.14   \n",
       "3      Points         37.13   \n",
       "4    Cashback         16.50   \n",
       "\n",
       "                                         eligibility  tenor_months  \\\n",
       "0  Age>=18 & IncomeTier in ['Upper-Middle','High'...             3   \n",
       "1  OccupationCode='TECH' & SalaryCreditedMonthly>...             6   \n",
       "2  OccupationCode='TECH' & SalaryCreditedMonthly>...             3   \n",
       "3  OccupationCode='TECH' & SalaryCreditedMonthly>...            36   \n",
       "4        Holding<'FXTransfer'>=False & ChurnRisk<0.4             3   \n",
       "\n",
       "   risk_adj_margin  hist_conv_rate  hist_profit  budget_remaining  \\\n",
       "0             2.18           0.022        35.63         377169.93   \n",
       "1             2.77           0.065        37.97         227666.28   \n",
       "2             1.38           0.123        25.27         447756.13   \n",
       "3             1.84           0.150        28.01         145886.57   \n",
       "4             2.25           0.060       147.88         307201.98   \n",
       "\n",
       "   max_redemptions                                   offer_dates  \\\n",
       "0            27041  {'start': '2025-04-19', 'end': '2025-05-30'}   \n",
       "1            17286  {'start': '2025-04-08', 'end': '2025-07-08'}   \n",
       "2            19814  {'start': '2025-04-11', 'end': '2025-04-26'}   \n",
       "3             7965  {'start': '2025-05-22', 'end': '2025-08-30'}   \n",
       "4            19906  {'start': '2025-05-31', 'end': '2025-09-07'}   \n",
       "\n",
       "   launch_recency_days       compliance_tag  \\\n",
       "0                 1443            UsurySafe   \n",
       "1                  910                FXReg   \n",
       "2                  903            UsurySafe   \n",
       "3                  809  ConsumerLendingRule   \n",
       "4                  721            UsurySafe   \n",
       "\n",
       "                                           channels  \\\n",
       "0                                        ['Branch']   \n",
       "1                   ['Branch', 'Web', 'CallCenter']   \n",
       "2                                 ['Web', 'Branch']   \n",
       "3  ['Mobile', 'ATM', 'CallCenter', 'Branch', 'Web']   \n",
       "4            ['ATM', 'CallCenter', 'Branch', 'Web']   \n",
       "\n",
       "                          target_segments   geo_applic merchant_industry  \\\n",
       "0                     ['Expat', 'Family']      Central        E-commerce   \n",
       "1  ['Retiree', 'HighRoller', 'SME_Owner']  Hanoi_Metro          Airlines   \n",
       "2                          ['Millennial']       Abroad       Electronics   \n",
       "3               ['Retiree', 'HighRoller']       Abroad        Healthcare   \n",
       "4                            ['Traveler']  Hanoi_Metro              Fuel   \n",
       "\n",
       "   cost_to_bank  expected_utility  cross_sell_score  bundle_depth  \\\n",
       "0         17.49             0.620             0.687             2   \n",
       "1         88.52             0.534             0.862             3   \n",
       "2         54.93             0.822             0.366             4   \n",
       "3         44.30             0.632             0.404             3   \n",
       "4         22.50             0.918             0.771             4   \n",
       "\n",
       "                         valid_window popularity_trend  \n",
       "0  {'start': '21:00', 'end': '03:00'}        Declining  \n",
       "1  {'start': '02:00', 'end': '10:00'}           Rising  \n",
       "2  {'start': '04:00', 'end': '06:00'}        Declining  \n",
       "3  {'start': '00:00', 'end': '02:00'}        Declining  \n",
       "4  {'start': '09:00', 'end': '13:00'}           Rising  "
      ]
     },
     "metadata": {},
     "output_type": "display_data"
    },
    {
     "name": "stdout",
     "output_type": "stream",
     "text": [
      "\n",
      "📊 Numeric Features Statistics:\n"
     ]
    },
    {
     "data": {
      "application/vnd.microsoft.datawrangler.viewer.v0+json": {
       "columns": [
        {
         "name": "index",
         "rawType": "object",
         "type": "string"
        },
        {
         "name": "apr",
         "rawType": "float64",
         "type": "float"
        },
        {
         "name": "reward_value",
         "rawType": "float64",
         "type": "float"
        },
        {
         "name": "tenor_months",
         "rawType": "float64",
         "type": "float"
        },
        {
         "name": "risk_adj_margin",
         "rawType": "float64",
         "type": "float"
        },
        {
         "name": "hist_conv_rate",
         "rawType": "float64",
         "type": "float"
        },
        {
         "name": "hist_profit",
         "rawType": "float64",
         "type": "float"
        },
        {
         "name": "budget_remaining",
         "rawType": "float64",
         "type": "float"
        },
        {
         "name": "max_redemptions",
         "rawType": "float64",
         "type": "float"
        },
        {
         "name": "launch_recency_days",
         "rawType": "float64",
         "type": "float"
        },
        {
         "name": "cost_to_bank",
         "rawType": "float64",
         "type": "float"
        },
        {
         "name": "expected_utility",
         "rawType": "float64",
         "type": "float"
        },
        {
         "name": "cross_sell_score",
         "rawType": "float64",
         "type": "float"
        },
        {
         "name": "bundle_depth",
         "rawType": "float64",
         "type": "float"
        }
       ],
       "ref": "0ff93858-ba48-462f-b58a-b13d4717e651",
       "rows": [
        [
         "count",
         "1000.0",
         "1000.0",
         "1000.0",
         "1000.0",
         "1000.0",
         "1000.0",
         "1000.0",
         "1000.0",
         "1000.0",
         "1000.0",
         "1000.0",
         "1000.0",
         "1000.0"
        ],
        [
         "mean",
         "8.0989",
         "15.312010000000003",
         "20.717",
         "2.44262",
         "0.11726099999999999",
         "78.83901000000002",
         "249788.61604000002",
         "25314.834",
         "909.257",
         "28.43461",
         "0.6026710000000001",
         "0.5012369999999999",
         "2.534"
        ],
        [
         "std",
         "2.9930147556147007",
         "11.335510613146669",
         "20.039223574816504",
         "0.7884313283727122",
         "0.07710418882872015",
         "90.99063183648029",
         "139749.3455065768",
         "14295.379508769389",
         "505.5103120873269",
         "26.02684905476688",
         "0.20131393906299946",
         "0.20268933814781379",
         "1.1108906688230298"
        ],
        [
         "min",
         "0.5",
         "1.63",
         "1.0",
         "-0.11",
         "0.002",
         "2.8",
         "5820.38",
         "106.0",
         "2.0",
         "2.14",
         "0.038",
         "0.023",
         "1.0"
        ],
        [
         "25%",
         "6.0825",
         "7.577500000000001",
         "3.0",
         "1.94",
         "0.058",
         "30.4725",
         "128367.425",
         "12709.5",
         "492.0",
         "12.4875",
         "0.463",
         "0.34375",
         "2.0"
        ],
        [
         "50%",
         "7.995",
         "12.175",
         "12.0",
         "2.44",
         "0.1",
         "52.805",
         "253218.965",
         "25848.0",
         "915.0",
         "20.605",
         "0.622",
         "0.506",
         "3.0"
        ],
        [
         "75%",
         "10.13",
         "19.33",
         "36.0",
         "2.98",
         "0.159",
         "95.44",
         "364379.26",
         "37009.75",
         "1345.0",
         "35.075",
         "0.759",
         "0.65825",
         "3.25"
        ],
        [
         "max",
         "18.86",
         "85.44",
         "60.0",
         "4.65",
         "0.446",
         "1481.07",
         "499506.69",
         "49941.0",
         "1799.0",
         "250.75",
         "0.996",
         "0.954",
         "4.0"
        ]
       ],
       "shape": {
        "columns": 13,
        "rows": 8
       }
      },
      "text/html": [
       "<div>\n",
       "<style scoped>\n",
       "    .dataframe tbody tr th:only-of-type {\n",
       "        vertical-align: middle;\n",
       "    }\n",
       "\n",
       "    .dataframe tbody tr th {\n",
       "        vertical-align: top;\n",
       "    }\n",
       "\n",
       "    .dataframe thead th {\n",
       "        text-align: right;\n",
       "    }\n",
       "</style>\n",
       "<table border=\"1\" class=\"dataframe\">\n",
       "  <thead>\n",
       "    <tr style=\"text-align: right;\">\n",
       "      <th></th>\n",
       "      <th>apr</th>\n",
       "      <th>reward_value</th>\n",
       "      <th>tenor_months</th>\n",
       "      <th>risk_adj_margin</th>\n",
       "      <th>hist_conv_rate</th>\n",
       "      <th>hist_profit</th>\n",
       "      <th>budget_remaining</th>\n",
       "      <th>max_redemptions</th>\n",
       "      <th>launch_recency_days</th>\n",
       "      <th>cost_to_bank</th>\n",
       "      <th>expected_utility</th>\n",
       "      <th>cross_sell_score</th>\n",
       "      <th>bundle_depth</th>\n",
       "    </tr>\n",
       "  </thead>\n",
       "  <tbody>\n",
       "    <tr>\n",
       "      <th>count</th>\n",
       "      <td>1000.000000</td>\n",
       "      <td>1000.000000</td>\n",
       "      <td>1000.000000</td>\n",
       "      <td>1000.000000</td>\n",
       "      <td>1000.000000</td>\n",
       "      <td>1000.000000</td>\n",
       "      <td>1000.000000</td>\n",
       "      <td>1000.000000</td>\n",
       "      <td>1000.000000</td>\n",
       "      <td>1000.000000</td>\n",
       "      <td>1000.000000</td>\n",
       "      <td>1000.000000</td>\n",
       "      <td>1000.000000</td>\n",
       "    </tr>\n",
       "    <tr>\n",
       "      <th>mean</th>\n",
       "      <td>8.098900</td>\n",
       "      <td>15.312010</td>\n",
       "      <td>20.717000</td>\n",
       "      <td>2.442620</td>\n",
       "      <td>0.117261</td>\n",
       "      <td>78.839010</td>\n",
       "      <td>249788.616040</td>\n",
       "      <td>25314.834000</td>\n",
       "      <td>909.257000</td>\n",
       "      <td>28.434610</td>\n",
       "      <td>0.602671</td>\n",
       "      <td>0.501237</td>\n",
       "      <td>2.534000</td>\n",
       "    </tr>\n",
       "    <tr>\n",
       "      <th>std</th>\n",
       "      <td>2.993015</td>\n",
       "      <td>11.335511</td>\n",
       "      <td>20.039224</td>\n",
       "      <td>0.788431</td>\n",
       "      <td>0.077104</td>\n",
       "      <td>90.990632</td>\n",
       "      <td>139749.345507</td>\n",
       "      <td>14295.379509</td>\n",
       "      <td>505.510312</td>\n",
       "      <td>26.026849</td>\n",
       "      <td>0.201314</td>\n",
       "      <td>0.202689</td>\n",
       "      <td>1.110891</td>\n",
       "    </tr>\n",
       "    <tr>\n",
       "      <th>min</th>\n",
       "      <td>0.500000</td>\n",
       "      <td>1.630000</td>\n",
       "      <td>1.000000</td>\n",
       "      <td>-0.110000</td>\n",
       "      <td>0.002000</td>\n",
       "      <td>2.800000</td>\n",
       "      <td>5820.380000</td>\n",
       "      <td>106.000000</td>\n",
       "      <td>2.000000</td>\n",
       "      <td>2.140000</td>\n",
       "      <td>0.038000</td>\n",
       "      <td>0.023000</td>\n",
       "      <td>1.000000</td>\n",
       "    </tr>\n",
       "    <tr>\n",
       "      <th>25%</th>\n",
       "      <td>6.082500</td>\n",
       "      <td>7.577500</td>\n",
       "      <td>3.000000</td>\n",
       "      <td>1.940000</td>\n",
       "      <td>0.058000</td>\n",
       "      <td>30.472500</td>\n",
       "      <td>128367.425000</td>\n",
       "      <td>12709.500000</td>\n",
       "      <td>492.000000</td>\n",
       "      <td>12.487500</td>\n",
       "      <td>0.463000</td>\n",
       "      <td>0.343750</td>\n",
       "      <td>2.000000</td>\n",
       "    </tr>\n",
       "    <tr>\n",
       "      <th>50%</th>\n",
       "      <td>7.995000</td>\n",
       "      <td>12.175000</td>\n",
       "      <td>12.000000</td>\n",
       "      <td>2.440000</td>\n",
       "      <td>0.100000</td>\n",
       "      <td>52.805000</td>\n",
       "      <td>253218.965000</td>\n",
       "      <td>25848.000000</td>\n",
       "      <td>915.000000</td>\n",
       "      <td>20.605000</td>\n",
       "      <td>0.622000</td>\n",
       "      <td>0.506000</td>\n",
       "      <td>3.000000</td>\n",
       "    </tr>\n",
       "    <tr>\n",
       "      <th>75%</th>\n",
       "      <td>10.130000</td>\n",
       "      <td>19.330000</td>\n",
       "      <td>36.000000</td>\n",
       "      <td>2.980000</td>\n",
       "      <td>0.159000</td>\n",
       "      <td>95.440000</td>\n",
       "      <td>364379.260000</td>\n",
       "      <td>37009.750000</td>\n",
       "      <td>1345.000000</td>\n",
       "      <td>35.075000</td>\n",
       "      <td>0.759000</td>\n",
       "      <td>0.658250</td>\n",
       "      <td>3.250000</td>\n",
       "    </tr>\n",
       "    <tr>\n",
       "      <th>max</th>\n",
       "      <td>18.860000</td>\n",
       "      <td>85.440000</td>\n",
       "      <td>60.000000</td>\n",
       "      <td>4.650000</td>\n",
       "      <td>0.446000</td>\n",
       "      <td>1481.070000</td>\n",
       "      <td>499506.690000</td>\n",
       "      <td>49941.000000</td>\n",
       "      <td>1799.000000</td>\n",
       "      <td>250.750000</td>\n",
       "      <td>0.996000</td>\n",
       "      <td>0.954000</td>\n",
       "      <td>4.000000</td>\n",
       "    </tr>\n",
       "  </tbody>\n",
       "</table>\n",
       "</div>"
      ],
      "text/plain": [
       "               apr  reward_value  tenor_months  risk_adj_margin  \\\n",
       "count  1000.000000   1000.000000   1000.000000      1000.000000   \n",
       "mean      8.098900     15.312010     20.717000         2.442620   \n",
       "std       2.993015     11.335511     20.039224         0.788431   \n",
       "min       0.500000      1.630000      1.000000        -0.110000   \n",
       "25%       6.082500      7.577500      3.000000         1.940000   \n",
       "50%       7.995000     12.175000     12.000000         2.440000   \n",
       "75%      10.130000     19.330000     36.000000         2.980000   \n",
       "max      18.860000     85.440000     60.000000         4.650000   \n",
       "\n",
       "       hist_conv_rate  hist_profit  budget_remaining  max_redemptions  \\\n",
       "count     1000.000000  1000.000000       1000.000000      1000.000000   \n",
       "mean         0.117261    78.839010     249788.616040     25314.834000   \n",
       "std          0.077104    90.990632     139749.345507     14295.379509   \n",
       "min          0.002000     2.800000       5820.380000       106.000000   \n",
       "25%          0.058000    30.472500     128367.425000     12709.500000   \n",
       "50%          0.100000    52.805000     253218.965000     25848.000000   \n",
       "75%          0.159000    95.440000     364379.260000     37009.750000   \n",
       "max          0.446000  1481.070000     499506.690000     49941.000000   \n",
       "\n",
       "       launch_recency_days  cost_to_bank  expected_utility  cross_sell_score  \\\n",
       "count          1000.000000   1000.000000       1000.000000       1000.000000   \n",
       "mean            909.257000     28.434610          0.602671          0.501237   \n",
       "std             505.510312     26.026849          0.201314          0.202689   \n",
       "min               2.000000      2.140000          0.038000          0.023000   \n",
       "25%             492.000000     12.487500          0.463000          0.343750   \n",
       "50%             915.000000     20.605000          0.622000          0.506000   \n",
       "75%            1345.000000     35.075000          0.759000          0.658250   \n",
       "max            1799.000000    250.750000          0.996000          0.954000   \n",
       "\n",
       "       bundle_depth  \n",
       "count   1000.000000  \n",
       "mean       2.534000  \n",
       "std        1.110891  \n",
       "min        1.000000  \n",
       "25%        2.000000  \n",
       "50%        3.000000  \n",
       "75%        3.250000  \n",
       "max        4.000000  "
      ]
     },
     "metadata": {},
     "output_type": "display_data"
    }
   ],
   "source": [
    "# Detailed analysis of products dataset\n",
    "if 'products' in locals():\n",
    "    print(\"📦 PRODUCTS DATASET DEEP DIVE\")\n",
    "    print(\"=\" * 50)\n",
    "    \n",
    "    # Display first few rows\n",
    "    print(\"\\n🔍 Sample Data:\")\n",
    "    display(products.head())\n",
    "    \n",
    "    # Basic statistics for numeric columns\n",
    "    print(\"\\n📊 Numeric Features Statistics:\")\n",
    "    numeric_cols = products.select_dtypes(include=[np.number]).columns\n",
    "    display(products[numeric_cols].describe())"
   ]
  },
  {
   "cell_type": "code",
   "execution_count": 6,
   "id": "32cb6779",
   "metadata": {},
   "outputs": [
    {
     "data": {
      "application/vnd.plotly.v1+json": {
       "config": {
        "plotlyServerURL": "https://plot.ly"
       },
       "data": [
        {
         "domain": {
          "x": [
           0,
           0.45
          ],
          "y": [
           0.625,
           1
          ]
         },
         "labels": [
          "SavingsAccount",
          "Mortgage",
          "Overdraft",
          "PersonalLoan",
          "FXTransfer",
          "DebitCard",
          "InvestmentFund",
          "FixedDeposit",
          "CreditCard",
          "Insurance"
         ],
         "name": "Categories",
         "type": "pie",
         "values": {
          "bdata": "bWxnZmZlY2BbWQ==",
          "dtype": "i1"
         }
        },
        {
         "domain": {
          "x": [
           0.55,
           1
          ],
          "y": [
           0.625,
           1
          ]
         },
         "labels": [
          "Standard",
          "Gold",
          "Signature",
          "Platinum",
          "Infinite"
         ],
         "name": "Tiers",
         "type": "pie",
         "values": {
          "bdata": "4wDQAMYAugC1AA==",
          "dtype": "i2"
         }
        },
        {
         "domain": {
          "x": [
           0,
           0.45
          ],
          "y": [
           0,
           0.375
          ]
         },
         "labels": [
          "Gift",
          "Cashback",
          "Miles",
          "Discount",
          "Points"
         ],
         "name": "Rewards",
         "type": "pie",
         "values": {
          "bdata": "1ADOAM0AyACxAA==",
          "dtype": "i2"
         }
        },
        {
         "domain": {
          "x": [
           0.55,
           1
          ],
          "y": [
           0,
           0.375
          ]
         },
         "labels": [
          "North",
          "Central",
          "Hanoi_Metro",
          "HCMC_Metro",
          "South",
          "Abroad"
         ],
         "name": "Geography",
         "type": "pie",
         "values": {
          "bdata": "tQCvAKkApgCkAJEA",
          "dtype": "i2"
         }
        }
       ],
       "layout": {
        "annotations": [
         {
          "font": {
           "size": 16
          },
          "showarrow": false,
          "text": "Product Categories",
          "x": 0.225,
          "xanchor": "center",
          "xref": "paper",
          "y": 1,
          "yanchor": "bottom",
          "yref": "paper"
         },
         {
          "font": {
           "size": 16
          },
          "showarrow": false,
          "text": "Product Tiers",
          "x": 0.775,
          "xanchor": "center",
          "xref": "paper",
          "y": 1,
          "yanchor": "bottom",
          "yref": "paper"
         },
         {
          "font": {
           "size": 16
          },
          "showarrow": false,
          "text": "Reward Types",
          "x": 0.225,
          "xanchor": "center",
          "xref": "paper",
          "y": 0.375,
          "yanchor": "bottom",
          "yref": "paper"
         },
         {
          "font": {
           "size": 16
          },
          "showarrow": false,
          "text": "Geographic Coverage",
          "x": 0.775,
          "xanchor": "center",
          "xref": "paper",
          "y": 0.375,
          "yanchor": "bottom",
          "yref": "paper"
         }
        ],
        "height": 800,
        "template": {
         "data": {
          "bar": [
           {
            "error_x": {
             "color": "#2a3f5f"
            },
            "error_y": {
             "color": "#2a3f5f"
            },
            "marker": {
             "line": {
              "color": "#E5ECF6",
              "width": 0.5
             },
             "pattern": {
              "fillmode": "overlay",
              "size": 10,
              "solidity": 0.2
             }
            },
            "type": "bar"
           }
          ],
          "barpolar": [
           {
            "marker": {
             "line": {
              "color": "#E5ECF6",
              "width": 0.5
             },
             "pattern": {
              "fillmode": "overlay",
              "size": 10,
              "solidity": 0.2
             }
            },
            "type": "barpolar"
           }
          ],
          "carpet": [
           {
            "aaxis": {
             "endlinecolor": "#2a3f5f",
             "gridcolor": "white",
             "linecolor": "white",
             "minorgridcolor": "white",
             "startlinecolor": "#2a3f5f"
            },
            "baxis": {
             "endlinecolor": "#2a3f5f",
             "gridcolor": "white",
             "linecolor": "white",
             "minorgridcolor": "white",
             "startlinecolor": "#2a3f5f"
            },
            "type": "carpet"
           }
          ],
          "choropleth": [
           {
            "colorbar": {
             "outlinewidth": 0,
             "ticks": ""
            },
            "type": "choropleth"
           }
          ],
          "contour": [
           {
            "colorbar": {
             "outlinewidth": 0,
             "ticks": ""
            },
            "colorscale": [
             [
              0,
              "#0d0887"
             ],
             [
              0.1111111111111111,
              "#46039f"
             ],
             [
              0.2222222222222222,
              "#7201a8"
             ],
             [
              0.3333333333333333,
              "#9c179e"
             ],
             [
              0.4444444444444444,
              "#bd3786"
             ],
             [
              0.5555555555555556,
              "#d8576b"
             ],
             [
              0.6666666666666666,
              "#ed7953"
             ],
             [
              0.7777777777777778,
              "#fb9f3a"
             ],
             [
              0.8888888888888888,
              "#fdca26"
             ],
             [
              1,
              "#f0f921"
             ]
            ],
            "type": "contour"
           }
          ],
          "contourcarpet": [
           {
            "colorbar": {
             "outlinewidth": 0,
             "ticks": ""
            },
            "type": "contourcarpet"
           }
          ],
          "heatmap": [
           {
            "colorbar": {
             "outlinewidth": 0,
             "ticks": ""
            },
            "colorscale": [
             [
              0,
              "#0d0887"
             ],
             [
              0.1111111111111111,
              "#46039f"
             ],
             [
              0.2222222222222222,
              "#7201a8"
             ],
             [
              0.3333333333333333,
              "#9c179e"
             ],
             [
              0.4444444444444444,
              "#bd3786"
             ],
             [
              0.5555555555555556,
              "#d8576b"
             ],
             [
              0.6666666666666666,
              "#ed7953"
             ],
             [
              0.7777777777777778,
              "#fb9f3a"
             ],
             [
              0.8888888888888888,
              "#fdca26"
             ],
             [
              1,
              "#f0f921"
             ]
            ],
            "type": "heatmap"
           }
          ],
          "histogram": [
           {
            "marker": {
             "pattern": {
              "fillmode": "overlay",
              "size": 10,
              "solidity": 0.2
             }
            },
            "type": "histogram"
           }
          ],
          "histogram2d": [
           {
            "colorbar": {
             "outlinewidth": 0,
             "ticks": ""
            },
            "colorscale": [
             [
              0,
              "#0d0887"
             ],
             [
              0.1111111111111111,
              "#46039f"
             ],
             [
              0.2222222222222222,
              "#7201a8"
             ],
             [
              0.3333333333333333,
              "#9c179e"
             ],
             [
              0.4444444444444444,
              "#bd3786"
             ],
             [
              0.5555555555555556,
              "#d8576b"
             ],
             [
              0.6666666666666666,
              "#ed7953"
             ],
             [
              0.7777777777777778,
              "#fb9f3a"
             ],
             [
              0.8888888888888888,
              "#fdca26"
             ],
             [
              1,
              "#f0f921"
             ]
            ],
            "type": "histogram2d"
           }
          ],
          "histogram2dcontour": [
           {
            "colorbar": {
             "outlinewidth": 0,
             "ticks": ""
            },
            "colorscale": [
             [
              0,
              "#0d0887"
             ],
             [
              0.1111111111111111,
              "#46039f"
             ],
             [
              0.2222222222222222,
              "#7201a8"
             ],
             [
              0.3333333333333333,
              "#9c179e"
             ],
             [
              0.4444444444444444,
              "#bd3786"
             ],
             [
              0.5555555555555556,
              "#d8576b"
             ],
             [
              0.6666666666666666,
              "#ed7953"
             ],
             [
              0.7777777777777778,
              "#fb9f3a"
             ],
             [
              0.8888888888888888,
              "#fdca26"
             ],
             [
              1,
              "#f0f921"
             ]
            ],
            "type": "histogram2dcontour"
           }
          ],
          "mesh3d": [
           {
            "colorbar": {
             "outlinewidth": 0,
             "ticks": ""
            },
            "type": "mesh3d"
           }
          ],
          "parcoords": [
           {
            "line": {
             "colorbar": {
              "outlinewidth": 0,
              "ticks": ""
             }
            },
            "type": "parcoords"
           }
          ],
          "pie": [
           {
            "automargin": true,
            "type": "pie"
           }
          ],
          "scatter": [
           {
            "fillpattern": {
             "fillmode": "overlay",
             "size": 10,
             "solidity": 0.2
            },
            "type": "scatter"
           }
          ],
          "scatter3d": [
           {
            "line": {
             "colorbar": {
              "outlinewidth": 0,
              "ticks": ""
             }
            },
            "marker": {
             "colorbar": {
              "outlinewidth": 0,
              "ticks": ""
             }
            },
            "type": "scatter3d"
           }
          ],
          "scattercarpet": [
           {
            "marker": {
             "colorbar": {
              "outlinewidth": 0,
              "ticks": ""
             }
            },
            "type": "scattercarpet"
           }
          ],
          "scattergeo": [
           {
            "marker": {
             "colorbar": {
              "outlinewidth": 0,
              "ticks": ""
             }
            },
            "type": "scattergeo"
           }
          ],
          "scattergl": [
           {
            "marker": {
             "colorbar": {
              "outlinewidth": 0,
              "ticks": ""
             }
            },
            "type": "scattergl"
           }
          ],
          "scattermap": [
           {
            "marker": {
             "colorbar": {
              "outlinewidth": 0,
              "ticks": ""
             }
            },
            "type": "scattermap"
           }
          ],
          "scattermapbox": [
           {
            "marker": {
             "colorbar": {
              "outlinewidth": 0,
              "ticks": ""
             }
            },
            "type": "scattermapbox"
           }
          ],
          "scatterpolar": [
           {
            "marker": {
             "colorbar": {
              "outlinewidth": 0,
              "ticks": ""
             }
            },
            "type": "scatterpolar"
           }
          ],
          "scatterpolargl": [
           {
            "marker": {
             "colorbar": {
              "outlinewidth": 0,
              "ticks": ""
             }
            },
            "type": "scatterpolargl"
           }
          ],
          "scatterternary": [
           {
            "marker": {
             "colorbar": {
              "outlinewidth": 0,
              "ticks": ""
             }
            },
            "type": "scatterternary"
           }
          ],
          "surface": [
           {
            "colorbar": {
             "outlinewidth": 0,
             "ticks": ""
            },
            "colorscale": [
             [
              0,
              "#0d0887"
             ],
             [
              0.1111111111111111,
              "#46039f"
             ],
             [
              0.2222222222222222,
              "#7201a8"
             ],
             [
              0.3333333333333333,
              "#9c179e"
             ],
             [
              0.4444444444444444,
              "#bd3786"
             ],
             [
              0.5555555555555556,
              "#d8576b"
             ],
             [
              0.6666666666666666,
              "#ed7953"
             ],
             [
              0.7777777777777778,
              "#fb9f3a"
             ],
             [
              0.8888888888888888,
              "#fdca26"
             ],
             [
              1,
              "#f0f921"
             ]
            ],
            "type": "surface"
           }
          ],
          "table": [
           {
            "cells": {
             "fill": {
              "color": "#EBF0F8"
             },
             "line": {
              "color": "white"
             }
            },
            "header": {
             "fill": {
              "color": "#C8D4E3"
             },
             "line": {
              "color": "white"
             }
            },
            "type": "table"
           }
          ]
         },
         "layout": {
          "annotationdefaults": {
           "arrowcolor": "#2a3f5f",
           "arrowhead": 0,
           "arrowwidth": 1
          },
          "autotypenumbers": "strict",
          "coloraxis": {
           "colorbar": {
            "outlinewidth": 0,
            "ticks": ""
           }
          },
          "colorscale": {
           "diverging": [
            [
             0,
             "#8e0152"
            ],
            [
             0.1,
             "#c51b7d"
            ],
            [
             0.2,
             "#de77ae"
            ],
            [
             0.3,
             "#f1b6da"
            ],
            [
             0.4,
             "#fde0ef"
            ],
            [
             0.5,
             "#f7f7f7"
            ],
            [
             0.6,
             "#e6f5d0"
            ],
            [
             0.7,
             "#b8e186"
            ],
            [
             0.8,
             "#7fbc41"
            ],
            [
             0.9,
             "#4d9221"
            ],
            [
             1,
             "#276419"
            ]
           ],
           "sequential": [
            [
             0,
             "#0d0887"
            ],
            [
             0.1111111111111111,
             "#46039f"
            ],
            [
             0.2222222222222222,
             "#7201a8"
            ],
            [
             0.3333333333333333,
             "#9c179e"
            ],
            [
             0.4444444444444444,
             "#bd3786"
            ],
            [
             0.5555555555555556,
             "#d8576b"
            ],
            [
             0.6666666666666666,
             "#ed7953"
            ],
            [
             0.7777777777777778,
             "#fb9f3a"
            ],
            [
             0.8888888888888888,
             "#fdca26"
            ],
            [
             1,
             "#f0f921"
            ]
           ],
           "sequentialminus": [
            [
             0,
             "#0d0887"
            ],
            [
             0.1111111111111111,
             "#46039f"
            ],
            [
             0.2222222222222222,
             "#7201a8"
            ],
            [
             0.3333333333333333,
             "#9c179e"
            ],
            [
             0.4444444444444444,
             "#bd3786"
            ],
            [
             0.5555555555555556,
             "#d8576b"
            ],
            [
             0.6666666666666666,
             "#ed7953"
            ],
            [
             0.7777777777777778,
             "#fb9f3a"
            ],
            [
             0.8888888888888888,
             "#fdca26"
            ],
            [
             1,
             "#f0f921"
            ]
           ]
          },
          "colorway": [
           "#636efa",
           "#EF553B",
           "#00cc96",
           "#ab63fa",
           "#FFA15A",
           "#19d3f3",
           "#FF6692",
           "#B6E880",
           "#FF97FF",
           "#FECB52"
          ],
          "font": {
           "color": "#2a3f5f"
          },
          "geo": {
           "bgcolor": "white",
           "lakecolor": "white",
           "landcolor": "#E5ECF6",
           "showlakes": true,
           "showland": true,
           "subunitcolor": "white"
          },
          "hoverlabel": {
           "align": "left"
          },
          "hovermode": "closest",
          "mapbox": {
           "style": "light"
          },
          "paper_bgcolor": "white",
          "plot_bgcolor": "#E5ECF6",
          "polar": {
           "angularaxis": {
            "gridcolor": "white",
            "linecolor": "white",
            "ticks": ""
           },
           "bgcolor": "#E5ECF6",
           "radialaxis": {
            "gridcolor": "white",
            "linecolor": "white",
            "ticks": ""
           }
          },
          "scene": {
           "xaxis": {
            "backgroundcolor": "#E5ECF6",
            "gridcolor": "white",
            "gridwidth": 2,
            "linecolor": "white",
            "showbackground": true,
            "ticks": "",
            "zerolinecolor": "white"
           },
           "yaxis": {
            "backgroundcolor": "#E5ECF6",
            "gridcolor": "white",
            "gridwidth": 2,
            "linecolor": "white",
            "showbackground": true,
            "ticks": "",
            "zerolinecolor": "white"
           },
           "zaxis": {
            "backgroundcolor": "#E5ECF6",
            "gridcolor": "white",
            "gridwidth": 2,
            "linecolor": "white",
            "showbackground": true,
            "ticks": "",
            "zerolinecolor": "white"
           }
          },
          "shapedefaults": {
           "line": {
            "color": "#2a3f5f"
           }
          },
          "ternary": {
           "aaxis": {
            "gridcolor": "white",
            "linecolor": "white",
            "ticks": ""
           },
           "baxis": {
            "gridcolor": "white",
            "linecolor": "white",
            "ticks": ""
           },
           "bgcolor": "#E5ECF6",
           "caxis": {
            "gridcolor": "white",
            "linecolor": "white",
            "ticks": ""
           }
          },
          "title": {
           "x": 0.05
          },
          "xaxis": {
           "automargin": true,
           "gridcolor": "white",
           "linecolor": "white",
           "ticks": "",
           "title": {
            "standoff": 15
           },
           "zerolinecolor": "white",
           "zerolinewidth": 2
          },
          "yaxis": {
           "automargin": true,
           "gridcolor": "white",
           "linecolor": "white",
           "ticks": "",
           "title": {
            "standoff": 15
           },
           "zerolinecolor": "white",
           "zerolinewidth": 2
          }
         }
        },
        "title": {
         "text": "Product Portfolio Distribution"
        }
       }
      }
     },
     "metadata": {},
     "output_type": "display_data"
    },
    {
     "name": "stdout",
     "output_type": "stream",
     "text": [
      "\n",
      "📈 Product Portfolio Breakdown:\n",
      "Categories: ['DebitCard' 'PersonalLoan' 'Overdraft' 'FXTransfer' 'Insurance'\n",
      " 'Mortgage' 'CreditCard' 'InvestmentFund' 'FixedDeposit' 'SavingsAccount']\n",
      "Tiers: ['Signature' 'Gold' 'Infinite' 'Standard' 'Platinum']\n",
      "Reward Types: ['Gift' 'Discount' 'Cashback' 'Points' 'Miles']\n",
      "Geographic Coverage: ['Central' 'Hanoi_Metro' 'Abroad' 'HCMC_Metro' 'North' 'South']\n"
     ]
    }
   ],
   "source": [
    "# Product categories and distribution\n",
    "if 'products' in locals() and PLOTLY_AVAILABLE:\n",
    "    fig = make_subplots(\n",
    "        rows=2, cols=2,\n",
    "        subplot_titles=('Product Categories', 'Product Tiers', 'Reward Types', 'Geographic Coverage'),\n",
    "        specs=[[{\"type\": \"pie\"}, {\"type\": \"pie\"}],\n",
    "               [{\"type\": \"pie\"}, {\"type\": \"pie\"}]]\n",
    "    )\n",
    "    \n",
    "    # Product categories\n",
    "    cat_counts = products['category'].value_counts()\n",
    "    fig.add_trace(go.Pie(labels=cat_counts.index, values=cat_counts.values, name=\"Categories\"), \n",
    "                  row=1, col=1)\n",
    "    \n",
    "    # Product tiers\n",
    "    tier_counts = products['tier'].value_counts()\n",
    "    fig.add_trace(go.Pie(labels=tier_counts.index, values=tier_counts.values, name=\"Tiers\"), \n",
    "                  row=1, col=2)\n",
    "    \n",
    "    # Reward types\n",
    "    reward_counts = products['reward_type'].value_counts()\n",
    "    fig.add_trace(go.Pie(labels=reward_counts.index, values=reward_counts.values, name=\"Rewards\"), \n",
    "                  row=2, col=1)\n",
    "    \n",
    "    # Geographic applicability\n",
    "    geo_counts = products['geo_applic'].value_counts()\n",
    "    fig.add_trace(go.Pie(labels=geo_counts.index, values=geo_counts.values, name=\"Geography\"), \n",
    "                  row=2, col=2)\n",
    "    \n",
    "    fig.update_layout(height=800, title_text=\"Product Portfolio Distribution\")\n",
    "    fig.show()\n",
    "    \n",
    "elif 'products' in locals():\n",
    "    # Fallback to text-based analysis when plotly not available\n",
    "    print(\"📊 Product Portfolio Distribution (Text Summary):\")\n",
    "    print(\"\\n📈 Product Categories:\")\n",
    "    print(products['category'].value_counts())\n",
    "    print(\"\\n🏆 Product Tiers:\")\n",
    "    print(products['tier'].value_counts())\n",
    "    print(\"\\n🎁 Reward Types:\")\n",
    "    print(products['reward_type'].value_counts())\n",
    "    print(\"\\n🌍 Geographic Coverage:\")\n",
    "    print(products['geo_applic'].value_counts())\n",
    "\n",
    "# Print detailed breakdown regardless of plotting availability\n",
    "if 'products' in locals():\n",
    "    print(\"\\n📈 Product Portfolio Breakdown:\")\n",
    "    print(f\"Categories: {products['category'].unique()}\")\n",
    "    print(f\"Tiers: {products['tier'].unique()}\")\n",
    "    print(f\"Reward Types: {products['reward_type'].unique()}\")\n",
    "    print(f\"Geographic Coverage: {products['geo_applic'].unique()}\")"
   ]
  },
  {
   "cell_type": "code",
   "execution_count": 7,
   "id": "ad990e13",
   "metadata": {},
   "outputs": [
    {
     "data": {
      "application/vnd.plotly.v1+json": {
       "config": {
        "plotlyServerURL": "https://plot.ly"
       },
       "data": [
        {
         "name": "APR",
         "nbinsx": 20,
         "type": "histogram",
         "x": {
          "bdata": "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",
          "dtype": "f8"
         },
         "xaxis": "x",
         "yaxis": "y"
        },
        {
         "name": "Conv Rate",
         "nbinsx": 20,
         "type": "histogram",
         "x": {
          "bdata": "ukkMAiuHlj+kcD0K16OwP7ByaJHtfL8/MzMzMzMzwz+4HoXrUbiuP+f7qfHSTcI/46WbxCCw0j9CYOXQItu5P2iR7Xw/Na4/exSuR+F6tD+amZmZmZmpP1K4HoXrUbg/aJHtfD81zj/P91PjpZvEPyPb+X5qvLQ/3SQGgZVDyz/ZzvdT46W7P3npJjEIrJw/gZVDi2znuz/wp8ZLN4nBP/yp8dJNYrA/EFg5tMh2vj/VeOkmMQjUP5zEILByaLE/GQRWDi2ynT+DwMqhRbazP4GVQ4ts58s/IbByaJHtzD+R7Xw/NV7KP0w3iUFg5cA/tvP91Hjpxj956SYxCKysPwisHFpkO78/eekmMQisrD+PwvUoXI/CP1g5tMh2vp8/pHA9CtejsD+uR+F6FK7HP3Noke18P7U/K4cW2c73sz/wp8ZLN4nBP/yp8dJNYqA/pHA9CtejwD8AAAAAAADAP9Ei2/l+arw/y6FFtvP9pD/TTWIQWDnEP0jhehSuR8E/kxgEVg4twj/pJjEIrBy6P30/NV66Scw/ke18PzVeuj/LoUW28/20P/Cnxks3icE/I9v5fmq8tD9qvHSTGAS2Pz81XrpJDMI/uB6F61G4jj956SYxCKycP7gehetRuK4/aJHtfD81rj9aZDvfT43XPxsv3SQGgaU/yXa+nxovrT+kcD0K16PAP9ejcD0K18M/VOOlm8QgsD8bL90kBoGVP+xRuB6F67E/exSuR+F6tD9Ei2zn+6nBPwRWDi2ync8/UrgehetRuD/sUbgehevBP2iR7Xw/Nb4/EFg5tMh2vj/LoUW28/3EP3npJjEIrKw/w/UoXI/CxT/6fmq8dJO4P9nO91Pjpbs/WDm0yHa+rz/ZzvdT46W7P/hT46WbxMA/SgwCK4cWuT/hehSuR+G6P+F6FK5H4bo/VOOlm8QgsD/LoUW28/2kPwisHFpkO68/XrpJDAIrxz+JQWDl0CK7P3npJjEIrHw/2c73U+Olqz+YbhKDwMrRP/yp8dJNYpA/H4XrUbgexT/ByqFFtvPNP9NNYhBYObQ/9P3UeOkmwT97FK5H4Xp0P0w3iUFg5aA/MzMzMzMzwz8bL90kBoG1PyPb+X5qvLQ/eekmMQisnD/pJjEIrByqP3e+nxov3cQ/CKwcWmQ7zz/b+X5qvHSjP9NNYhBYObQ/GQRWDi2yrT/D9Shcj8LVP7pJDAIrh4Y/9ihcj8L1yD+cxCCwcmjBP6rx0k1iEKg//Knx0k1ioD+LbOf7qfHCPzvfT42XbrI/qvHSTWIQqD+amZmZmZnJP8uhRbbz/bQ/w/UoXI/CxT+4HoXrUbiuPx1aZDvfT9U/IbByaJHtvD/ufD81XrrJP1g5tMh2vr8/kxgEVg4tsj/D9Shcj8LFP8P1KFyPwrU/GQRWDi2ynT8QWDm0yHa+P0a28/3UeMk/hetRuB6Fyz8j2/l+ary0P1K4HoXrUbg/K4cW2c73sz/sUbgeheuhP4ts5/up8aI/qvHSTWIQuD956SYxCKycP5qZmZmZmbk/MzMzMzMzsz/jpZvEILCyP8P1KFyPwrU/WmQ730+Npz/wp8ZLN4nBP3e+nxov3cQ/nu+nxks30T8OLbKd76fGP0oMAiuHFqk/3SQGgZVDyz/6fmq8dJNoP4PAyqFFtrM/f2q8dJMYxD9aZDvfT42nP4ts5/up8aI/+n5qvHST0D/Jdr6fGi+tP9nO91Pjpas/cT0K16NwvT91kxgEVg7NP7bz/dR46cY/LbKd76fGyz+yne+nxku3P7gehetRuJ4/SgwCK4cW0T8hsHJoke28P28Sg8DKocU/iUFg5dAiyz/ZzvdT46WbP0oMAiuHFtE/qvHSTWIQqD9oke18PzWuP83MzMzMzMw/eekmMQisfD97FK5H4XqEP1pkO99Pjac/qMZLN4lBwD85tMh2vp+KP9nO91Pjpbs/O99PjZduwj+DwMqhRbazP9Ei2/l+arw/lkOLbOf70T+amZmZmZm5P7pJDAIrh8Y/9P3UeOkmsT+kcD0K16OwP1TjpZvEIMA/VOOlm8QgsD83iUFg5dDCPxkEVg4tsq0/JzEIrBxaxD+BlUOLbOe7P1TjpZvEILA/+FPjpZvEwD8Sg8DKoUW2Pxsv3SQGgbU/exSuR+F6lD/6fmq8dJNoPxkEVg4tss0/0SLb+X5qvD9YObTIdr6vP4PAyqFFtrM/Di2yne+nxj85tMh2vp/KP8UgsHJokc0/j8L1KFyPwj9iEFg5tMi2P3sUrkfherQ/IbByaJHtvD+amZmZmZm5P/hT46WbxMA/yXa+nxovrT97FK5H4XqUPxkEVg4tss0/WmQ730+Nxz8j2/l+ary0P5qZmZmZmZk/001iEFg5tD+amZmZmZmpP2Dl0CLb+b4/mG4Sg8DKwT/6fmq8dJO4PycxCKwcWsQ/qvHSTWIQuD+cxCCwcmiRPyGwcmiR7dQ/I9v5fmq8tD8fhetRuB7FPzEIrBxaZNM/6SYxCKwcqj+YbhKDwMrBP7ByaJHtfL8/9ihcj8L1yD+LbOf7qfGiP9nO91PjpZs/ObTIdr6fuj+JQWDl0CKrP/hT46WbxNA/nu+nxks30T9aZDvfT423P4PAyqFFtrM/nMQgsHJokT85tMh2vp+aP8P1KFyPwrU/ObTIdr6fyj8IrBxaZDuvPycxCKwcWsQ/arx0kxgEtj9aZDvfT42XP4ts5/up8bI/nMQgsHJosT/0/dR46SbBP+kmMQisHLo/2/l+arx0sz/pJjEIrBzSP5huEoPAysE/uB6F61G4nj9xPQrXo3C9P7pJDAIrh6Y/ukkMAiuHtj+BlUOLbOfLPx1aZDvfT80/IbByaJHtvD+iRbbz/dTIP9v5fmq8dLM/46WbxCCwsj/+1HjpJjHQP0w3iUFg5bA/eekmMQisvD/hehSuR+HKP+F6FK5H4bo/7FG4HoXrwT+amZmZmZm5PwIrhxbZzrc/ukkMAiuHxj+HFtnO91PDPxkEVg4tsp0/1XjpJjEI1D+amZmZmZnJP+f7qfHSTcI/K4cW2c73wz9GtvP91HjRP9v5fmq8dJM/TDeJQWDloD/4U+Olm8TAP1K4HoXrUbg/2/l+arx0sz9zaJHtfD/FP7ByaJHtfL8/EFg5tMh2vj9KDAIrhxa5P0w3iUFg5bA/CKwcWmQ7rz85tMh2vp+6P1K4HoXrUcg/+n5qvHSTqD9/arx0kxjEP+XQItv5fso/w/UoXI/CtT+JQWDl0CKrP1g5tMh2vp8/WmQ730+Npz9aZDvfT42XP7Kd76fGS8c/eekmMQisnD8zMzMzMzOzP1pkO99Pjac/tvP91Hjpxj8Sg8DKoUW2P7gehetRuI4/eekmMQisvD8K16NwPQrHP2IQWDm0yMY/eekmMQisvD8730+Nl26iP8P1KFyPwrU/MzMzMzMzsz8bL90kBoG1P8HKoUW2870/SOF6FK5HwT/8qfHSTWLAP5zEILByaME/TDeJQWDl2D/8qfHSTWKwPwisHFpkO88/UI2XbhKDwD+R7Xw/NV7KP8uhRbbz/bQ/yXa+nxovrT8ZBFYOLbKdP3Noke18P7U/XrpJDAIrxz9aZDvfT423Pzm0yHa+n7o/iUFg5dAiuz+28/3UeOnGP9Ei2/l+arw/YOXQItv5vj9aZDvfT42XP/7UeOkmMdA/SgwCK4cWqT/ZzvdT46W7P5zEILByaLE/WmQ730+Npz/2KFyPwvXIP7pJDAIrh7Y/oBov3SQGwT/+1HjpJjHQP4ts5/up8aI/WmQ730+Ntz8QWDm0yHa+PyPb+X5qvMQ/WDm0yHa+vz956SYxCKzMP3sUrkfheqQ/+n5qvHSTyD8Sg8DKoUW2P2Dl0CLb+b4/yXa+nxovrT+oxks3iUHAP4PAyqFFttM/Gy/dJAaBlT9aZDvfT42XP4PAyqFFtrM/nMQgsHJosT+kcD0K16OwP7gehetRuL4/LbKd76fGyz+wcmiR7Xy/P3E9CtejcL0/pHA9Ctej0D/Jdr6fGi+tP90kBoGVQ8s/8tJNYhBYuT+WQ4ts5/vRP6rx0k1iELg/j8L1KFyPwj8Sg8DKoUW2P7gehetRuJ4/ZmZmZmZmxj9GtvP91HjJP9v5fmq8dLM/lkOLbOf7yT+yne+nxku3P4ts5/up8aI/okW28/3UuD8bL90kBoGVP9v5fmq8dMM/i2zn+6nx0j9CYOXQItu5P05iEFg5tMg/pHA9CtejsD8GgZVDi2zHP4ts5/up8aI/arx0kxgEpj85tMh2vp+KP/p+arx0k3g/uB6F61G4nj8bL90kBoGVPy/dJAaBlcM/lkOLbOf7yT+cxCCwcmjBP5zEILByaJE/exSuR+F6pD+q8dJNYhC4PzeJQWDl0MI/5dAi2/l+yj8ZBFYOLbK9P1K4HoXrUbg/001iEFg5tD/LoUW28/2kP4GVQ4ts57s/f2q8dJMYxD8xCKwcWmS7P7gehetRuJ4/kxgEVg4twj/P91PjpZvUP8P1KFyPwrU/EoPAyqFFxj/Jdr6fGi+tP6rx0k1iEMg/6SYxCKwcyj97FK5H4XqkP1g5tMh2vp8/PzVeukkMwj9KDAIrhxapP2q8dJMYBMY/ZmZmZmZm1j8IrBxaZDu/P8P1KFyPwrU/DAIrhxbZzj+YbhKDwMrRP166SQwCK8c/qvHSTWIQuD+amZmZmZmpP+xRuB6F69E/IbByaJHtvD8pXI/C9SisP+kmMQisHLo/arx0kxgEpj8rhxbZzvezP6rx0k1iEMg/ke18PzVeyj/6fmq8dJOoP/p+arx0k4g/8tJNYhBYuT+JQWDl0CK7Pylcj8L1KMw/wcqhRbbzvT/jpZvEILDCP1g5tMh2vr8/ukkMAiuH1j+amZmZmZmpP4cW2c73U8M/RIts5/upwT/8qfHSTWLAP9NNYhBYObQ/iUFg5dAiqz+gGi/dJAbBP0w3iUFg5aA/qvHSTWIQqD+4HoXrUbiOP0a28/3UeNk/7FG4HoXrsT8hsHJoke28P/yp8dJNYtA/6SYxCKwcqj/y0k1iEFjRP0w3iUFg5cA/MzMzMzMzsz9iEFg5tMjGPzMzMzMzM7M/VOOlm8QgwD/LoUW28/2kP0oMAiuHFqk/jZduEoPA0j/8qfHSTWKwP/LSTWIQWNE/j8L1KFyPwj+LbOf7qfGiP0Jg5dAi28k/i2zn+6nx0j8bL90kBoHFPxBYObTIdr4/fT81XrpJzD9iEFg5tMjGPy/dJAaBlcM/TDeJQWDlsD956SYxCKy8P30/NV66SdQ/z/dT46WbxD8hsHJoke28P7pJDAIrh7Y/z/dT46WbxD/ZzvdT46WbP0w3iUFg5cA/+n5qvHSTqD956SYxCKycPzm0yHa+n6o/Gy/dJAaBpT8rhxbZzvezP7gehetRuL4/MQisHFpkuz8IrBxaZDuvP/yp8dJNYqA/ObTIdr6fqj9zaJHtfD+1P0w3iUFg5bA/MzMzMzMzsz/b+X5qvHSTP9V46SYxCMw/MzMzMzMzwz+TGARWDi3CP3npJjEIrLw/O99PjZdusj9U46WbxCDAPzMzMzMzM7M/MzMzMzMz0z/+1HjpJjHIP6rx0k1iELg/46WbxCCwwj+DwMqhRbazPwisHFpkO68/rkfhehSuxz+PwvUoXI/CP0jhehSuR8E/aJHtfD81zj+DwMqhRbbDP+Olm8QgsLI/ukkMAiuHlj9oke18PzW+P1CNl24Sg8A/2c73U+Olmz85tMh2vp+aP1K4HoXrUbg/001iEFg5tD85tMh2vp+aP4GVQ4ts57s/9P3UeOkmwT8j2/l+ary0P/LSTWIQWLk/GQRWDi2ynT8K16NwPQqnP+xRuB6F67E//tR46SYxyD9oke18PzWuP+Olm8QgsMI/Vg4tsp3vxz9QjZduEoPAP0SLbOf7qcE/nMQgsHJosT8lBoGVQ4vUP6wcWmQ7388/xSCwcmiRzT+JQWDl0CKrP7gehetRuJ4/exSuR+F6lD+R7Xw/NV66P8l2vp8aL70/CKwcWmQ7vz/ZzvdT46XLP3E9CtejcM0/SgwCK4cWqT/TTWIQWDm0PyuHFtnO97M/y6FFtvP9tD9KDAIrhxbJP3npJjEIrKw/CKwcWmQ7vz+amZmZmZm5P30/NV66Scw/6SYxCKwcqj+R7Xw/NV66Pylcj8L1KLw/SgwCK4cWqT9zaJHtfD+1P/Cnxks3icE/sp3vp8ZLtz8IrBxaZDu/PwrXo3A9Csc/Gy/dJAaBtT956SYxCKycP4/C9Shcj9I/ObTIdr6fmj/TTWIQWDm0P2IQWDm0yLY/arx0kxgExj9oke18PzW+P6rx0k1iEMg/arx0kxgEpj97FK5H4Xq0PwrXo3A9Cqc/exSuR+F6lD8bL90kBoGlP30/NV66Scw/ObTIdr6fuj+4HoXrUbieP57vp8ZLN9E/GQRWDi2yrT8730+Nl26SP9nO91PjpZs/ObTIdr6fqj81XrpJDALLP5zEILByaKE/exSuR+F6xD/8qfHSTWKQPxsv3SQGgaU/exSuR+F6lD8730+Nl26CP5HtfD81Xro//Knx0k1isD9KDAIrhxapP9V46SYxCMw/CtejcD0K1z956SYxCKy8Pylcj8L1KLw/7nw/NV660T+TGARWDi3SP3sUrkfhesQ/mpmZmZmZqT/Jdr6fGi+tPxkEVg4tsq0/4XoUrkfhuj8bL90kBoG1PwisHFpkO78/9P3UeOkmsT9zaJHtfD/FP/Cnxks3icE/UrgehetRyD/pJjEIrByqP5qZmZmZmck/i2zn+6nxwj9SuB6F61G4P99PjZduEsM/ukkMAiuHtj+4HoXrUbjOP6RwPQrXo8A/MQisHFpkuz8/NV66SQzCPycxCKwcWsQ/TDeJQWDloD+YbhKDwMrBP5HtfD81Xro/nMQgsHJo0T9YObTIdr6fP3Noke18P8U/Di2yne+nxj/jpZvEILDCP/Cnxks3idE/CKwcWmQ7rz9KDAIrhxbJP+xRuB6F67E/uB6F61G4vj+JQWDl0CKrP3sUrkfherQ/tMh2vp8azz+kcD0K16OwPycxCKwcWsQ/iUFg5dAiqz+TGARWDi2yP+f7qfHSTdI/EoPAyqFFtj9zaJHtfD+1P1K4HoXrUdA/46WbxCCwsj/sUbgeheuxP9ejcD0K18M/46WbxCCwsj/0/dR46SaxP5zEILByaME/rkfhehSuxz9zaJHtfD+1P/p+arx0k7g/g8DKoUW2wz/sUbgehevBP9v5fmq8dMM/30+Nl24Swz8730+Nl26iP3sUrkfheqQ/UI2XbhKDwD/RItv5fmq8P4lBYOXQIqs/KVyPwvUorD/Jdr6fGi+9P3E9CtejcL0/pHA9CtejsD8CK4cW2c63P/p+arx0k7g/1XjpJjEIzD8MAiuHFtnOP1g5tMh2vr8/y6FFtvP9xD+TGARWDi3CP+Olm8QgsLI/kxgEVg4tsj/dJAaBlUPLP/yp8dJNYmA/CtejcD0Kpz8zMzMzMzOzP4XrUbgehcs/K4cW2c73sz9qvHSTGAS2Pylcj8L1KKw/yXa+nxovrT9t5/up8dLNP6RwPQrXo7A/6SYxCKwcqj/2KFyPwvXIP7gehetRuI4/nMQgsHJosT8730+Nl26yPxfZzvdT48U/sp3vp8ZLtz9MN4lBYOWgP/p+arx0k3g/ukkMAiuHlj9MN4lBYOXAP/yp8dJNYsA/SgwCK4cWuT8tsp3vp8bLP9nO91Pjpas/ukkMAiuHlj8tsp3vp8bLP5MYBFYOLbI/8tJNYhBYuT8nMQisHFrEP8uhRbbz/bQ/+n5qvHSTqD/ZzvdT46WrPzMzMzMzM7M/SgwCK4cWuT/LoUW28/20P65H4XoUrsc/5dAi2/l+yj/FILByaJHNP2iR7Xw/NdY/pHA9CtejsD9CYOXQItvRP8l2vp8aL70/7FG4HoXroT++nxov3STGP9nO91PjpZs/2/l+arx0kz/D9Shcj8K1P5qZmZmZmck/eekmMQisvD9vEoPAyqHFP3WTGARWDs0/7FG4HoXroT8ZBFYOLbKtP4GVQ4ts57s/4XoUrkfhuj956SYxCKysPzMzMzMzM7M/okW28/3UuD99PzVeuknMP3npJjEIrKw/mpmZmZmZqT8xCKwcWmS7P5qZmZmZmZk/5/up8dJNwj9aZDvfT42XPyGwcmiR7bw/mG4Sg8DKwT/D9Shcj8K1P/p+arx0k8g/UI2XbhKD0D9YObTIdr6fP7Kd76fGS8c/lkOLbOf7yT8zMzMzMzOzP7pJDAIrh5Y/TDeJQWDloD+yne+nxku3P3E9CtejcL0/y6FFtvP9tD8pXI/C9Si8Pylcj8L1KLw/nu+nxks30T8ZBFYOLbKtP7pJDAIrh5Y/gZVDi2znuz8IrBxaZDvXP5MYBFYOLcI/lkOLbOf70T8bL90kBoGlP6JFtvP91Lg/y6FFtvP9pD8CK4cW2c7HPwIrhxbZzsc/6SYxCKwcuj9g5dAi2/m+P8/3U+Olm8Q/sHJoke18vz+iRbbz/dS4P+xRuB6F66E/HVpkO99PzT+amZmZmZmZP8uhRbbz/aQ/Gy/dJAaBpT+LbOf7qfGyPzm0yHa+n6o//tR46SYx2D8IrBxaZDu/Pzm0yHa+n4o/pHA9CtejwD9KDAIrhxapP8uhRbbz/aQ/SgwCK4cWuT+JQWDl0CKrP/T91HjpJrE/tvP91Hjpxj/4U+Olm8TAP3npJjEIrKw/GQRWDi2yvT+6SQwCK4e2P+kmMQisHKo/yXa+nxovrT9oke18PzXOPzMzMzMzM7M/sp3vp8ZLxz9KDAIrhxa5P0a28/3UeMk/uB6F61G4nj9mZmZmZmbGPxKDwMqhRbY/UI2XbhKD0D+HFtnO91PTP3sUrkfheoQ/SOF6FK5HwT8730+Nl26SP/yp8dJNYpA//tR46SYxyD8lBoGVQ4vMPyuHFtnO98M/ObTIdr6fij+R7Xw/NV66P4ts5/up8aI/y6FFtvP9xD8IrBxaZDuvP/yp8dJNYrA/yXa+nxovvT/pJjEIrByqPzm0yHa+n6o/tvP91Hjpxj9aZDvfT423PzeJQWDl0MI/001iEFg5tD+0yHa+nxrXP2iR7Xw/Nb4/aJHtfD81rj9aZDvfT42XP2Dl0CLb+b4/3SQGgZVDyz/ZzvdT46XTPyPb+X5qvMQ/0SLb+X5q1D8OLbKd76fGP1K4HoXrUdA/x0s3iUFgxT+yne+nxku3P9NNYhBYOcQ/pHA9CtejwD8nMQisHFrEP1CNl24Sg9A/ObTIdr6fij+amZmZmZmpP/p+arx0k6g/8tJNYhBYyT+amZmZmZm5P/LSTWIQWLk/exSuR+F6tD99PzVeuknMP7pJDAIrh7Y/XrpJDAIrxz8j2/l+ary0P0jhehSuR8E/qvHSTWIQuD+q8dJNYhC4P2iR7Xw/Na4/CtejcD0Kpz9KDAIrhxapP5zEILByaKE/arx0kxgEpj9U46WbxCCwP5MYBFYOLbI/KVyPwvUozD8bL90kBoGlP+kmMQisHKo/qvHSTWIQqD+4HoXrUbi+Pylcj8L1KKw/c2iR7Xw/tT/pJjEIrBzSP8P1KFyPwrU/MzMzMzMzsz+6SQwCK4eGPzeJQWDl0MI/SgwCK4cWuT+R7Xw/NV66P0oMAiuHFsk/6SYxCKwcqj9QjZduEoPQP+kmMQisHKo/exSuR+F6pD8rhxbZzvezP9v5fmq8dJM/7FG4HoXroT/pJjEIrByqPzeJQWDl0MI/4XoUrkfhuj/ZzvdT46WbPylcj8L1KKw/EFg5tMh2zj9aZDvfT423Pzm0yHa+n5o/yXa+nxovrT+mm8QgsHLQP3WTGARWDs0/TmIQWDm00D8X2c73U+PFPzm0yHa+n9I/KVyPwvUovD+JQWDl0CK7P8uhRbbz/aQ/0SLb+X5qvD+uR+F6FK7HP7pJDAIrh5Y/mpmZmZmZ0T9MN4lBYOWwPylcj8L1KKw/EFg5tMh2zj9aZDvfT42XP6RwPQrXo7A/30+Nl24Swz85tMh2vp+qPxKDwMqhRbY/WmQ730+Ntz9aZDvfT423P3e+nxov3cQ/2c73U+Oluz+q8dJNYhDIPwwCK4cW2c4/2c73U+Oluz+uR+F6FK7XP6AaL90kBsE/ObTIdr6fuj/RItv5fmq8Pz81XrpJDMI/SOF6FK5HwT/0/dR46SaxP6abxCCwctA/nMQgsHJosT9KDAIrhxapPxBYObTIdr4/KVyPwvUorD/8qfHSTWKwP6AaL90kBsE/6SYxCKwcuj8dWmQ730/NPxKDwMqhRcY/46WbxCCwsj+yne+nxkvHP8P1KFyPwrU/2/l+arx0sz/4U+Olm8TAP99PjZduEtM/bef7qfHS1T/sUbgehevBP8l2vp8aL70/oBov3SQGwT/ZzvdT46WrP2ZmZmZmZsY/arx0kxgEpj8bL90kBoGVPwrXo3A9Crc/iUFg5dAiuz/0/dR46SaxPwrXo3A9Crc//Knx0k1iwD+yne+nxku3P9nO91Pjpbs/SgwCK4cWuT/jpZvEILCyP/p+arx0k7g/uB6F61G4nj/wp8ZLN4nBPzm0yHa+n8o/2/l+arx0sz9qvHSTGASmP2iR7Xw/Nb4//Knx0k1ioD/b+X5qvHSzPyUGgZVDi9w/qvHSTWIQqD8=",
          "dtype": "f8"
         },
         "xaxis": "x2",
         "yaxis": "y2"
        },
        {
         "name": "Risk Margin",
         "nbinsx": 20,
         "type": "histogram",
         "x": {
          "bdata": "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",
          "dtype": "f8"
         },
         "xaxis": "x3",
         "yaxis": "y3"
        },
        {
         "name": "Utility",
         "nbinsx": 20,
         "type": "histogram",
         "x": {
          "bdata": "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",
          "dtype": "f8"
         },
         "xaxis": "x4",
         "yaxis": "y4"
        }
       ],
       "layout": {
        "annotations": [
         {
          "font": {
           "size": 16
          },
          "showarrow": false,
          "text": "APR Distribution",
          "x": 0.225,
          "xanchor": "center",
          "xref": "paper",
          "y": 1,
          "yanchor": "bottom",
          "yref": "paper"
         },
         {
          "font": {
           "size": 16
          },
          "showarrow": false,
          "text": "Historical Conversion Rate",
          "x": 0.775,
          "xanchor": "center",
          "xref": "paper",
          "y": 1,
          "yanchor": "bottom",
          "yref": "paper"
         },
         {
          "font": {
           "size": 16
          },
          "showarrow": false,
          "text": "Risk-Adjusted Margin",
          "x": 0.225,
          "xanchor": "center",
          "xref": "paper",
          "y": 0.375,
          "yanchor": "bottom",
          "yref": "paper"
         },
         {
          "font": {
           "size": 16
          },
          "showarrow": false,
          "text": "Expected Utility",
          "x": 0.775,
          "xanchor": "center",
          "xref": "paper",
          "y": 0.375,
          "yanchor": "bottom",
          "yref": "paper"
         }
        ],
        "height": 800,
        "template": {
         "data": {
          "bar": [
           {
            "error_x": {
             "color": "#2a3f5f"
            },
            "error_y": {
             "color": "#2a3f5f"
            },
            "marker": {
             "line": {
              "color": "#E5ECF6",
              "width": 0.5
             },
             "pattern": {
              "fillmode": "overlay",
              "size": 10,
              "solidity": 0.2
             }
            },
            "type": "bar"
           }
          ],
          "barpolar": [
           {
            "marker": {
             "line": {
              "color": "#E5ECF6",
              "width": 0.5
             },
             "pattern": {
              "fillmode": "overlay",
              "size": 10,
              "solidity": 0.2
             }
            },
            "type": "barpolar"
           }
          ],
          "carpet": [
           {
            "aaxis": {
             "endlinecolor": "#2a3f5f",
             "gridcolor": "white",
             "linecolor": "white",
             "minorgridcolor": "white",
             "startlinecolor": "#2a3f5f"
            },
            "baxis": {
             "endlinecolor": "#2a3f5f",
             "gridcolor": "white",
             "linecolor": "white",
             "minorgridcolor": "white",
             "startlinecolor": "#2a3f5f"
            },
            "type": "carpet"
           }
          ],
          "choropleth": [
           {
            "colorbar": {
             "outlinewidth": 0,
             "ticks": ""
            },
            "type": "choropleth"
           }
          ],
          "contour": [
           {
            "colorbar": {
             "outlinewidth": 0,
             "ticks": ""
            },
            "colorscale": [
             [
              0,
              "#0d0887"
             ],
             [
              0.1111111111111111,
              "#46039f"
             ],
             [
              0.2222222222222222,
              "#7201a8"
             ],
             [
              0.3333333333333333,
              "#9c179e"
             ],
             [
              0.4444444444444444,
              "#bd3786"
             ],
             [
              0.5555555555555556,
              "#d8576b"
             ],
             [
              0.6666666666666666,
              "#ed7953"
             ],
             [
              0.7777777777777778,
              "#fb9f3a"
             ],
             [
              0.8888888888888888,
              "#fdca26"
             ],
             [
              1,
              "#f0f921"
             ]
            ],
            "type": "contour"
           }
          ],
          "contourcarpet": [
           {
            "colorbar": {
             "outlinewidth": 0,
             "ticks": ""
            },
            "type": "contourcarpet"
           }
          ],
          "heatmap": [
           {
            "colorbar": {
             "outlinewidth": 0,
             "ticks": ""
            },
            "colorscale": [
             [
              0,
              "#0d0887"
             ],
             [
              0.1111111111111111,
              "#46039f"
             ],
             [
              0.2222222222222222,
              "#7201a8"
             ],
             [
              0.3333333333333333,
              "#9c179e"
             ],
             [
              0.4444444444444444,
              "#bd3786"
             ],
             [
              0.5555555555555556,
              "#d8576b"
             ],
             [
              0.6666666666666666,
              "#ed7953"
             ],
             [
              0.7777777777777778,
              "#fb9f3a"
             ],
             [
              0.8888888888888888,
              "#fdca26"
             ],
             [
              1,
              "#f0f921"
             ]
            ],
            "type": "heatmap"
           }
          ],
          "histogram": [
           {
            "marker": {
             "pattern": {
              "fillmode": "overlay",
              "size": 10,
              "solidity": 0.2
             }
            },
            "type": "histogram"
           }
          ],
          "histogram2d": [
           {
            "colorbar": {
             "outlinewidth": 0,
             "ticks": ""
            },
            "colorscale": [
             [
              0,
              "#0d0887"
             ],
             [
              0.1111111111111111,
              "#46039f"
             ],
             [
              0.2222222222222222,
              "#7201a8"
             ],
             [
              0.3333333333333333,
              "#9c179e"
             ],
             [
              0.4444444444444444,
              "#bd3786"
             ],
             [
              0.5555555555555556,
              "#d8576b"
             ],
             [
              0.6666666666666666,
              "#ed7953"
             ],
             [
              0.7777777777777778,
              "#fb9f3a"
             ],
             [
              0.8888888888888888,
              "#fdca26"
             ],
             [
              1,
              "#f0f921"
             ]
            ],
            "type": "histogram2d"
           }
          ],
          "histogram2dcontour": [
           {
            "colorbar": {
             "outlinewidth": 0,
             "ticks": ""
            },
            "colorscale": [
             [
              0,
              "#0d0887"
             ],
             [
              0.1111111111111111,
              "#46039f"
             ],
             [
              0.2222222222222222,
              "#7201a8"
             ],
             [
              0.3333333333333333,
              "#9c179e"
             ],
             [
              0.4444444444444444,
              "#bd3786"
             ],
             [
              0.5555555555555556,
              "#d8576b"
             ],
             [
              0.6666666666666666,
              "#ed7953"
             ],
             [
              0.7777777777777778,
              "#fb9f3a"
             ],
             [
              0.8888888888888888,
              "#fdca26"
             ],
             [
              1,
              "#f0f921"
             ]
            ],
            "type": "histogram2dcontour"
           }
          ],
          "mesh3d": [
           {
            "colorbar": {
             "outlinewidth": 0,
             "ticks": ""
            },
            "type": "mesh3d"
           }
          ],
          "parcoords": [
           {
            "line": {
             "colorbar": {
              "outlinewidth": 0,
              "ticks": ""
             }
            },
            "type": "parcoords"
           }
          ],
          "pie": [
           {
            "automargin": true,
            "type": "pie"
           }
          ],
          "scatter": [
           {
            "fillpattern": {
             "fillmode": "overlay",
             "size": 10,
             "solidity": 0.2
            },
            "type": "scatter"
           }
          ],
          "scatter3d": [
           {
            "line": {
             "colorbar": {
              "outlinewidth": 0,
              "ticks": ""
             }
            },
            "marker": {
             "colorbar": {
              "outlinewidth": 0,
              "ticks": ""
             }
            },
            "type": "scatter3d"
           }
          ],
          "scattercarpet": [
           {
            "marker": {
             "colorbar": {
              "outlinewidth": 0,
              "ticks": ""
             }
            },
            "type": "scattercarpet"
           }
          ],
          "scattergeo": [
           {
            "marker": {
             "colorbar": {
              "outlinewidth": 0,
              "ticks": ""
             }
            },
            "type": "scattergeo"
           }
          ],
          "scattergl": [
           {
            "marker": {
             "colorbar": {
              "outlinewidth": 0,
              "ticks": ""
             }
            },
            "type": "scattergl"
           }
          ],
          "scattermap": [
           {
            "marker": {
             "colorbar": {
              "outlinewidth": 0,
              "ticks": ""
             }
            },
            "type": "scattermap"
           }
          ],
          "scattermapbox": [
           {
            "marker": {
             "colorbar": {
              "outlinewidth": 0,
              "ticks": ""
             }
            },
            "type": "scattermapbox"
           }
          ],
          "scatterpolar": [
           {
            "marker": {
             "colorbar": {
              "outlinewidth": 0,
              "ticks": ""
             }
            },
            "type": "scatterpolar"
           }
          ],
          "scatterpolargl": [
           {
            "marker": {
             "colorbar": {
              "outlinewidth": 0,
              "ticks": ""
             }
            },
            "type": "scatterpolargl"
           }
          ],
          "scatterternary": [
           {
            "marker": {
             "colorbar": {
              "outlinewidth": 0,
              "ticks": ""
             }
            },
            "type": "scatterternary"
           }
          ],
          "surface": [
           {
            "colorbar": {
             "outlinewidth": 0,
             "ticks": ""
            },
            "colorscale": [
             [
              0,
              "#0d0887"
             ],
             [
              0.1111111111111111,
              "#46039f"
             ],
             [
              0.2222222222222222,
              "#7201a8"
             ],
             [
              0.3333333333333333,
              "#9c179e"
             ],
             [
              0.4444444444444444,
              "#bd3786"
             ],
             [
              0.5555555555555556,
              "#d8576b"
             ],
             [
              0.6666666666666666,
              "#ed7953"
             ],
             [
              0.7777777777777778,
              "#fb9f3a"
             ],
             [
              0.8888888888888888,
              "#fdca26"
             ],
             [
              1,
              "#f0f921"
             ]
            ],
            "type": "surface"
           }
          ],
          "table": [
           {
            "cells": {
             "fill": {
              "color": "#EBF0F8"
             },
             "line": {
              "color": "white"
             }
            },
            "header": {
             "fill": {
              "color": "#C8D4E3"
             },
             "line": {
              "color": "white"
             }
            },
            "type": "table"
           }
          ]
         },
         "layout": {
          "annotationdefaults": {
           "arrowcolor": "#2a3f5f",
           "arrowhead": 0,
           "arrowwidth": 1
          },
          "autotypenumbers": "strict",
          "coloraxis": {
           "colorbar": {
            "outlinewidth": 0,
            "ticks": ""
           }
          },
          "colorscale": {
           "diverging": [
            [
             0,
             "#8e0152"
            ],
            [
             0.1,
             "#c51b7d"
            ],
            [
             0.2,
             "#de77ae"
            ],
            [
             0.3,
             "#f1b6da"
            ],
            [
             0.4,
             "#fde0ef"
            ],
            [
             0.5,
             "#f7f7f7"
            ],
            [
             0.6,
             "#e6f5d0"
            ],
            [
             0.7,
             "#b8e186"
            ],
            [
             0.8,
             "#7fbc41"
            ],
            [
             0.9,
             "#4d9221"
            ],
            [
             1,
             "#276419"
            ]
           ],
           "sequential": [
            [
             0,
             "#0d0887"
            ],
            [
             0.1111111111111111,
             "#46039f"
            ],
            [
             0.2222222222222222,
             "#7201a8"
            ],
            [
             0.3333333333333333,
             "#9c179e"
            ],
            [
             0.4444444444444444,
             "#bd3786"
            ],
            [
             0.5555555555555556,
             "#d8576b"
            ],
            [
             0.6666666666666666,
             "#ed7953"
            ],
            [
             0.7777777777777778,
             "#fb9f3a"
            ],
            [
             0.8888888888888888,
             "#fdca26"
            ],
            [
             1,
             "#f0f921"
            ]
           ],
           "sequentialminus": [
            [
             0,
             "#0d0887"
            ],
            [
             0.1111111111111111,
             "#46039f"
            ],
            [
             0.2222222222222222,
             "#7201a8"
            ],
            [
             0.3333333333333333,
             "#9c179e"
            ],
            [
             0.4444444444444444,
             "#bd3786"
            ],
            [
             0.5555555555555556,
             "#d8576b"
            ],
            [
             0.6666666666666666,
             "#ed7953"
            ],
            [
             0.7777777777777778,
             "#fb9f3a"
            ],
            [
             0.8888888888888888,
             "#fdca26"
            ],
            [
             1,
             "#f0f921"
            ]
           ]
          },
          "colorway": [
           "#636efa",
           "#EF553B",
           "#00cc96",
           "#ab63fa",
           "#FFA15A",
           "#19d3f3",
           "#FF6692",
           "#B6E880",
           "#FF97FF",
           "#FECB52"
          ],
          "font": {
           "color": "#2a3f5f"
          },
          "geo": {
           "bgcolor": "white",
           "lakecolor": "white",
           "landcolor": "#E5ECF6",
           "showlakes": true,
           "showland": true,
           "subunitcolor": "white"
          },
          "hoverlabel": {
           "align": "left"
          },
          "hovermode": "closest",
          "mapbox": {
           "style": "light"
          },
          "paper_bgcolor": "white",
          "plot_bgcolor": "#E5ECF6",
          "polar": {
           "angularaxis": {
            "gridcolor": "white",
            "linecolor": "white",
            "ticks": ""
           },
           "bgcolor": "#E5ECF6",
           "radialaxis": {
            "gridcolor": "white",
            "linecolor": "white",
            "ticks": ""
           }
          },
          "scene": {
           "xaxis": {
            "backgroundcolor": "#E5ECF6",
            "gridcolor": "white",
            "gridwidth": 2,
            "linecolor": "white",
            "showbackground": true,
            "ticks": "",
            "zerolinecolor": "white"
           },
           "yaxis": {
            "backgroundcolor": "#E5ECF6",
            "gridcolor": "white",
            "gridwidth": 2,
            "linecolor": "white",
            "showbackground": true,
            "ticks": "",
            "zerolinecolor": "white"
           },
           "zaxis": {
            "backgroundcolor": "#E5ECF6",
            "gridcolor": "white",
            "gridwidth": 2,
            "linecolor": "white",
            "showbackground": true,
            "ticks": "",
            "zerolinecolor": "white"
           }
          },
          "shapedefaults": {
           "line": {
            "color": "#2a3f5f"
           }
          },
          "ternary": {
           "aaxis": {
            "gridcolor": "white",
            "linecolor": "white",
            "ticks": ""
           },
           "baxis": {
            "gridcolor": "white",
            "linecolor": "white",
            "ticks": ""
           },
           "bgcolor": "#E5ECF6",
           "caxis": {
            "gridcolor": "white",
            "linecolor": "white",
            "ticks": ""
           }
          },
          "title": {
           "x": 0.05
          },
          "xaxis": {
           "automargin": true,
           "gridcolor": "white",
           "linecolor": "white",
           "ticks": "",
           "title": {
            "standoff": 15
           },
           "zerolinecolor": "white",
           "zerolinewidth": 2
          },
          "yaxis": {
           "automargin": true,
           "gridcolor": "white",
           "linecolor": "white",
           "ticks": "",
           "title": {
            "standoff": 15
           },
           "zerolinecolor": "white",
           "zerolinewidth": 2
          }
         }
        },
        "title": {
         "text": "Product Performance Metrics Distribution"
        },
        "xaxis": {
         "anchor": "y",
         "domain": [
          0,
          0.45
         ]
        },
        "xaxis2": {
         "anchor": "y2",
         "domain": [
          0.55,
          1
         ]
        },
        "xaxis3": {
         "anchor": "y3",
         "domain": [
          0,
          0.45
         ]
        },
        "xaxis4": {
         "anchor": "y4",
         "domain": [
          0.55,
          1
         ]
        },
        "yaxis": {
         "anchor": "x",
         "domain": [
          0.625,
          1
         ]
        },
        "yaxis2": {
         "anchor": "x2",
         "domain": [
          0.625,
          1
         ]
        },
        "yaxis3": {
         "anchor": "x3",
         "domain": [
          0,
          0.375
         ]
        },
        "yaxis4": {
         "anchor": "x4",
         "domain": [
          0,
          0.375
         ]
        }
       }
      }
     },
     "metadata": {},
     "output_type": "display_data"
    },
    {
     "name": "stdout",
     "output_type": "stream",
     "text": [
      "\n",
      "🎯 Product Performance Statistics:\n",
      "apr: Mean=8.099, Std=2.993\n",
      "hist_conv_rate: Mean=0.117, Std=0.077\n",
      "risk_adj_margin: Mean=2.443, Std=0.788\n",
      "expected_utility: Mean=0.603, Std=0.201\n",
      "hist_profit: Mean=78.839, Std=90.991\n",
      "cross_sell_score: Mean=0.501, Std=0.203\n"
     ]
    }
   ],
   "source": [
    "# Product performance metrics analysis\n",
    "if 'products' in locals():\n",
    "    # Create performance dashboard\n",
    "    fig = make_subplots(\n",
    "        rows=2, cols=2,\n",
    "        subplot_titles=('APR Distribution', 'Historical Conversion Rate', \n",
    "                       'Risk-Adjusted Margin', 'Expected Utility'),\n",
    "        specs=[[{\"secondary_y\": False}, {\"secondary_y\": False}],\n",
    "               [{\"secondary_y\": False}, {\"secondary_y\": False}]]\n",
    "    )\n",
    "    \n",
    "    # APR distribution\n",
    "    fig.add_trace(go.Histogram(x=products['apr'], name='APR', nbinsx=20), row=1, col=1)\n",
    "    \n",
    "    # Conversion rate\n",
    "    fig.add_trace(go.Histogram(x=products['hist_conv_rate'], name='Conv Rate', nbinsx=20), row=1, col=2)\n",
    "    \n",
    "    # Risk-adjusted margin\n",
    "    fig.add_trace(go.Histogram(x=products['risk_adj_margin'], name='Risk Margin', nbinsx=20), row=2, col=1)\n",
    "    \n",
    "    # Expected utility\n",
    "    fig.add_trace(go.Histogram(x=products['expected_utility'], name='Utility', nbinsx=20), row=2, col=2)\n",
    "    \n",
    "    fig.update_layout(height=800, title_text=\"Product Performance Metrics Distribution\")\n",
    "    fig.show()\n",
    "    \n",
    "    # Performance statistics\n",
    "    print(\"\\n🎯 Product Performance Statistics:\")\n",
    "    performance_cols = ['apr', 'hist_conv_rate', 'risk_adj_margin', 'expected_utility', \n",
    "                       'hist_profit', 'cross_sell_score']\n",
    "    for col in performance_cols:\n",
    "        if col in products.columns:\n",
    "            print(f\"{col}: Mean={products[col].mean():.3f}, Std={products[col].std():.3f}\")"
   ]
  },
  {
   "cell_type": "markdown",
   "id": "d4bc27ff",
   "metadata": {},
   "source": [
    "## 3. Customer Dataset Analysis"
   ]
  },
  {
   "cell_type": "code",
   "execution_count": 8,
   "id": "59d7a6bf",
   "metadata": {},
   "outputs": [
    {
     "name": "stdout",
     "output_type": "stream",
     "text": [
      "👥 CUSTOMERS DATASET DEEP DIVE\n",
      "==================================================\n",
      "\n",
      "🔍 Sample Customer Data:\n"
     ]
    },
    {
     "data": {
      "application/vnd.microsoft.datawrangler.viewer.v0+json": {
       "columns": [
        {
         "name": "index",
         "rawType": "int64",
         "type": "integer"
        },
        {
         "name": "user_id",
         "rawType": "object",
         "type": "string"
        },
        {
         "name": "age",
         "rawType": "int64",
         "type": "integer"
        },
        {
         "name": "occupation",
         "rawType": "object",
         "type": "string"
        },
        {
         "name": "income_tier",
         "rawType": "object",
         "type": "string"
        },
        {
         "name": "marital_status",
         "rawType": "object",
         "type": "string"
        },
        {
         "name": "household_size",
         "rawType": "int64",
         "type": "integer"
        },
        {
         "name": "preferred_language",
         "rawType": "object",
         "type": "string"
        },
        {
         "name": "products",
         "rawType": "object",
         "type": "string"
        },
        {
         "name": "tenure_years",
         "rawType": "int64",
         "type": "integer"
        },
        {
         "name": "avg_balance",
         "rawType": "float64",
         "type": "float"
        },
        {
         "name": "cc_limit_util",
         "rawType": "object",
         "type": "string"
        },
        {
         "name": "mortgage_outstanding",
         "rawType": "float64",
         "type": "float"
        },
        {
         "name": "investments_aum",
         "rawType": "float64",
         "type": "float"
        },
        {
         "name": "monthly_salary",
         "rawType": "float64",
         "type": "float"
        },
        {
         "name": "top_mcc",
         "rawType": "object",
         "type": "string"
        },
        {
         "name": "ecom_pos_ratio",
         "rawType": "float64",
         "type": "float"
        },
        {
         "name": "overseas_share",
         "rawType": "float64",
         "type": "float"
        },
        {
         "name": "avg_bill_pay_amt",
         "rawType": "float64",
         "type": "float"
        },
        {
         "name": "cash_wd_freq",
         "rawType": "int64",
         "type": "integer"
        },
        {
         "name": "mobile_login_freq",
         "rawType": "int64",
         "type": "integer"
        },
        {
         "name": "days_since_push",
         "rawType": "int64",
         "type": "integer"
        },
        {
         "name": "preferred_channel",
         "rawType": "object",
         "type": "string"
        },
        {
         "name": "offer_ctr",
         "rawType": "float64",
         "type": "float"
        },
        {
         "name": "offer_accepts",
         "rawType": "int64",
         "type": "integer"
        },
        {
         "name": "offer_fatigue",
         "rawType": "float64",
         "type": "float"
        },
        {
         "name": "declined_offer_cat",
         "rawType": "object",
         "type": "unknown"
        },
        {
         "name": "day_time",
         "rawType": "object",
         "type": "string"
        },
        {
         "name": "season_flag",
         "rawType": "object",
         "type": "unknown"
        },
        {
         "name": "geo_region",
         "rawType": "object",
         "type": "string"
        },
        {
         "name": "weather",
         "rawType": "object",
         "type": "string"
        },
        {
         "name": "rt_spending_trigger",
         "rawType": "bool",
         "type": "boolean"
        },
        {
         "name": "clv_score",
         "rawType": "float64",
         "type": "float"
        },
        {
         "name": "churn_risk",
         "rawType": "float64",
         "type": "float"
        },
        {
         "name": "propensity_scores",
         "rawType": "object",
         "type": "string"
        },
        {
         "name": "price_sensitivity",
         "rawType": "float64",
         "type": "float"
        },
        {
         "name": "peer_cluster_vec",
         "rawType": "object",
         "type": "string"
        },
        {
         "name": "usage_journey",
         "rawType": "object",
         "type": "string"
        }
       ],
       "ref": "718a19fa-d90d-4f99-9f0f-279cc3fdaa30",
       "rows": [
        [
         "0",
         "ad089c26-f733-4535-9901-bfbf827272b5",
         "32",
         "GOV",
         "Affluent",
         "Divorced",
         "2",
         "vi",
         "{'DDA': 0, 'SAV': 1, 'CC': 1, 'MORT': 0, 'INV': 0, 'INS': 1, 'LOAN': 0, 'FX': 1}",
         "9",
         "8137.517124",
         "{'limit': 34673, 'utilisation': 0.27}",
         "115490.8066",
         "3764.015709",
         "2388.96",
         "Healthcare",
         "0.83",
         "0.1",
         "910.61",
         "2",
         "24",
         "28",
         "Web",
         "0.119",
         "2",
         "0.2",
         "Insurance",
         "Fri_22:00",
         null,
         "Hanoi_Metro",
         "Cloudy",
         "False",
         "27189.37",
         "0.534",
         "{'CreditCard': 0.555, 'PersonalLoan': 0.139, 'Mortgage': 0.356, 'Insurance': 0.244, 'Investment': 0.571}",
         "0.65",
         "[np.float64(0.653), np.float64(1.533), np.float64(1.091), np.float64(-0.707), np.float64(-0.584)]",
         "['Login', 'Approved', 'Service', 'Compare']"
        ],
        [
         "1",
         "1fce992a-435c-4363-917c-aed958213b43",
         "28",
         "FIN",
         "Low",
         "Married",
         "4",
         "vi",
         "{'DDA': 1, 'SAV': 1, 'CC': 1, 'MORT': 1, 'INV': 0, 'INS': 1, 'LOAN': 0, 'FX': 0}",
         "25",
         "18752.30368",
         "{'limit': 40254, 'utilisation': 0.18}",
         "53582.44388",
         "9082.966221",
         "1198.02",
         "Entertainment",
         "0.33",
         "0.14",
         "534.84",
         "1",
         "23",
         "32",
         "ATM",
         "0.092",
         "0",
         "0.07",
         "Insurance",
         "Fri_22:00",
         "Summer",
         "HCMC_Metro",
         "Cold",
         "False",
         "53686.9",
         "0.086",
         "{'CreditCard': 0.11, 'PersonalLoan': 0.02, 'Mortgage': 0.322, 'Insurance': 0.275, 'Investment': 0.117}",
         "0.52",
         "[np.float64(0.766), np.float64(0.292), np.float64(-0.319), np.float64(0.188), np.float64(-0.21)]",
         "['Service', 'AwaitApproval', 'Compare', 'ViewProduct', 'Login', 'Activate']"
        ],
        [
         "2",
         "26b6cb73-8bb6-4bf5-a7a0-c932721e1df9",
         "65",
         "RETAIL",
         "Low",
         "Single",
         "4",
         "vi",
         "{'DDA': 0, 'SAV': 0, 'CC': 0, 'MORT': 1, 'INV': 1, 'INS': 0, 'LOAN': 0, 'FX': 1}",
         "6",
         "7661.861656",
         "{'limit': 33909, 'utilisation': 0.22}",
         "121902.037",
         "17716.72317",
         "1251.7",
         "Entertainment",
         "0.41",
         "0.21",
         "575.01",
         "4",
         "29",
         "6",
         "Mobile",
         "0.191",
         "1",
         "0.53",
         null,
         "Fri_22:00",
         "MidAutumn",
         "Central",
         "Cloudy",
         "False",
         "16887.37",
         "0.166",
         "{'CreditCard': 0.003, 'PersonalLoan': 0.083, 'Mortgage': 0.281, 'Insurance': 0.242, 'Investment': 0.024}",
         "0.39",
         "[np.float64(0.904), np.float64(0.362), np.float64(0.817), np.float64(0.891), np.float64(0.221)]",
         "['Service', 'Apply', 'Activate', 'Login']"
        ],
        [
         "3",
         "51c75821-5a6e-4e29-948b-2ecfdc9cc12f",
         "34",
         "RETAIL",
         "Upper-Middle",
         "Divorced",
         "3",
         "en",
         "{'DDA': 0, 'SAV': 0, 'CC': 1, 'MORT': 0, 'INV': 0, 'INS': 1, 'LOAN': 1, 'FX': 0}",
         "23",
         "5369.284725",
         "{'limit': 25422, 'utilisation': 0.15}",
         "51415.01786",
         "31294.59913",
         "2636.41",
         "Entertainment",
         "0.4",
         "0.12",
         "833.47",
         "1",
         "27",
         "41",
         "CallCenter",
         "0.187",
         "1",
         "0.42",
         null,
         "Fri_22:00",
         null,
         "South",
         "Cold",
         "False",
         "44652.21",
         "0.363",
         "{'CreditCard': 0.028, 'PersonalLoan': 0.198, 'Mortgage': 0.204, 'Insurance': 0.151, 'Investment': 0.609}",
         "0.78",
         "[np.float64(-0.668), np.float64(0.849), np.float64(0.487), np.float64(-0.959), np.float64(0.058)]",
         "['UploadDocs', 'Login', 'ViewProduct', 'Compare', 'Activate', 'Service', 'AwaitApproval', 'Approved']"
        ],
        [
         "4",
         "3d29ae48-1838-44ba-ae30-8a8c4275d138",
         "72",
         "EDU",
         "Lower-Middle",
         "Single",
         "4",
         "en",
         "{'DDA': 1, 'SAV': 1, 'CC': 0, 'MORT': 0, 'INV': 0, 'INS': 0, 'LOAN': 0, 'FX': 0}",
         "21",
         "65906.07078",
         "{'limit': 19208, 'utilisation': 0.4}",
         "0.0",
         "5571.306463",
         "2495.41",
         "Entertainment",
         "0.46",
         "0.08",
         "441.54",
         "7",
         "24",
         "20",
         "Web",
         "0.036",
         "1",
         "0.33",
         "Insurance",
         "Fri_22:00",
         null,
         "HCMC_Metro",
         "Clear",
         "True",
         "38716.65",
         "0.307",
         "{'CreditCard': 0.511, 'PersonalLoan': 0.043, 'Mortgage': 0.197, 'Insurance': 0.417, 'Investment': 0.109}",
         "0.34",
         "[np.float64(0.878), np.float64(0.63), np.float64(-0.285), np.float64(-1.048), np.float64(-1.578)]",
         "['UploadDocs', 'Apply', 'AwaitApproval', 'Activate', 'ViewProduct']"
        ]
       ],
       "shape": {
        "columns": 37,
        "rows": 5
       }
      },
      "text/html": [
       "<div>\n",
       "<style scoped>\n",
       "    .dataframe tbody tr th:only-of-type {\n",
       "        vertical-align: middle;\n",
       "    }\n",
       "\n",
       "    .dataframe tbody tr th {\n",
       "        vertical-align: top;\n",
       "    }\n",
       "\n",
       "    .dataframe thead th {\n",
       "        text-align: right;\n",
       "    }\n",
       "</style>\n",
       "<table border=\"1\" class=\"dataframe\">\n",
       "  <thead>\n",
       "    <tr style=\"text-align: right;\">\n",
       "      <th></th>\n",
       "      <th>user_id</th>\n",
       "      <th>age</th>\n",
       "      <th>occupation</th>\n",
       "      <th>income_tier</th>\n",
       "      <th>marital_status</th>\n",
       "      <th>household_size</th>\n",
       "      <th>preferred_language</th>\n",
       "      <th>products</th>\n",
       "      <th>tenure_years</th>\n",
       "      <th>avg_balance</th>\n",
       "      <th>cc_limit_util</th>\n",
       "      <th>mortgage_outstanding</th>\n",
       "      <th>investments_aum</th>\n",
       "      <th>monthly_salary</th>\n",
       "      <th>top_mcc</th>\n",
       "      <th>ecom_pos_ratio</th>\n",
       "      <th>overseas_share</th>\n",
       "      <th>avg_bill_pay_amt</th>\n",
       "      <th>cash_wd_freq</th>\n",
       "      <th>mobile_login_freq</th>\n",
       "      <th>days_since_push</th>\n",
       "      <th>preferred_channel</th>\n",
       "      <th>offer_ctr</th>\n",
       "      <th>offer_accepts</th>\n",
       "      <th>offer_fatigue</th>\n",
       "      <th>declined_offer_cat</th>\n",
       "      <th>day_time</th>\n",
       "      <th>season_flag</th>\n",
       "      <th>geo_region</th>\n",
       "      <th>weather</th>\n",
       "      <th>rt_spending_trigger</th>\n",
       "      <th>clv_score</th>\n",
       "      <th>churn_risk</th>\n",
       "      <th>propensity_scores</th>\n",
       "      <th>price_sensitivity</th>\n",
       "      <th>peer_cluster_vec</th>\n",
       "      <th>usage_journey</th>\n",
       "    </tr>\n",
       "  </thead>\n",
       "  <tbody>\n",
       "    <tr>\n",
       "      <th>0</th>\n",
       "      <td>ad089c26-f733-4535-9901-bfbf827272b5</td>\n",
       "      <td>32</td>\n",
       "      <td>GOV</td>\n",
       "      <td>Affluent</td>\n",
       "      <td>Divorced</td>\n",
       "      <td>2</td>\n",
       "      <td>vi</td>\n",
       "      <td>{'DDA': 0, 'SAV': 1, 'CC': 1, 'MORT': 0, 'INV'...</td>\n",
       "      <td>9</td>\n",
       "      <td>8137.517124</td>\n",
       "      <td>{'limit': 34673, 'utilisation': 0.27}</td>\n",
       "      <td>115490.80660</td>\n",
       "      <td>3764.015709</td>\n",
       "      <td>2388.96</td>\n",
       "      <td>Healthcare</td>\n",
       "      <td>0.83</td>\n",
       "      <td>0.10</td>\n",
       "      <td>910.61</td>\n",
       "      <td>2</td>\n",
       "      <td>24</td>\n",
       "      <td>28</td>\n",
       "      <td>Web</td>\n",
       "      <td>0.119</td>\n",
       "      <td>2</td>\n",
       "      <td>0.20</td>\n",
       "      <td>Insurance</td>\n",
       "      <td>Fri_22:00</td>\n",
       "      <td>NaN</td>\n",
       "      <td>Hanoi_Metro</td>\n",
       "      <td>Cloudy</td>\n",
       "      <td>False</td>\n",
       "      <td>27189.37</td>\n",
       "      <td>0.534</td>\n",
       "      <td>{'CreditCard': 0.555, 'PersonalLoan': 0.139, '...</td>\n",
       "      <td>0.65</td>\n",
       "      <td>[np.float64(0.653), np.float64(1.533), np.floa...</td>\n",
       "      <td>['Login', 'Approved', 'Service', 'Compare']</td>\n",
       "    </tr>\n",
       "    <tr>\n",
       "      <th>1</th>\n",
       "      <td>1fce992a-435c-4363-917c-aed958213b43</td>\n",
       "      <td>28</td>\n",
       "      <td>FIN</td>\n",
       "      <td>Low</td>\n",
       "      <td>Married</td>\n",
       "      <td>4</td>\n",
       "      <td>vi</td>\n",
       "      <td>{'DDA': 1, 'SAV': 1, 'CC': 1, 'MORT': 1, 'INV'...</td>\n",
       "      <td>25</td>\n",
       "      <td>18752.303680</td>\n",
       "      <td>{'limit': 40254, 'utilisation': 0.18}</td>\n",
       "      <td>53582.44388</td>\n",
       "      <td>9082.966221</td>\n",
       "      <td>1198.02</td>\n",
       "      <td>Entertainment</td>\n",
       "      <td>0.33</td>\n",
       "      <td>0.14</td>\n",
       "      <td>534.84</td>\n",
       "      <td>1</td>\n",
       "      <td>23</td>\n",
       "      <td>32</td>\n",
       "      <td>ATM</td>\n",
       "      <td>0.092</td>\n",
       "      <td>0</td>\n",
       "      <td>0.07</td>\n",
       "      <td>Insurance</td>\n",
       "      <td>Fri_22:00</td>\n",
       "      <td>Summer</td>\n",
       "      <td>HCMC_Metro</td>\n",
       "      <td>Cold</td>\n",
       "      <td>False</td>\n",
       "      <td>53686.90</td>\n",
       "      <td>0.086</td>\n",
       "      <td>{'CreditCard': 0.11, 'PersonalLoan': 0.02, 'Mo...</td>\n",
       "      <td>0.52</td>\n",
       "      <td>[np.float64(0.766), np.float64(0.292), np.floa...</td>\n",
       "      <td>['Service', 'AwaitApproval', 'Compare', 'ViewP...</td>\n",
       "    </tr>\n",
       "    <tr>\n",
       "      <th>2</th>\n",
       "      <td>26b6cb73-8bb6-4bf5-a7a0-c932721e1df9</td>\n",
       "      <td>65</td>\n",
       "      <td>RETAIL</td>\n",
       "      <td>Low</td>\n",
       "      <td>Single</td>\n",
       "      <td>4</td>\n",
       "      <td>vi</td>\n",
       "      <td>{'DDA': 0, 'SAV': 0, 'CC': 0, 'MORT': 1, 'INV'...</td>\n",
       "      <td>6</td>\n",
       "      <td>7661.861656</td>\n",
       "      <td>{'limit': 33909, 'utilisation': 0.22}</td>\n",
       "      <td>121902.03700</td>\n",
       "      <td>17716.723170</td>\n",
       "      <td>1251.70</td>\n",
       "      <td>Entertainment</td>\n",
       "      <td>0.41</td>\n",
       "      <td>0.21</td>\n",
       "      <td>575.01</td>\n",
       "      <td>4</td>\n",
       "      <td>29</td>\n",
       "      <td>6</td>\n",
       "      <td>Mobile</td>\n",
       "      <td>0.191</td>\n",
       "      <td>1</td>\n",
       "      <td>0.53</td>\n",
       "      <td>NaN</td>\n",
       "      <td>Fri_22:00</td>\n",
       "      <td>MidAutumn</td>\n",
       "      <td>Central</td>\n",
       "      <td>Cloudy</td>\n",
       "      <td>False</td>\n",
       "      <td>16887.37</td>\n",
       "      <td>0.166</td>\n",
       "      <td>{'CreditCard': 0.003, 'PersonalLoan': 0.083, '...</td>\n",
       "      <td>0.39</td>\n",
       "      <td>[np.float64(0.904), np.float64(0.362), np.floa...</td>\n",
       "      <td>['Service', 'Apply', 'Activate', 'Login']</td>\n",
       "    </tr>\n",
       "    <tr>\n",
       "      <th>3</th>\n",
       "      <td>51c75821-5a6e-4e29-948b-2ecfdc9cc12f</td>\n",
       "      <td>34</td>\n",
       "      <td>RETAIL</td>\n",
       "      <td>Upper-Middle</td>\n",
       "      <td>Divorced</td>\n",
       "      <td>3</td>\n",
       "      <td>en</td>\n",
       "      <td>{'DDA': 0, 'SAV': 0, 'CC': 1, 'MORT': 0, 'INV'...</td>\n",
       "      <td>23</td>\n",
       "      <td>5369.284725</td>\n",
       "      <td>{'limit': 25422, 'utilisation': 0.15}</td>\n",
       "      <td>51415.01786</td>\n",
       "      <td>31294.599130</td>\n",
       "      <td>2636.41</td>\n",
       "      <td>Entertainment</td>\n",
       "      <td>0.40</td>\n",
       "      <td>0.12</td>\n",
       "      <td>833.47</td>\n",
       "      <td>1</td>\n",
       "      <td>27</td>\n",
       "      <td>41</td>\n",
       "      <td>CallCenter</td>\n",
       "      <td>0.187</td>\n",
       "      <td>1</td>\n",
       "      <td>0.42</td>\n",
       "      <td>NaN</td>\n",
       "      <td>Fri_22:00</td>\n",
       "      <td>NaN</td>\n",
       "      <td>South</td>\n",
       "      <td>Cold</td>\n",
       "      <td>False</td>\n",
       "      <td>44652.21</td>\n",
       "      <td>0.363</td>\n",
       "      <td>{'CreditCard': 0.028, 'PersonalLoan': 0.198, '...</td>\n",
       "      <td>0.78</td>\n",
       "      <td>[np.float64(-0.668), np.float64(0.849), np.flo...</td>\n",
       "      <td>['UploadDocs', 'Login', 'ViewProduct', 'Compar...</td>\n",
       "    </tr>\n",
       "    <tr>\n",
       "      <th>4</th>\n",
       "      <td>3d29ae48-1838-44ba-ae30-8a8c4275d138</td>\n",
       "      <td>72</td>\n",
       "      <td>EDU</td>\n",
       "      <td>Lower-Middle</td>\n",
       "      <td>Single</td>\n",
       "      <td>4</td>\n",
       "      <td>en</td>\n",
       "      <td>{'DDA': 1, 'SAV': 1, 'CC': 0, 'MORT': 0, 'INV'...</td>\n",
       "      <td>21</td>\n",
       "      <td>65906.070780</td>\n",
       "      <td>{'limit': 19208, 'utilisation': 0.4}</td>\n",
       "      <td>0.00000</td>\n",
       "      <td>5571.306463</td>\n",
       "      <td>2495.41</td>\n",
       "      <td>Entertainment</td>\n",
       "      <td>0.46</td>\n",
       "      <td>0.08</td>\n",
       "      <td>441.54</td>\n",
       "      <td>7</td>\n",
       "      <td>24</td>\n",
       "      <td>20</td>\n",
       "      <td>Web</td>\n",
       "      <td>0.036</td>\n",
       "      <td>1</td>\n",
       "      <td>0.33</td>\n",
       "      <td>Insurance</td>\n",
       "      <td>Fri_22:00</td>\n",
       "      <td>NaN</td>\n",
       "      <td>HCMC_Metro</td>\n",
       "      <td>Clear</td>\n",
       "      <td>True</td>\n",
       "      <td>38716.65</td>\n",
       "      <td>0.307</td>\n",
       "      <td>{'CreditCard': 0.511, 'PersonalLoan': 0.043, '...</td>\n",
       "      <td>0.34</td>\n",
       "      <td>[np.float64(0.878), np.float64(0.63), np.float...</td>\n",
       "      <td>['UploadDocs', 'Apply', 'AwaitApproval', 'Acti...</td>\n",
       "    </tr>\n",
       "  </tbody>\n",
       "</table>\n",
       "</div>"
      ],
      "text/plain": [
       "                                user_id  age occupation   income_tier  \\\n",
       "0  ad089c26-f733-4535-9901-bfbf827272b5   32        GOV      Affluent   \n",
       "1  1fce992a-435c-4363-917c-aed958213b43   28        FIN           Low   \n",
       "2  26b6cb73-8bb6-4bf5-a7a0-c932721e1df9   65     RETAIL           Low   \n",
       "3  51c75821-5a6e-4e29-948b-2ecfdc9cc12f   34     RETAIL  Upper-Middle   \n",
       "4  3d29ae48-1838-44ba-ae30-8a8c4275d138   72        EDU  Lower-Middle   \n",
       "\n",
       "  marital_status  household_size preferred_language  \\\n",
       "0       Divorced               2                 vi   \n",
       "1        Married               4                 vi   \n",
       "2         Single               4                 vi   \n",
       "3       Divorced               3                 en   \n",
       "4         Single               4                 en   \n",
       "\n",
       "                                            products  tenure_years  \\\n",
       "0  {'DDA': 0, 'SAV': 1, 'CC': 1, 'MORT': 0, 'INV'...             9   \n",
       "1  {'DDA': 1, 'SAV': 1, 'CC': 1, 'MORT': 1, 'INV'...            25   \n",
       "2  {'DDA': 0, 'SAV': 0, 'CC': 0, 'MORT': 1, 'INV'...             6   \n",
       "3  {'DDA': 0, 'SAV': 0, 'CC': 1, 'MORT': 0, 'INV'...            23   \n",
       "4  {'DDA': 1, 'SAV': 1, 'CC': 0, 'MORT': 0, 'INV'...            21   \n",
       "\n",
       "    avg_balance                          cc_limit_util  mortgage_outstanding  \\\n",
       "0   8137.517124  {'limit': 34673, 'utilisation': 0.27}          115490.80660   \n",
       "1  18752.303680  {'limit': 40254, 'utilisation': 0.18}           53582.44388   \n",
       "2   7661.861656  {'limit': 33909, 'utilisation': 0.22}          121902.03700   \n",
       "3   5369.284725  {'limit': 25422, 'utilisation': 0.15}           51415.01786   \n",
       "4  65906.070780   {'limit': 19208, 'utilisation': 0.4}               0.00000   \n",
       "\n",
       "   investments_aum  monthly_salary        top_mcc  ecom_pos_ratio  \\\n",
       "0      3764.015709         2388.96     Healthcare            0.83   \n",
       "1      9082.966221         1198.02  Entertainment            0.33   \n",
       "2     17716.723170         1251.70  Entertainment            0.41   \n",
       "3     31294.599130         2636.41  Entertainment            0.40   \n",
       "4      5571.306463         2495.41  Entertainment            0.46   \n",
       "\n",
       "   overseas_share  avg_bill_pay_amt  cash_wd_freq  mobile_login_freq  \\\n",
       "0            0.10            910.61             2                 24   \n",
       "1            0.14            534.84             1                 23   \n",
       "2            0.21            575.01             4                 29   \n",
       "3            0.12            833.47             1                 27   \n",
       "4            0.08            441.54             7                 24   \n",
       "\n",
       "   days_since_push preferred_channel  offer_ctr  offer_accepts  offer_fatigue  \\\n",
       "0               28               Web      0.119              2           0.20   \n",
       "1               32               ATM      0.092              0           0.07   \n",
       "2                6            Mobile      0.191              1           0.53   \n",
       "3               41        CallCenter      0.187              1           0.42   \n",
       "4               20               Web      0.036              1           0.33   \n",
       "\n",
       "  declined_offer_cat   day_time season_flag   geo_region weather  \\\n",
       "0          Insurance  Fri_22:00         NaN  Hanoi_Metro  Cloudy   \n",
       "1          Insurance  Fri_22:00      Summer   HCMC_Metro    Cold   \n",
       "2                NaN  Fri_22:00   MidAutumn      Central  Cloudy   \n",
       "3                NaN  Fri_22:00         NaN        South    Cold   \n",
       "4          Insurance  Fri_22:00         NaN   HCMC_Metro   Clear   \n",
       "\n",
       "   rt_spending_trigger  clv_score  churn_risk  \\\n",
       "0                False   27189.37       0.534   \n",
       "1                False   53686.90       0.086   \n",
       "2                False   16887.37       0.166   \n",
       "3                False   44652.21       0.363   \n",
       "4                 True   38716.65       0.307   \n",
       "\n",
       "                                   propensity_scores  price_sensitivity  \\\n",
       "0  {'CreditCard': 0.555, 'PersonalLoan': 0.139, '...               0.65   \n",
       "1  {'CreditCard': 0.11, 'PersonalLoan': 0.02, 'Mo...               0.52   \n",
       "2  {'CreditCard': 0.003, 'PersonalLoan': 0.083, '...               0.39   \n",
       "3  {'CreditCard': 0.028, 'PersonalLoan': 0.198, '...               0.78   \n",
       "4  {'CreditCard': 0.511, 'PersonalLoan': 0.043, '...               0.34   \n",
       "\n",
       "                                    peer_cluster_vec  \\\n",
       "0  [np.float64(0.653), np.float64(1.533), np.floa...   \n",
       "1  [np.float64(0.766), np.float64(0.292), np.floa...   \n",
       "2  [np.float64(0.904), np.float64(0.362), np.floa...   \n",
       "3  [np.float64(-0.668), np.float64(0.849), np.flo...   \n",
       "4  [np.float64(0.878), np.float64(0.63), np.float...   \n",
       "\n",
       "                                       usage_journey  \n",
       "0        ['Login', 'Approved', 'Service', 'Compare']  \n",
       "1  ['Service', 'AwaitApproval', 'Compare', 'ViewP...  \n",
       "2          ['Service', 'Apply', 'Activate', 'Login']  \n",
       "3  ['UploadDocs', 'Login', 'ViewProduct', 'Compar...  \n",
       "4  ['UploadDocs', 'Apply', 'AwaitApproval', 'Acti...  "
      ]
     },
     "metadata": {},
     "output_type": "display_data"
    },
    {
     "name": "stdout",
     "output_type": "stream",
     "text": [
      "\n",
      "📊 Large dataset detected (100,000 rows). Analyzing sample of 10,000...\n",
      "\n",
      "Analyzing 10,000 customer records...\n"
     ]
    }
   ],
   "source": [
    "# Customer dataset overview (if available)\n",
    "if 'customers' in locals():\n",
    "    print(\"👥 CUSTOMERS DATASET DEEP DIVE\")\n",
    "    print(\"=\" * 50)\n",
    "    \n",
    "    # Sample data\n",
    "    print(\"\\n🔍 Sample Customer Data:\")\n",
    "    display(customers.head())\n",
    "    \n",
    "    # If customer data is too large, analyze a sample\n",
    "    if len(customers) > 10000:\n",
    "        print(f\"\\n📊 Large dataset detected ({len(customers):,} rows). Analyzing sample of 10,000...\")\n",
    "        customer_sample = customers.sample(n=10000, random_state=42)\n",
    "    else:\n",
    "        customer_sample = customers.copy()\n",
    "    \n",
    "    print(f\"\\nAnalyzing {len(customer_sample):,} customer records...\")\n",
    "else:\n",
    "    print(\"⚠️ Customer dataset not available or too large to load\")\n",
    "    print(\"Proceeding with products and adoption analysis...\")\n",
    "    customer_sample = None"
   ]
  },
  {
   "cell_type": "code",
   "execution_count": 9,
   "id": "2a6a3bcb",
   "metadata": {},
   "outputs": [
    {
     "data": {
      "application/vnd.plotly.v1+json": {
       "config": {
        "plotlyServerURL": "https://plot.ly"
       },
       "data": [
        {
         "name": "age",
         "nbinsx": 20,
         "type": "histogram",
         "x": {
          "bdata": "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",
          "dtype": "i1"
         }
        }
       ],
       "layout": {
        "height": 400,
        "template": {
         "data": {
          "bar": [
           {
            "error_x": {
             "color": "#2a3f5f"
            },
            "error_y": {
             "color": "#2a3f5f"
            },
            "marker": {
             "line": {
              "color": "#E5ECF6",
              "width": 0.5
             },
             "pattern": {
              "fillmode": "overlay",
              "size": 10,
              "solidity": 0.2
             }
            },
            "type": "bar"
           }
          ],
          "barpolar": [
           {
            "marker": {
             "line": {
              "color": "#E5ECF6",
              "width": 0.5
             },
             "pattern": {
              "fillmode": "overlay",
              "size": 10,
              "solidity": 0.2
             }
            },
            "type": "barpolar"
           }
          ],
          "carpet": [
           {
            "aaxis": {
             "endlinecolor": "#2a3f5f",
             "gridcolor": "white",
             "linecolor": "white",
             "minorgridcolor": "white",
             "startlinecolor": "#2a3f5f"
            },
            "baxis": {
             "endlinecolor": "#2a3f5f",
             "gridcolor": "white",
             "linecolor": "white",
             "minorgridcolor": "white",
             "startlinecolor": "#2a3f5f"
            },
            "type": "carpet"
           }
          ],
          "choropleth": [
           {
            "colorbar": {
             "outlinewidth": 0,
             "ticks": ""
            },
            "type": "choropleth"
           }
          ],
          "contour": [
           {
            "colorbar": {
             "outlinewidth": 0,
             "ticks": ""
            },
            "colorscale": [
             [
              0,
              "#0d0887"
             ],
             [
              0.1111111111111111,
              "#46039f"
             ],
             [
              0.2222222222222222,
              "#7201a8"
             ],
             [
              0.3333333333333333,
              "#9c179e"
             ],
             [
              0.4444444444444444,
              "#bd3786"
             ],
             [
              0.5555555555555556,
              "#d8576b"
             ],
             [
              0.6666666666666666,
              "#ed7953"
             ],
             [
              0.7777777777777778,
              "#fb9f3a"
             ],
             [
              0.8888888888888888,
              "#fdca26"
             ],
             [
              1,
              "#f0f921"
             ]
            ],
            "type": "contour"
           }
          ],
          "contourcarpet": [
           {
            "colorbar": {
             "outlinewidth": 0,
             "ticks": ""
            },
            "type": "contourcarpet"
           }
          ],
          "heatmap": [
           {
            "colorbar": {
             "outlinewidth": 0,
             "ticks": ""
            },
            "colorscale": [
             [
              0,
              "#0d0887"
             ],
             [
              0.1111111111111111,
              "#46039f"
             ],
             [
              0.2222222222222222,
              "#7201a8"
             ],
             [
              0.3333333333333333,
              "#9c179e"
             ],
             [
              0.4444444444444444,
              "#bd3786"
             ],
             [
              0.5555555555555556,
              "#d8576b"
             ],
             [
              0.6666666666666666,
              "#ed7953"
             ],
             [
              0.7777777777777778,
              "#fb9f3a"
             ],
             [
              0.8888888888888888,
              "#fdca26"
             ],
             [
              1,
              "#f0f921"
             ]
            ],
            "type": "heatmap"
           }
          ],
          "histogram": [
           {
            "marker": {
             "pattern": {
              "fillmode": "overlay",
              "size": 10,
              "solidity": 0.2
             }
            },
            "type": "histogram"
           }
          ],
          "histogram2d": [
           {
            "colorbar": {
             "outlinewidth": 0,
             "ticks": ""
            },
            "colorscale": [
             [
              0,
              "#0d0887"
             ],
             [
              0.1111111111111111,
              "#46039f"
             ],
             [
              0.2222222222222222,
              "#7201a8"
             ],
             [
              0.3333333333333333,
              "#9c179e"
             ],
             [
              0.4444444444444444,
              "#bd3786"
             ],
             [
              0.5555555555555556,
              "#d8576b"
             ],
             [
              0.6666666666666666,
              "#ed7953"
             ],
             [
              0.7777777777777778,
              "#fb9f3a"
             ],
             [
              0.8888888888888888,
              "#fdca26"
             ],
             [
              1,
              "#f0f921"
             ]
            ],
            "type": "histogram2d"
           }
          ],
          "histogram2dcontour": [
           {
            "colorbar": {
             "outlinewidth": 0,
             "ticks": ""
            },
            "colorscale": [
             [
              0,
              "#0d0887"
             ],
             [
              0.1111111111111111,
              "#46039f"
             ],
             [
              0.2222222222222222,
              "#7201a8"
             ],
             [
              0.3333333333333333,
              "#9c179e"
             ],
             [
              0.4444444444444444,
              "#bd3786"
             ],
             [
              0.5555555555555556,
              "#d8576b"
             ],
             [
              0.6666666666666666,
              "#ed7953"
             ],
             [
              0.7777777777777778,
              "#fb9f3a"
             ],
             [
              0.8888888888888888,
              "#fdca26"
             ],
             [
              1,
              "#f0f921"
             ]
            ],
            "type": "histogram2dcontour"
           }
          ],
          "mesh3d": [
           {
            "colorbar": {
             "outlinewidth": 0,
             "ticks": ""
            },
            "type": "mesh3d"
           }
          ],
          "parcoords": [
           {
            "line": {
             "colorbar": {
              "outlinewidth": 0,
              "ticks": ""
             }
            },
            "type": "parcoords"
           }
          ],
          "pie": [
           {
            "automargin": true,
            "type": "pie"
           }
          ],
          "scatter": [
           {
            "fillpattern": {
             "fillmode": "overlay",
             "size": 10,
             "solidity": 0.2
            },
            "type": "scatter"
           }
          ],
          "scatter3d": [
           {
            "line": {
             "colorbar": {
              "outlinewidth": 0,
              "ticks": ""
             }
            },
            "marker": {
             "colorbar": {
              "outlinewidth": 0,
              "ticks": ""
             }
            },
            "type": "scatter3d"
           }
          ],
          "scattercarpet": [
           {
            "marker": {
             "colorbar": {
              "outlinewidth": 0,
              "ticks": ""
             }
            },
            "type": "scattercarpet"
           }
          ],
          "scattergeo": [
           {
            "marker": {
             "colorbar": {
              "outlinewidth": 0,
              "ticks": ""
             }
            },
            "type": "scattergeo"
           }
          ],
          "scattergl": [
           {
            "marker": {
             "colorbar": {
              "outlinewidth": 0,
              "ticks": ""
             }
            },
            "type": "scattergl"
           }
          ],
          "scattermap": [
           {
            "marker": {
             "colorbar": {
              "outlinewidth": 0,
              "ticks": ""
             }
            },
            "type": "scattermap"
           }
          ],
          "scattermapbox": [
           {
            "marker": {
             "colorbar": {
              "outlinewidth": 0,
              "ticks": ""
             }
            },
            "type": "scattermapbox"
           }
          ],
          "scatterpolar": [
           {
            "marker": {
             "colorbar": {
              "outlinewidth": 0,
              "ticks": ""
             }
            },
            "type": "scatterpolar"
           }
          ],
          "scatterpolargl": [
           {
            "marker": {
             "colorbar": {
              "outlinewidth": 0,
              "ticks": ""
             }
            },
            "type": "scatterpolargl"
           }
          ],
          "scatterternary": [
           {
            "marker": {
             "colorbar": {
              "outlinewidth": 0,
              "ticks": ""
             }
            },
            "type": "scatterternary"
           }
          ],
          "surface": [
           {
            "colorbar": {
             "outlinewidth": 0,
             "ticks": ""
            },
            "colorscale": [
             [
              0,
              "#0d0887"
             ],
             [
              0.1111111111111111,
              "#46039f"
             ],
             [
              0.2222222222222222,
              "#7201a8"
             ],
             [
              0.3333333333333333,
              "#9c179e"
             ],
             [
              0.4444444444444444,
              "#bd3786"
             ],
             [
              0.5555555555555556,
              "#d8576b"
             ],
             [
              0.6666666666666666,
              "#ed7953"
             ],
             [
              0.7777777777777778,
              "#fb9f3a"
             ],
             [
              0.8888888888888888,
              "#fdca26"
             ],
             [
              1,
              "#f0f921"
             ]
            ],
            "type": "surface"
           }
          ],
          "table": [
           {
            "cells": {
             "fill": {
              "color": "#EBF0F8"
             },
             "line": {
              "color": "white"
             }
            },
            "header": {
             "fill": {
              "color": "#C8D4E3"
             },
             "line": {
              "color": "white"
             }
            },
            "type": "table"
           }
          ]
         },
         "layout": {
          "annotationdefaults": {
           "arrowcolor": "#2a3f5f",
           "arrowhead": 0,
           "arrowwidth": 1
          },
          "autotypenumbers": "strict",
          "coloraxis": {
           "colorbar": {
            "outlinewidth": 0,
            "ticks": ""
           }
          },
          "colorscale": {
           "diverging": [
            [
             0,
             "#8e0152"
            ],
            [
             0.1,
             "#c51b7d"
            ],
            [
             0.2,
             "#de77ae"
            ],
            [
             0.3,
             "#f1b6da"
            ],
            [
             0.4,
             "#fde0ef"
            ],
            [
             0.5,
             "#f7f7f7"
            ],
            [
             0.6,
             "#e6f5d0"
            ],
            [
             0.7,
             "#b8e186"
            ],
            [
             0.8,
             "#7fbc41"
            ],
            [
             0.9,
             "#4d9221"
            ],
            [
             1,
             "#276419"
            ]
           ],
           "sequential": [
            [
             0,
             "#0d0887"
            ],
            [
             0.1111111111111111,
             "#46039f"
            ],
            [
             0.2222222222222222,
             "#7201a8"
            ],
            [
             0.3333333333333333,
             "#9c179e"
            ],
            [
             0.4444444444444444,
             "#bd3786"
            ],
            [
             0.5555555555555556,
             "#d8576b"
            ],
            [
             0.6666666666666666,
             "#ed7953"
            ],
            [
             0.7777777777777778,
             "#fb9f3a"
            ],
            [
             0.8888888888888888,
             "#fdca26"
            ],
            [
             1,
             "#f0f921"
            ]
           ],
           "sequentialminus": [
            [
             0,
             "#0d0887"
            ],
            [
             0.1111111111111111,
             "#46039f"
            ],
            [
             0.2222222222222222,
             "#7201a8"
            ],
            [
             0.3333333333333333,
             "#9c179e"
            ],
            [
             0.4444444444444444,
             "#bd3786"
            ],
            [
             0.5555555555555556,
             "#d8576b"
            ],
            [
             0.6666666666666666,
             "#ed7953"
            ],
            [
             0.7777777777777778,
             "#fb9f3a"
            ],
            [
             0.8888888888888888,
             "#fdca26"
            ],
            [
             1,
             "#f0f921"
            ]
           ]
          },
          "colorway": [
           "#636efa",
           "#EF553B",
           "#00cc96",
           "#ab63fa",
           "#FFA15A",
           "#19d3f3",
           "#FF6692",
           "#B6E880",
           "#FF97FF",
           "#FECB52"
          ],
          "font": {
           "color": "#2a3f5f"
          },
          "geo": {
           "bgcolor": "white",
           "lakecolor": "white",
           "landcolor": "#E5ECF6",
           "showlakes": true,
           "showland": true,
           "subunitcolor": "white"
          },
          "hoverlabel": {
           "align": "left"
          },
          "hovermode": "closest",
          "mapbox": {
           "style": "light"
          },
          "paper_bgcolor": "white",
          "plot_bgcolor": "#E5ECF6",
          "polar": {
           "angularaxis": {
            "gridcolor": "white",
            "linecolor": "white",
            "ticks": ""
           },
           "bgcolor": "#E5ECF6",
           "radialaxis": {
            "gridcolor": "white",
            "linecolor": "white",
            "ticks": ""
           }
          },
          "scene": {
           "xaxis": {
            "backgroundcolor": "#E5ECF6",
            "gridcolor": "white",
            "gridwidth": 2,
            "linecolor": "white",
            "showbackground": true,
            "ticks": "",
            "zerolinecolor": "white"
           },
           "yaxis": {
            "backgroundcolor": "#E5ECF6",
            "gridcolor": "white",
            "gridwidth": 2,
            "linecolor": "white",
            "showbackground": true,
            "ticks": "",
            "zerolinecolor": "white"
           },
           "zaxis": {
            "backgroundcolor": "#E5ECF6",
            "gridcolor": "white",
            "gridwidth": 2,
            "linecolor": "white",
            "showbackground": true,
            "ticks": "",
            "zerolinecolor": "white"
           }
          },
          "shapedefaults": {
           "line": {
            "color": "#2a3f5f"
           }
          },
          "ternary": {
           "aaxis": {
            "gridcolor": "white",
            "linecolor": "white",
            "ticks": ""
           },
           "baxis": {
            "gridcolor": "white",
            "linecolor": "white",
            "ticks": ""
           },
           "bgcolor": "#E5ECF6",
           "caxis": {
            "gridcolor": "white",
            "linecolor": "white",
            "ticks": ""
           }
          },
          "title": {
           "x": 0.05
          },
          "xaxis": {
           "automargin": true,
           "gridcolor": "white",
           "linecolor": "white",
           "ticks": "",
           "title": {
            "standoff": 15
           },
           "zerolinecolor": "white",
           "zerolinewidth": 2
          },
          "yaxis": {
           "automargin": true,
           "gridcolor": "white",
           "linecolor": "white",
           "ticks": "",
           "title": {
            "standoff": 15
           },
           "zerolinecolor": "white",
           "zerolinewidth": 2
          }
         }
        },
        "title": {
         "text": "Distribution of age"
        },
        "xaxis": {
         "title": {
          "text": "age"
         }
        },
        "yaxis": {
         "title": {
          "text": "Frequency"
         }
        }
       }
      }
     },
     "metadata": {},
     "output_type": "display_data"
    },
    {
     "data": {
      "application/vnd.plotly.v1+json": {
       "config": {
        "plotlyServerURL": "https://plot.ly"
       },
       "data": [
        {
         "name": "income_tier",
         "text": {
          "bdata": "AAAAAAA+q0AAAAAAAOijQAAAAAAABJ9AAAAAAAAol0AAAAAAACB/QA==",
          "dtype": "f8"
         },
         "textposition": "auto",
         "type": "bar",
         "x": [
          "Lower-Middle",
          "Upper-Middle",
          "High",
          "Low",
          "Affluent"
         ],
         "y": {
          "bdata": "nw30CcEHygXyAQ==",
          "dtype": "i2"
         }
        }
       ],
       "layout": {
        "height": 400,
        "template": {
         "data": {
          "bar": [
           {
            "error_x": {
             "color": "#2a3f5f"
            },
            "error_y": {
             "color": "#2a3f5f"
            },
            "marker": {
             "line": {
              "color": "#E5ECF6",
              "width": 0.5
             },
             "pattern": {
              "fillmode": "overlay",
              "size": 10,
              "solidity": 0.2
             }
            },
            "type": "bar"
           }
          ],
          "barpolar": [
           {
            "marker": {
             "line": {
              "color": "#E5ECF6",
              "width": 0.5
             },
             "pattern": {
              "fillmode": "overlay",
              "size": 10,
              "solidity": 0.2
             }
            },
            "type": "barpolar"
           }
          ],
          "carpet": [
           {
            "aaxis": {
             "endlinecolor": "#2a3f5f",
             "gridcolor": "white",
             "linecolor": "white",
             "minorgridcolor": "white",
             "startlinecolor": "#2a3f5f"
            },
            "baxis": {
             "endlinecolor": "#2a3f5f",
             "gridcolor": "white",
             "linecolor": "white",
             "minorgridcolor": "white",
             "startlinecolor": "#2a3f5f"
            },
            "type": "carpet"
           }
          ],
          "choropleth": [
           {
            "colorbar": {
             "outlinewidth": 0,
             "ticks": ""
            },
            "type": "choropleth"
           }
          ],
          "contour": [
           {
            "colorbar": {
             "outlinewidth": 0,
             "ticks": ""
            },
            "colorscale": [
             [
              0,
              "#0d0887"
             ],
             [
              0.1111111111111111,
              "#46039f"
             ],
             [
              0.2222222222222222,
              "#7201a8"
             ],
             [
              0.3333333333333333,
              "#9c179e"
             ],
             [
              0.4444444444444444,
              "#bd3786"
             ],
             [
              0.5555555555555556,
              "#d8576b"
             ],
             [
              0.6666666666666666,
              "#ed7953"
             ],
             [
              0.7777777777777778,
              "#fb9f3a"
             ],
             [
              0.8888888888888888,
              "#fdca26"
             ],
             [
              1,
              "#f0f921"
             ]
            ],
            "type": "contour"
           }
          ],
          "contourcarpet": [
           {
            "colorbar": {
             "outlinewidth": 0,
             "ticks": ""
            },
            "type": "contourcarpet"
           }
          ],
          "heatmap": [
           {
            "colorbar": {
             "outlinewidth": 0,
             "ticks": ""
            },
            "colorscale": [
             [
              0,
              "#0d0887"
             ],
             [
              0.1111111111111111,
              "#46039f"
             ],
             [
              0.2222222222222222,
              "#7201a8"
             ],
             [
              0.3333333333333333,
              "#9c179e"
             ],
             [
              0.4444444444444444,
              "#bd3786"
             ],
             [
              0.5555555555555556,
              "#d8576b"
             ],
             [
              0.6666666666666666,
              "#ed7953"
             ],
             [
              0.7777777777777778,
              "#fb9f3a"
             ],
             [
              0.8888888888888888,
              "#fdca26"
             ],
             [
              1,
              "#f0f921"
             ]
            ],
            "type": "heatmap"
           }
          ],
          "histogram": [
           {
            "marker": {
             "pattern": {
              "fillmode": "overlay",
              "size": 10,
              "solidity": 0.2
             }
            },
            "type": "histogram"
           }
          ],
          "histogram2d": [
           {
            "colorbar": {
             "outlinewidth": 0,
             "ticks": ""
            },
            "colorscale": [
             [
              0,
              "#0d0887"
             ],
             [
              0.1111111111111111,
              "#46039f"
             ],
             [
              0.2222222222222222,
              "#7201a8"
             ],
             [
              0.3333333333333333,
              "#9c179e"
             ],
             [
              0.4444444444444444,
              "#bd3786"
             ],
             [
              0.5555555555555556,
              "#d8576b"
             ],
             [
              0.6666666666666666,
              "#ed7953"
             ],
             [
              0.7777777777777778,
              "#fb9f3a"
             ],
             [
              0.8888888888888888,
              "#fdca26"
             ],
             [
              1,
              "#f0f921"
             ]
            ],
            "type": "histogram2d"
           }
          ],
          "histogram2dcontour": [
           {
            "colorbar": {
             "outlinewidth": 0,
             "ticks": ""
            },
            "colorscale": [
             [
              0,
              "#0d0887"
             ],
             [
              0.1111111111111111,
              "#46039f"
             ],
             [
              0.2222222222222222,
              "#7201a8"
             ],
             [
              0.3333333333333333,
              "#9c179e"
             ],
             [
              0.4444444444444444,
              "#bd3786"
             ],
             [
              0.5555555555555556,
              "#d8576b"
             ],
             [
              0.6666666666666666,
              "#ed7953"
             ],
             [
              0.7777777777777778,
              "#fb9f3a"
             ],
             [
              0.8888888888888888,
              "#fdca26"
             ],
             [
              1,
              "#f0f921"
             ]
            ],
            "type": "histogram2dcontour"
           }
          ],
          "mesh3d": [
           {
            "colorbar": {
             "outlinewidth": 0,
             "ticks": ""
            },
            "type": "mesh3d"
           }
          ],
          "parcoords": [
           {
            "line": {
             "colorbar": {
              "outlinewidth": 0,
              "ticks": ""
             }
            },
            "type": "parcoords"
           }
          ],
          "pie": [
           {
            "automargin": true,
            "type": "pie"
           }
          ],
          "scatter": [
           {
            "fillpattern": {
             "fillmode": "overlay",
             "size": 10,
             "solidity": 0.2
            },
            "type": "scatter"
           }
          ],
          "scatter3d": [
           {
            "line": {
             "colorbar": {
              "outlinewidth": 0,
              "ticks": ""
             }
            },
            "marker": {
             "colorbar": {
              "outlinewidth": 0,
              "ticks": ""
             }
            },
            "type": "scatter3d"
           }
          ],
          "scattercarpet": [
           {
            "marker": {
             "colorbar": {
              "outlinewidth": 0,
              "ticks": ""
             }
            },
            "type": "scattercarpet"
           }
          ],
          "scattergeo": [
           {
            "marker": {
             "colorbar": {
              "outlinewidth": 0,
              "ticks": ""
             }
            },
            "type": "scattergeo"
           }
          ],
          "scattergl": [
           {
            "marker": {
             "colorbar": {
              "outlinewidth": 0,
              "ticks": ""
             }
            },
            "type": "scattergl"
           }
          ],
          "scattermap": [
           {
            "marker": {
             "colorbar": {
              "outlinewidth": 0,
              "ticks": ""
             }
            },
            "type": "scattermap"
           }
          ],
          "scattermapbox": [
           {
            "marker": {
             "colorbar": {
              "outlinewidth": 0,
              "ticks": ""
             }
            },
            "type": "scattermapbox"
           }
          ],
          "scatterpolar": [
           {
            "marker": {
             "colorbar": {
              "outlinewidth": 0,
              "ticks": ""
             }
            },
            "type": "scatterpolar"
           }
          ],
          "scatterpolargl": [
           {
            "marker": {
             "colorbar": {
              "outlinewidth": 0,
              "ticks": ""
             }
            },
            "type": "scatterpolargl"
           }
          ],
          "scatterternary": [
           {
            "marker": {
             "colorbar": {
              "outlinewidth": 0,
              "ticks": ""
             }
            },
            "type": "scatterternary"
           }
          ],
          "surface": [
           {
            "colorbar": {
             "outlinewidth": 0,
             "ticks": ""
            },
            "colorscale": [
             [
              0,
              "#0d0887"
             ],
             [
              0.1111111111111111,
              "#46039f"
             ],
             [
              0.2222222222222222,
              "#7201a8"
             ],
             [
              0.3333333333333333,
              "#9c179e"
             ],
             [
              0.4444444444444444,
              "#bd3786"
             ],
             [
              0.5555555555555556,
              "#d8576b"
             ],
             [
              0.6666666666666666,
              "#ed7953"
             ],
             [
              0.7777777777777778,
              "#fb9f3a"
             ],
             [
              0.8888888888888888,
              "#fdca26"
             ],
             [
              1,
              "#f0f921"
             ]
            ],
            "type": "surface"
           }
          ],
          "table": [
           {
            "cells": {
             "fill": {
              "color": "#EBF0F8"
             },
             "line": {
              "color": "white"
             }
            },
            "header": {
             "fill": {
              "color": "#C8D4E3"
             },
             "line": {
              "color": "white"
             }
            },
            "type": "table"
           }
          ]
         },
         "layout": {
          "annotationdefaults": {
           "arrowcolor": "#2a3f5f",
           "arrowhead": 0,
           "arrowwidth": 1
          },
          "autotypenumbers": "strict",
          "coloraxis": {
           "colorbar": {
            "outlinewidth": 0,
            "ticks": ""
           }
          },
          "colorscale": {
           "diverging": [
            [
             0,
             "#8e0152"
            ],
            [
             0.1,
             "#c51b7d"
            ],
            [
             0.2,
             "#de77ae"
            ],
            [
             0.3,
             "#f1b6da"
            ],
            [
             0.4,
             "#fde0ef"
            ],
            [
             0.5,
             "#f7f7f7"
            ],
            [
             0.6,
             "#e6f5d0"
            ],
            [
             0.7,
             "#b8e186"
            ],
            [
             0.8,
             "#7fbc41"
            ],
            [
             0.9,
             "#4d9221"
            ],
            [
             1,
             "#276419"
            ]
           ],
           "sequential": [
            [
             0,
             "#0d0887"
            ],
            [
             0.1111111111111111,
             "#46039f"
            ],
            [
             0.2222222222222222,
             "#7201a8"
            ],
            [
             0.3333333333333333,
             "#9c179e"
            ],
            [
             0.4444444444444444,
             "#bd3786"
            ],
            [
             0.5555555555555556,
             "#d8576b"
            ],
            [
             0.6666666666666666,
             "#ed7953"
            ],
            [
             0.7777777777777778,
             "#fb9f3a"
            ],
            [
             0.8888888888888888,
             "#fdca26"
            ],
            [
             1,
             "#f0f921"
            ]
           ],
           "sequentialminus": [
            [
             0,
             "#0d0887"
            ],
            [
             0.1111111111111111,
             "#46039f"
            ],
            [
             0.2222222222222222,
             "#7201a8"
            ],
            [
             0.3333333333333333,
             "#9c179e"
            ],
            [
             0.4444444444444444,
             "#bd3786"
            ],
            [
             0.5555555555555556,
             "#d8576b"
            ],
            [
             0.6666666666666666,
             "#ed7953"
            ],
            [
             0.7777777777777778,
             "#fb9f3a"
            ],
            [
             0.8888888888888888,
             "#fdca26"
            ],
            [
             1,
             "#f0f921"
            ]
           ]
          },
          "colorway": [
           "#636efa",
           "#EF553B",
           "#00cc96",
           "#ab63fa",
           "#FFA15A",
           "#19d3f3",
           "#FF6692",
           "#B6E880",
           "#FF97FF",
           "#FECB52"
          ],
          "font": {
           "color": "#2a3f5f"
          },
          "geo": {
           "bgcolor": "white",
           "lakecolor": "white",
           "landcolor": "#E5ECF6",
           "showlakes": true,
           "showland": true,
           "subunitcolor": "white"
          },
          "hoverlabel": {
           "align": "left"
          },
          "hovermode": "closest",
          "mapbox": {
           "style": "light"
          },
          "paper_bgcolor": "white",
          "plot_bgcolor": "#E5ECF6",
          "polar": {
           "angularaxis": {
            "gridcolor": "white",
            "linecolor": "white",
            "ticks": ""
           },
           "bgcolor": "#E5ECF6",
           "radialaxis": {
            "gridcolor": "white",
            "linecolor": "white",
            "ticks": ""
           }
          },
          "scene": {
           "xaxis": {
            "backgroundcolor": "#E5ECF6",
            "gridcolor": "white",
            "gridwidth": 2,
            "linecolor": "white",
            "showbackground": true,
            "ticks": "",
            "zerolinecolor": "white"
           },
           "yaxis": {
            "backgroundcolor": "#E5ECF6",
            "gridcolor": "white",
            "gridwidth": 2,
            "linecolor": "white",
            "showbackground": true,
            "ticks": "",
            "zerolinecolor": "white"
           },
           "zaxis": {
            "backgroundcolor": "#E5ECF6",
            "gridcolor": "white",
            "gridwidth": 2,
            "linecolor": "white",
            "showbackground": true,
            "ticks": "",
            "zerolinecolor": "white"
           }
          },
          "shapedefaults": {
           "line": {
            "color": "#2a3f5f"
           }
          },
          "ternary": {
           "aaxis": {
            "gridcolor": "white",
            "linecolor": "white",
            "ticks": ""
           },
           "baxis": {
            "gridcolor": "white",
            "linecolor": "white",
            "ticks": ""
           },
           "bgcolor": "#E5ECF6",
           "caxis": {
            "gridcolor": "white",
            "linecolor": "white",
            "ticks": ""
           }
          },
          "title": {
           "x": 0.05
          },
          "xaxis": {
           "automargin": true,
           "gridcolor": "white",
           "linecolor": "white",
           "ticks": "",
           "title": {
            "standoff": 15
           },
           "zerolinecolor": "white",
           "zerolinewidth": 2
          },
          "yaxis": {
           "automargin": true,
           "gridcolor": "white",
           "linecolor": "white",
           "ticks": "",
           "title": {
            "standoff": 15
           },
           "zerolinecolor": "white",
           "zerolinewidth": 2
          }
         }
        },
        "title": {
         "text": "Distribution of income_tier"
        },
        "xaxis": {
         "title": {
          "text": "income_tier"
         }
        },
        "yaxis": {
         "title": {
          "text": "Count"
         }
        }
       }
      }
     },
     "metadata": {},
     "output_type": "display_data"
    },
    {
     "data": {
      "application/vnd.plotly.v1+json": {
       "config": {
        "plotlyServerURL": "https://plot.ly"
       },
       "data": [
        {
         "name": "marital_status",
         "text": {
          "bdata": "AAAAAADCo0AAAAAAALajQAAAAAAAlKNAAAAAAAAUo0A=",
          "dtype": "f8"
         },
         "textposition": "auto",
         "type": "bar",
         "x": [
          "Single",
          "Married",
          "Divorced",
          "Widowed"
         ],
         "y": {
          "bdata": "4QnbCcoJigk=",
          "dtype": "i2"
         }
        }
       ],
       "layout": {
        "height": 400,
        "template": {
         "data": {
          "bar": [
           {
            "error_x": {
             "color": "#2a3f5f"
            },
            "error_y": {
             "color": "#2a3f5f"
            },
            "marker": {
             "line": {
              "color": "#E5ECF6",
              "width": 0.5
             },
             "pattern": {
              "fillmode": "overlay",
              "size": 10,
              "solidity": 0.2
             }
            },
            "type": "bar"
           }
          ],
          "barpolar": [
           {
            "marker": {
             "line": {
              "color": "#E5ECF6",
              "width": 0.5
             },
             "pattern": {
              "fillmode": "overlay",
              "size": 10,
              "solidity": 0.2
             }
            },
            "type": "barpolar"
           }
          ],
          "carpet": [
           {
            "aaxis": {
             "endlinecolor": "#2a3f5f",
             "gridcolor": "white",
             "linecolor": "white",
             "minorgridcolor": "white",
             "startlinecolor": "#2a3f5f"
            },
            "baxis": {
             "endlinecolor": "#2a3f5f",
             "gridcolor": "white",
             "linecolor": "white",
             "minorgridcolor": "white",
             "startlinecolor": "#2a3f5f"
            },
            "type": "carpet"
           }
          ],
          "choropleth": [
           {
            "colorbar": {
             "outlinewidth": 0,
             "ticks": ""
            },
            "type": "choropleth"
           }
          ],
          "contour": [
           {
            "colorbar": {
             "outlinewidth": 0,
             "ticks": ""
            },
            "colorscale": [
             [
              0,
              "#0d0887"
             ],
             [
              0.1111111111111111,
              "#46039f"
             ],
             [
              0.2222222222222222,
              "#7201a8"
             ],
             [
              0.3333333333333333,
              "#9c179e"
             ],
             [
              0.4444444444444444,
              "#bd3786"
             ],
             [
              0.5555555555555556,
              "#d8576b"
             ],
             [
              0.6666666666666666,
              "#ed7953"
             ],
             [
              0.7777777777777778,
              "#fb9f3a"
             ],
             [
              0.8888888888888888,
              "#fdca26"
             ],
             [
              1,
              "#f0f921"
             ]
            ],
            "type": "contour"
           }
          ],
          "contourcarpet": [
           {
            "colorbar": {
             "outlinewidth": 0,
             "ticks": ""
            },
            "type": "contourcarpet"
           }
          ],
          "heatmap": [
           {
            "colorbar": {
             "outlinewidth": 0,
             "ticks": ""
            },
            "colorscale": [
             [
              0,
              "#0d0887"
             ],
             [
              0.1111111111111111,
              "#46039f"
             ],
             [
              0.2222222222222222,
              "#7201a8"
             ],
             [
              0.3333333333333333,
              "#9c179e"
             ],
             [
              0.4444444444444444,
              "#bd3786"
             ],
             [
              0.5555555555555556,
              "#d8576b"
             ],
             [
              0.6666666666666666,
              "#ed7953"
             ],
             [
              0.7777777777777778,
              "#fb9f3a"
             ],
             [
              0.8888888888888888,
              "#fdca26"
             ],
             [
              1,
              "#f0f921"
             ]
            ],
            "type": "heatmap"
           }
          ],
          "histogram": [
           {
            "marker": {
             "pattern": {
              "fillmode": "overlay",
              "size": 10,
              "solidity": 0.2
             }
            },
            "type": "histogram"
           }
          ],
          "histogram2d": [
           {
            "colorbar": {
             "outlinewidth": 0,
             "ticks": ""
            },
            "colorscale": [
             [
              0,
              "#0d0887"
             ],
             [
              0.1111111111111111,
              "#46039f"
             ],
             [
              0.2222222222222222,
              "#7201a8"
             ],
             [
              0.3333333333333333,
              "#9c179e"
             ],
             [
              0.4444444444444444,
              "#bd3786"
             ],
             [
              0.5555555555555556,
              "#d8576b"
             ],
             [
              0.6666666666666666,
              "#ed7953"
             ],
             [
              0.7777777777777778,
              "#fb9f3a"
             ],
             [
              0.8888888888888888,
              "#fdca26"
             ],
             [
              1,
              "#f0f921"
             ]
            ],
            "type": "histogram2d"
           }
          ],
          "histogram2dcontour": [
           {
            "colorbar": {
             "outlinewidth": 0,
             "ticks": ""
            },
            "colorscale": [
             [
              0,
              "#0d0887"
             ],
             [
              0.1111111111111111,
              "#46039f"
             ],
             [
              0.2222222222222222,
              "#7201a8"
             ],
             [
              0.3333333333333333,
              "#9c179e"
             ],
             [
              0.4444444444444444,
              "#bd3786"
             ],
             [
              0.5555555555555556,
              "#d8576b"
             ],
             [
              0.6666666666666666,
              "#ed7953"
             ],
             [
              0.7777777777777778,
              "#fb9f3a"
             ],
             [
              0.8888888888888888,
              "#fdca26"
             ],
             [
              1,
              "#f0f921"
             ]
            ],
            "type": "histogram2dcontour"
           }
          ],
          "mesh3d": [
           {
            "colorbar": {
             "outlinewidth": 0,
             "ticks": ""
            },
            "type": "mesh3d"
           }
          ],
          "parcoords": [
           {
            "line": {
             "colorbar": {
              "outlinewidth": 0,
              "ticks": ""
             }
            },
            "type": "parcoords"
           }
          ],
          "pie": [
           {
            "automargin": true,
            "type": "pie"
           }
          ],
          "scatter": [
           {
            "fillpattern": {
             "fillmode": "overlay",
             "size": 10,
             "solidity": 0.2
            },
            "type": "scatter"
           }
          ],
          "scatter3d": [
           {
            "line": {
             "colorbar": {
              "outlinewidth": 0,
              "ticks": ""
             }
            },
            "marker": {
             "colorbar": {
              "outlinewidth": 0,
              "ticks": ""
             }
            },
            "type": "scatter3d"
           }
          ],
          "scattercarpet": [
           {
            "marker": {
             "colorbar": {
              "outlinewidth": 0,
              "ticks": ""
             }
            },
            "type": "scattercarpet"
           }
          ],
          "scattergeo": [
           {
            "marker": {
             "colorbar": {
              "outlinewidth": 0,
              "ticks": ""
             }
            },
            "type": "scattergeo"
           }
          ],
          "scattergl": [
           {
            "marker": {
             "colorbar": {
              "outlinewidth": 0,
              "ticks": ""
             }
            },
            "type": "scattergl"
           }
          ],
          "scattermap": [
           {
            "marker": {
             "colorbar": {
              "outlinewidth": 0,
              "ticks": ""
             }
            },
            "type": "scattermap"
           }
          ],
          "scattermapbox": [
           {
            "marker": {
             "colorbar": {
              "outlinewidth": 0,
              "ticks": ""
             }
            },
            "type": "scattermapbox"
           }
          ],
          "scatterpolar": [
           {
            "marker": {
             "colorbar": {
              "outlinewidth": 0,
              "ticks": ""
             }
            },
            "type": "scatterpolar"
           }
          ],
          "scatterpolargl": [
           {
            "marker": {
             "colorbar": {
              "outlinewidth": 0,
              "ticks": ""
             }
            },
            "type": "scatterpolargl"
           }
          ],
          "scatterternary": [
           {
            "marker": {
             "colorbar": {
              "outlinewidth": 0,
              "ticks": ""
             }
            },
            "type": "scatterternary"
           }
          ],
          "surface": [
           {
            "colorbar": {
             "outlinewidth": 0,
             "ticks": ""
            },
            "colorscale": [
             [
              0,
              "#0d0887"
             ],
             [
              0.1111111111111111,
              "#46039f"
             ],
             [
              0.2222222222222222,
              "#7201a8"
             ],
             [
              0.3333333333333333,
              "#9c179e"
             ],
             [
              0.4444444444444444,
              "#bd3786"
             ],
             [
              0.5555555555555556,
              "#d8576b"
             ],
             [
              0.6666666666666666,
              "#ed7953"
             ],
             [
              0.7777777777777778,
              "#fb9f3a"
             ],
             [
              0.8888888888888888,
              "#fdca26"
             ],
             [
              1,
              "#f0f921"
             ]
            ],
            "type": "surface"
           }
          ],
          "table": [
           {
            "cells": {
             "fill": {
              "color": "#EBF0F8"
             },
             "line": {
              "color": "white"
             }
            },
            "header": {
             "fill": {
              "color": "#C8D4E3"
             },
             "line": {
              "color": "white"
             }
            },
            "type": "table"
           }
          ]
         },
         "layout": {
          "annotationdefaults": {
           "arrowcolor": "#2a3f5f",
           "arrowhead": 0,
           "arrowwidth": 1
          },
          "autotypenumbers": "strict",
          "coloraxis": {
           "colorbar": {
            "outlinewidth": 0,
            "ticks": ""
           }
          },
          "colorscale": {
           "diverging": [
            [
             0,
             "#8e0152"
            ],
            [
             0.1,
             "#c51b7d"
            ],
            [
             0.2,
             "#de77ae"
            ],
            [
             0.3,
             "#f1b6da"
            ],
            [
             0.4,
             "#fde0ef"
            ],
            [
             0.5,
             "#f7f7f7"
            ],
            [
             0.6,
             "#e6f5d0"
            ],
            [
             0.7,
             "#b8e186"
            ],
            [
             0.8,
             "#7fbc41"
            ],
            [
             0.9,
             "#4d9221"
            ],
            [
             1,
             "#276419"
            ]
           ],
           "sequential": [
            [
             0,
             "#0d0887"
            ],
            [
             0.1111111111111111,
             "#46039f"
            ],
            [
             0.2222222222222222,
             "#7201a8"
            ],
            [
             0.3333333333333333,
             "#9c179e"
            ],
            [
             0.4444444444444444,
             "#bd3786"
            ],
            [
             0.5555555555555556,
             "#d8576b"
            ],
            [
             0.6666666666666666,
             "#ed7953"
            ],
            [
             0.7777777777777778,
             "#fb9f3a"
            ],
            [
             0.8888888888888888,
             "#fdca26"
            ],
            [
             1,
             "#f0f921"
            ]
           ],
           "sequentialminus": [
            [
             0,
             "#0d0887"
            ],
            [
             0.1111111111111111,
             "#46039f"
            ],
            [
             0.2222222222222222,
             "#7201a8"
            ],
            [
             0.3333333333333333,
             "#9c179e"
            ],
            [
             0.4444444444444444,
             "#bd3786"
            ],
            [
             0.5555555555555556,
             "#d8576b"
            ],
            [
             0.6666666666666666,
             "#ed7953"
            ],
            [
             0.7777777777777778,
             "#fb9f3a"
            ],
            [
             0.8888888888888888,
             "#fdca26"
            ],
            [
             1,
             "#f0f921"
            ]
           ]
          },
          "colorway": [
           "#636efa",
           "#EF553B",
           "#00cc96",
           "#ab63fa",
           "#FFA15A",
           "#19d3f3",
           "#FF6692",
           "#B6E880",
           "#FF97FF",
           "#FECB52"
          ],
          "font": {
           "color": "#2a3f5f"
          },
          "geo": {
           "bgcolor": "white",
           "lakecolor": "white",
           "landcolor": "#E5ECF6",
           "showlakes": true,
           "showland": true,
           "subunitcolor": "white"
          },
          "hoverlabel": {
           "align": "left"
          },
          "hovermode": "closest",
          "mapbox": {
           "style": "light"
          },
          "paper_bgcolor": "white",
          "plot_bgcolor": "#E5ECF6",
          "polar": {
           "angularaxis": {
            "gridcolor": "white",
            "linecolor": "white",
            "ticks": ""
           },
           "bgcolor": "#E5ECF6",
           "radialaxis": {
            "gridcolor": "white",
            "linecolor": "white",
            "ticks": ""
           }
          },
          "scene": {
           "xaxis": {
            "backgroundcolor": "#E5ECF6",
            "gridcolor": "white",
            "gridwidth": 2,
            "linecolor": "white",
            "showbackground": true,
            "ticks": "",
            "zerolinecolor": "white"
           },
           "yaxis": {
            "backgroundcolor": "#E5ECF6",
            "gridcolor": "white",
            "gridwidth": 2,
            "linecolor": "white",
            "showbackground": true,
            "ticks": "",
            "zerolinecolor": "white"
           },
           "zaxis": {
            "backgroundcolor": "#E5ECF6",
            "gridcolor": "white",
            "gridwidth": 2,
            "linecolor": "white",
            "showbackground": true,
            "ticks": "",
            "zerolinecolor": "white"
           }
          },
          "shapedefaults": {
           "line": {
            "color": "#2a3f5f"
           }
          },
          "ternary": {
           "aaxis": {
            "gridcolor": "white",
            "linecolor": "white",
            "ticks": ""
           },
           "baxis": {
            "gridcolor": "white",
            "linecolor": "white",
            "ticks": ""
           },
           "bgcolor": "#E5ECF6",
           "caxis": {
            "gridcolor": "white",
            "linecolor": "white",
            "ticks": ""
           }
          },
          "title": {
           "x": 0.05
          },
          "xaxis": {
           "automargin": true,
           "gridcolor": "white",
           "linecolor": "white",
           "ticks": "",
           "title": {
            "standoff": 15
           },
           "zerolinecolor": "white",
           "zerolinewidth": 2
          },
          "yaxis": {
           "automargin": true,
           "gridcolor": "white",
           "linecolor": "white",
           "ticks": "",
           "title": {
            "standoff": 15
           },
           "zerolinecolor": "white",
           "zerolinewidth": 2
          }
         }
        },
        "title": {
         "text": "Distribution of marital_status"
        },
        "xaxis": {
         "title": {
          "text": "marital_status"
         }
        },
        "yaxis": {
         "title": {
          "text": "Count"
         }
        }
       }
      }
     },
     "metadata": {},
     "output_type": "display_data"
    },
    {
     "data": {
      "application/vnd.plotly.v1+json": {
       "config": {
        "plotlyServerURL": "https://plot.ly"
       },
       "data": [
        {
         "name": "occupation",
         "text": {
          "bdata": "AAAAAAAMl0AAAAAAALyWQAAAAAAAgJZAAAAAAABYlkAAAAAAAFiWQAAAAAAA2JVAAAAAAABwlUA=",
          "dtype": "f8"
         },
         "textposition": "auto",
         "type": "bar",
         "x": [
          "GOV",
          "FIN",
          "RETAIL",
          "TECH",
          "HEALTH",
          "MANUF",
          "EDU"
         ],
         "y": {
          "bdata": "wwWvBaAFlgWWBXYFXAU=",
          "dtype": "i2"
         }
        }
       ],
       "layout": {
        "height": 400,
        "template": {
         "data": {
          "bar": [
           {
            "error_x": {
             "color": "#2a3f5f"
            },
            "error_y": {
             "color": "#2a3f5f"
            },
            "marker": {
             "line": {
              "color": "#E5ECF6",
              "width": 0.5
             },
             "pattern": {
              "fillmode": "overlay",
              "size": 10,
              "solidity": 0.2
             }
            },
            "type": "bar"
           }
          ],
          "barpolar": [
           {
            "marker": {
             "line": {
              "color": "#E5ECF6",
              "width": 0.5
             },
             "pattern": {
              "fillmode": "overlay",
              "size": 10,
              "solidity": 0.2
             }
            },
            "type": "barpolar"
           }
          ],
          "carpet": [
           {
            "aaxis": {
             "endlinecolor": "#2a3f5f",
             "gridcolor": "white",
             "linecolor": "white",
             "minorgridcolor": "white",
             "startlinecolor": "#2a3f5f"
            },
            "baxis": {
             "endlinecolor": "#2a3f5f",
             "gridcolor": "white",
             "linecolor": "white",
             "minorgridcolor": "white",
             "startlinecolor": "#2a3f5f"
            },
            "type": "carpet"
           }
          ],
          "choropleth": [
           {
            "colorbar": {
             "outlinewidth": 0,
             "ticks": ""
            },
            "type": "choropleth"
           }
          ],
          "contour": [
           {
            "colorbar": {
             "outlinewidth": 0,
             "ticks": ""
            },
            "colorscale": [
             [
              0,
              "#0d0887"
             ],
             [
              0.1111111111111111,
              "#46039f"
             ],
             [
              0.2222222222222222,
              "#7201a8"
             ],
             [
              0.3333333333333333,
              "#9c179e"
             ],
             [
              0.4444444444444444,
              "#bd3786"
             ],
             [
              0.5555555555555556,
              "#d8576b"
             ],
             [
              0.6666666666666666,
              "#ed7953"
             ],
             [
              0.7777777777777778,
              "#fb9f3a"
             ],
             [
              0.8888888888888888,
              "#fdca26"
             ],
             [
              1,
              "#f0f921"
             ]
            ],
            "type": "contour"
           }
          ],
          "contourcarpet": [
           {
            "colorbar": {
             "outlinewidth": 0,
             "ticks": ""
            },
            "type": "contourcarpet"
           }
          ],
          "heatmap": [
           {
            "colorbar": {
             "outlinewidth": 0,
             "ticks": ""
            },
            "colorscale": [
             [
              0,
              "#0d0887"
             ],
             [
              0.1111111111111111,
              "#46039f"
             ],
             [
              0.2222222222222222,
              "#7201a8"
             ],
             [
              0.3333333333333333,
              "#9c179e"
             ],
             [
              0.4444444444444444,
              "#bd3786"
             ],
             [
              0.5555555555555556,
              "#d8576b"
             ],
             [
              0.6666666666666666,
              "#ed7953"
             ],
             [
              0.7777777777777778,
              "#fb9f3a"
             ],
             [
              0.8888888888888888,
              "#fdca26"
             ],
             [
              1,
              "#f0f921"
             ]
            ],
            "type": "heatmap"
           }
          ],
          "histogram": [
           {
            "marker": {
             "pattern": {
              "fillmode": "overlay",
              "size": 10,
              "solidity": 0.2
             }
            },
            "type": "histogram"
           }
          ],
          "histogram2d": [
           {
            "colorbar": {
             "outlinewidth": 0,
             "ticks": ""
            },
            "colorscale": [
             [
              0,
              "#0d0887"
             ],
             [
              0.1111111111111111,
              "#46039f"
             ],
             [
              0.2222222222222222,
              "#7201a8"
             ],
             [
              0.3333333333333333,
              "#9c179e"
             ],
             [
              0.4444444444444444,
              "#bd3786"
             ],
             [
              0.5555555555555556,
              "#d8576b"
             ],
             [
              0.6666666666666666,
              "#ed7953"
             ],
             [
              0.7777777777777778,
              "#fb9f3a"
             ],
             [
              0.8888888888888888,
              "#fdca26"
             ],
             [
              1,
              "#f0f921"
             ]
            ],
            "type": "histogram2d"
           }
          ],
          "histogram2dcontour": [
           {
            "colorbar": {
             "outlinewidth": 0,
             "ticks": ""
            },
            "colorscale": [
             [
              0,
              "#0d0887"
             ],
             [
              0.1111111111111111,
              "#46039f"
             ],
             [
              0.2222222222222222,
              "#7201a8"
             ],
             [
              0.3333333333333333,
              "#9c179e"
             ],
             [
              0.4444444444444444,
              "#bd3786"
             ],
             [
              0.5555555555555556,
              "#d8576b"
             ],
             [
              0.6666666666666666,
              "#ed7953"
             ],
             [
              0.7777777777777778,
              "#fb9f3a"
             ],
             [
              0.8888888888888888,
              "#fdca26"
             ],
             [
              1,
              "#f0f921"
             ]
            ],
            "type": "histogram2dcontour"
           }
          ],
          "mesh3d": [
           {
            "colorbar": {
             "outlinewidth": 0,
             "ticks": ""
            },
            "type": "mesh3d"
           }
          ],
          "parcoords": [
           {
            "line": {
             "colorbar": {
              "outlinewidth": 0,
              "ticks": ""
             }
            },
            "type": "parcoords"
           }
          ],
          "pie": [
           {
            "automargin": true,
            "type": "pie"
           }
          ],
          "scatter": [
           {
            "fillpattern": {
             "fillmode": "overlay",
             "size": 10,
             "solidity": 0.2
            },
            "type": "scatter"
           }
          ],
          "scatter3d": [
           {
            "line": {
             "colorbar": {
              "outlinewidth": 0,
              "ticks": ""
             }
            },
            "marker": {
             "colorbar": {
              "outlinewidth": 0,
              "ticks": ""
             }
            },
            "type": "scatter3d"
           }
          ],
          "scattercarpet": [
           {
            "marker": {
             "colorbar": {
              "outlinewidth": 0,
              "ticks": ""
             }
            },
            "type": "scattercarpet"
           }
          ],
          "scattergeo": [
           {
            "marker": {
             "colorbar": {
              "outlinewidth": 0,
              "ticks": ""
             }
            },
            "type": "scattergeo"
           }
          ],
          "scattergl": [
           {
            "marker": {
             "colorbar": {
              "outlinewidth": 0,
              "ticks": ""
             }
            },
            "type": "scattergl"
           }
          ],
          "scattermap": [
           {
            "marker": {
             "colorbar": {
              "outlinewidth": 0,
              "ticks": ""
             }
            },
            "type": "scattermap"
           }
          ],
          "scattermapbox": [
           {
            "marker": {
             "colorbar": {
              "outlinewidth": 0,
              "ticks": ""
             }
            },
            "type": "scattermapbox"
           }
          ],
          "scatterpolar": [
           {
            "marker": {
             "colorbar": {
              "outlinewidth": 0,
              "ticks": ""
             }
            },
            "type": "scatterpolar"
           }
          ],
          "scatterpolargl": [
           {
            "marker": {
             "colorbar": {
              "outlinewidth": 0,
              "ticks": ""
             }
            },
            "type": "scatterpolargl"
           }
          ],
          "scatterternary": [
           {
            "marker": {
             "colorbar": {
              "outlinewidth": 0,
              "ticks": ""
             }
            },
            "type": "scatterternary"
           }
          ],
          "surface": [
           {
            "colorbar": {
             "outlinewidth": 0,
             "ticks": ""
            },
            "colorscale": [
             [
              0,
              "#0d0887"
             ],
             [
              0.1111111111111111,
              "#46039f"
             ],
             [
              0.2222222222222222,
              "#7201a8"
             ],
             [
              0.3333333333333333,
              "#9c179e"
             ],
             [
              0.4444444444444444,
              "#bd3786"
             ],
             [
              0.5555555555555556,
              "#d8576b"
             ],
             [
              0.6666666666666666,
              "#ed7953"
             ],
             [
              0.7777777777777778,
              "#fb9f3a"
             ],
             [
              0.8888888888888888,
              "#fdca26"
             ],
             [
              1,
              "#f0f921"
             ]
            ],
            "type": "surface"
           }
          ],
          "table": [
           {
            "cells": {
             "fill": {
              "color": "#EBF0F8"
             },
             "line": {
              "color": "white"
             }
            },
            "header": {
             "fill": {
              "color": "#C8D4E3"
             },
             "line": {
              "color": "white"
             }
            },
            "type": "table"
           }
          ]
         },
         "layout": {
          "annotationdefaults": {
           "arrowcolor": "#2a3f5f",
           "arrowhead": 0,
           "arrowwidth": 1
          },
          "autotypenumbers": "strict",
          "coloraxis": {
           "colorbar": {
            "outlinewidth": 0,
            "ticks": ""
           }
          },
          "colorscale": {
           "diverging": [
            [
             0,
             "#8e0152"
            ],
            [
             0.1,
             "#c51b7d"
            ],
            [
             0.2,
             "#de77ae"
            ],
            [
             0.3,
             "#f1b6da"
            ],
            [
             0.4,
             "#fde0ef"
            ],
            [
             0.5,
             "#f7f7f7"
            ],
            [
             0.6,
             "#e6f5d0"
            ],
            [
             0.7,
             "#b8e186"
            ],
            [
             0.8,
             "#7fbc41"
            ],
            [
             0.9,
             "#4d9221"
            ],
            [
             1,
             "#276419"
            ]
           ],
           "sequential": [
            [
             0,
             "#0d0887"
            ],
            [
             0.1111111111111111,
             "#46039f"
            ],
            [
             0.2222222222222222,
             "#7201a8"
            ],
            [
             0.3333333333333333,
             "#9c179e"
            ],
            [
             0.4444444444444444,
             "#bd3786"
            ],
            [
             0.5555555555555556,
             "#d8576b"
            ],
            [
             0.6666666666666666,
             "#ed7953"
            ],
            [
             0.7777777777777778,
             "#fb9f3a"
            ],
            [
             0.8888888888888888,
             "#fdca26"
            ],
            [
             1,
             "#f0f921"
            ]
           ],
           "sequentialminus": [
            [
             0,
             "#0d0887"
            ],
            [
             0.1111111111111111,
             "#46039f"
            ],
            [
             0.2222222222222222,
             "#7201a8"
            ],
            [
             0.3333333333333333,
             "#9c179e"
            ],
            [
             0.4444444444444444,
             "#bd3786"
            ],
            [
             0.5555555555555556,
             "#d8576b"
            ],
            [
             0.6666666666666666,
             "#ed7953"
            ],
            [
             0.7777777777777778,
             "#fb9f3a"
            ],
            [
             0.8888888888888888,
             "#fdca26"
            ],
            [
             1,
             "#f0f921"
            ]
           ]
          },
          "colorway": [
           "#636efa",
           "#EF553B",
           "#00cc96",
           "#ab63fa",
           "#FFA15A",
           "#19d3f3",
           "#FF6692",
           "#B6E880",
           "#FF97FF",
           "#FECB52"
          ],
          "font": {
           "color": "#2a3f5f"
          },
          "geo": {
           "bgcolor": "white",
           "lakecolor": "white",
           "landcolor": "#E5ECF6",
           "showlakes": true,
           "showland": true,
           "subunitcolor": "white"
          },
          "hoverlabel": {
           "align": "left"
          },
          "hovermode": "closest",
          "mapbox": {
           "style": "light"
          },
          "paper_bgcolor": "white",
          "plot_bgcolor": "#E5ECF6",
          "polar": {
           "angularaxis": {
            "gridcolor": "white",
            "linecolor": "white",
            "ticks": ""
           },
           "bgcolor": "#E5ECF6",
           "radialaxis": {
            "gridcolor": "white",
            "linecolor": "white",
            "ticks": ""
           }
          },
          "scene": {
           "xaxis": {
            "backgroundcolor": "#E5ECF6",
            "gridcolor": "white",
            "gridwidth": 2,
            "linecolor": "white",
            "showbackground": true,
            "ticks": "",
            "zerolinecolor": "white"
           },
           "yaxis": {
            "backgroundcolor": "#E5ECF6",
            "gridcolor": "white",
            "gridwidth": 2,
            "linecolor": "white",
            "showbackground": true,
            "ticks": "",
            "zerolinecolor": "white"
           },
           "zaxis": {
            "backgroundcolor": "#E5ECF6",
            "gridcolor": "white",
            "gridwidth": 2,
            "linecolor": "white",
            "showbackground": true,
            "ticks": "",
            "zerolinecolor": "white"
           }
          },
          "shapedefaults": {
           "line": {
            "color": "#2a3f5f"
           }
          },
          "ternary": {
           "aaxis": {
            "gridcolor": "white",
            "linecolor": "white",
            "ticks": ""
           },
           "baxis": {
            "gridcolor": "white",
            "linecolor": "white",
            "ticks": ""
           },
           "bgcolor": "#E5ECF6",
           "caxis": {
            "gridcolor": "white",
            "linecolor": "white",
            "ticks": ""
           }
          },
          "title": {
           "x": 0.05
          },
          "xaxis": {
           "automargin": true,
           "gridcolor": "white",
           "linecolor": "white",
           "ticks": "",
           "title": {
            "standoff": 15
           },
           "zerolinecolor": "white",
           "zerolinewidth": 2
          },
          "yaxis": {
           "automargin": true,
           "gridcolor": "white",
           "linecolor": "white",
           "ticks": "",
           "title": {
            "standoff": 15
           },
           "zerolinecolor": "white",
           "zerolinewidth": 2
          }
         }
        },
        "title": {
         "text": "Distribution of occupation"
        },
        "xaxis": {
         "title": {
          "text": "occupation"
         }
        },
        "yaxis": {
         "title": {
          "text": "Count"
         }
        }
       }
      }
     },
     "metadata": {},
     "output_type": "display_data"
    },
    {
     "name": "stdout",
     "output_type": "stream",
     "text": [
      "\n",
      "👥 Customer Sample Analysis (10,000 records):\n",
      "Available demographic features: ['age', 'income_tier', 'marital_status', 'occupation', 'household_size']\n"
     ]
    }
   ],
   "source": [
    "# Customer demographics analysis (if data available)\n",
    "if customer_sample is not None and len(customer_sample) > 0:\n",
    "    # Look for demographic columns in the sample\n",
    "    demo_cols = ['age', 'income_tier', 'marital_status', 'occupation', 'household_size']\n",
    "    available_demo = [col for col in demo_cols if col in customer_sample.columns]\n",
    "    \n",
    "    if available_demo and PLOTLY_AVAILABLE:\n",
    "        # Create individual plots for each demographic feature\n",
    "        try:\n",
    "            for i, col in enumerate(available_demo[:4]):\n",
    "                if customer_sample[col].dtype in ['object', 'category']:\n",
    "                    # Categorical data - bar chart (more reliable than pie in subplots)\n",
    "                    value_counts = customer_sample[col].value_counts().head(10)\n",
    "                    fig = go.Figure()\n",
    "                    fig.add_trace(go.Bar(\n",
    "                        x=value_counts.index,\n",
    "                        y=value_counts.values,\n",
    "                        name=col,\n",
    "                        text=value_counts.values,\n",
    "                        textposition='auto'\n",
    "                    ))\n",
    "                    fig.update_layout(\n",
    "                        title=f\"Distribution of {col}\",\n",
    "                        xaxis_title=col,\n",
    "                        yaxis_title=\"Count\",\n",
    "                        height=400\n",
    "                    )\n",
    "                    fig.show()\n",
    "                else:\n",
    "                    # Numeric data - histogram\n",
    "                    fig = go.Figure()\n",
    "                    fig.add_trace(go.Histogram(\n",
    "                        x=customer_sample[col],\n",
    "                        name=col,\n",
    "                        nbinsx=20\n",
    "                    ))\n",
    "                    fig.update_layout(\n",
    "                        title=f\"Distribution of {col}\",\n",
    "                        xaxis_title=col,\n",
    "                        yaxis_title=\"Frequency\",\n",
    "                        height=400\n",
    "                    )\n",
    "                    fig.show()\n",
    "        except Exception as e:\n",
    "            print(f\"⚠️ Error creating plots: {e}\")\n",
    "            print(\"📊 Showing text-based analysis instead...\")\n",
    "            \n",
    "            # Fallback to text analysis\n",
    "            for col in available_demo[:4]:\n",
    "                print(f\"\\n📈 {col} Distribution:\")\n",
    "                if customer_sample[col].dtype in ['object', 'category']:\n",
    "                    print(customer_sample[col].value_counts().head(10))\n",
    "                else:\n",
    "                    print(f\"  Mean: {customer_sample[col].mean():.2f}\")\n",
    "                    print(f\"  Std: {customer_sample[col].std():.2f}\")\n",
    "                    print(f\"  Min: {customer_sample[col].min():.2f}\")\n",
    "                    print(f\"  Max: {customer_sample[col].max():.2f}\")\n",
    "    \n",
    "    elif available_demo:\n",
    "        # Text-based analysis when plotly not available\n",
    "        print(\"📊 Customer Demographics Analysis (Text Summary):\")\n",
    "        for col in available_demo[:4]:\n",
    "            print(f\"\\n📈 {col} Distribution:\")\n",
    "            if customer_sample[col].dtype in ['object', 'category']:\n",
    "                print(customer_sample[col].value_counts().head(10))\n",
    "            else:\n",
    "                print(f\"  Mean: {customer_sample[col].mean():.2f}\")\n",
    "                print(f\"  Std: {customer_sample[col].std():.2f}\")\n",
    "                print(f\"  Min: {customer_sample[col].min():.2f}\")\n",
    "                print(f\"  Max: {customer_sample[col].max():.2f}\")\n",
    "    \n",
    "    print(f\"\\n👥 Customer Sample Analysis ({len(customer_sample):,} records):\")\n",
    "    print(f\"Available demographic features: {available_demo}\")\n",
    "else:\n",
    "    print(\"📊 Creating mock customer analysis based on metadata...\")\n",
    "    # Show what we would analyze based on metadata\n",
    "    print(\"\\n🎯 Customer Features to Analyze (from metadata):\")\n",
    "    for i, row in metadata_user.iterrows():\n",
    "        if i < 10:  # Show first 10 features\n",
    "            print(f\"  {row['Feature']}: {row['Description']}\")"
   ]
  },
  {
   "cell_type": "markdown",
   "id": "e417cb95",
   "metadata": {},
   "source": [
    "## 4. Adoption Logs Analysis"
   ]
  },
  {
   "cell_type": "code",
   "execution_count": 10,
   "id": "83ddd2cc",
   "metadata": {},
   "outputs": [
    {
     "name": "stdout",
     "output_type": "stream",
     "text": [
      "📈 ADOPTION LOGS ANALYSIS\n",
      "==================================================\n",
      "\n",
      "🔍 Sample Adoption Data:\n"
     ]
    },
    {
     "data": {
      "application/vnd.microsoft.datawrangler.viewer.v0+json": {
       "columns": [
        {
         "name": "index",
         "rawType": "int64",
         "type": "integer"
        },
        {
         "name": "adopted",
         "rawType": "bool",
         "type": "boolean"
        },
        {
         "name": "tenure_days",
         "rawType": "int64",
         "type": "integer"
        },
        {
         "name": "recency_days",
         "rawType": "int64",
         "type": "integer"
        },
        {
         "name": "activity_intensity",
         "rawType": "int64",
         "type": "integer"
        },
        {
         "name": "monetary_volume",
         "rawType": "float64",
         "type": "float"
        },
        {
         "name": "utilisation_ratio",
         "rawType": "float64",
         "type": "float"
        },
        {
         "name": "reward_redemption_rate",
         "rawType": "float64",
         "type": "float"
        },
        {
         "name": "risk_flag",
         "rawType": "bool",
         "type": "boolean"
        },
        {
         "name": "user_id",
         "rawType": "object",
         "type": "string"
        },
        {
         "name": "product_id",
         "rawType": "object",
         "type": "string"
        }
       ],
       "ref": "17ea0761-763e-4842-b07b-4e3a2d43f530",
       "rows": [
        [
         "0",
         "False",
         "767",
         "229",
         "13",
         "4271.0",
         "0.19",
         "0.246",
         "False",
         "ad089c26-f733-4535-9901-bfbf827272b5",
         "ce07d04c-b6e7-449d-a1ab-f13267ac7cf1"
        ],
        [
         "1",
         "True",
         "980",
         "264",
         "13",
         "3239.1",
         "0.345",
         "0.025",
         "False",
         "ad089c26-f733-4535-9901-bfbf827272b5",
         "69702bb0-34ca-4850-8d38-3d3c261d063e"
        ],
        [
         "2",
         "False",
         "172",
         "80",
         "7",
         "13783.12",
         "0.135",
         "0.853",
         "False",
         "ad089c26-f733-4535-9901-bfbf827272b5",
         "e0d289ba-6f94-47f6-a2b2-ecdaa0de0535"
        ],
        [
         "3",
         "False",
         "156",
         "184",
         "9",
         "6246.93",
         "0.199",
         "0.124",
         "False",
         "ad089c26-f733-4535-9901-bfbf827272b5",
         "565789b8-029d-45e1-9c31-63034c6d277a"
        ],
        [
         "4",
         "False",
         "193",
         "173",
         "9",
         "10475.55",
         "0.409",
         "0.378",
         "False",
         "ad089c26-f733-4535-9901-bfbf827272b5",
         "ec0c4e1e-d0b3-414b-b8ae-dd8429ff1214"
        ]
       ],
       "shape": {
        "columns": 10,
        "rows": 5
       }
      },
      "text/html": [
       "<div>\n",
       "<style scoped>\n",
       "    .dataframe tbody tr th:only-of-type {\n",
       "        vertical-align: middle;\n",
       "    }\n",
       "\n",
       "    .dataframe tbody tr th {\n",
       "        vertical-align: top;\n",
       "    }\n",
       "\n",
       "    .dataframe thead th {\n",
       "        text-align: right;\n",
       "    }\n",
       "</style>\n",
       "<table border=\"1\" class=\"dataframe\">\n",
       "  <thead>\n",
       "    <tr style=\"text-align: right;\">\n",
       "      <th></th>\n",
       "      <th>adopted</th>\n",
       "      <th>tenure_days</th>\n",
       "      <th>recency_days</th>\n",
       "      <th>activity_intensity</th>\n",
       "      <th>monetary_volume</th>\n",
       "      <th>utilisation_ratio</th>\n",
       "      <th>reward_redemption_rate</th>\n",
       "      <th>risk_flag</th>\n",
       "      <th>user_id</th>\n",
       "      <th>product_id</th>\n",
       "    </tr>\n",
       "  </thead>\n",
       "  <tbody>\n",
       "    <tr>\n",
       "      <th>0</th>\n",
       "      <td>False</td>\n",
       "      <td>767</td>\n",
       "      <td>229</td>\n",
       "      <td>13</td>\n",
       "      <td>4271.00</td>\n",
       "      <td>0.190</td>\n",
       "      <td>0.246</td>\n",
       "      <td>False</td>\n",
       "      <td>ad089c26-f733-4535-9901-bfbf827272b5</td>\n",
       "      <td>ce07d04c-b6e7-449d-a1ab-f13267ac7cf1</td>\n",
       "    </tr>\n",
       "    <tr>\n",
       "      <th>1</th>\n",
       "      <td>True</td>\n",
       "      <td>980</td>\n",
       "      <td>264</td>\n",
       "      <td>13</td>\n",
       "      <td>3239.10</td>\n",
       "      <td>0.345</td>\n",
       "      <td>0.025</td>\n",
       "      <td>False</td>\n",
       "      <td>ad089c26-f733-4535-9901-bfbf827272b5</td>\n",
       "      <td>69702bb0-34ca-4850-8d38-3d3c261d063e</td>\n",
       "    </tr>\n",
       "    <tr>\n",
       "      <th>2</th>\n",
       "      <td>False</td>\n",
       "      <td>172</td>\n",
       "      <td>80</td>\n",
       "      <td>7</td>\n",
       "      <td>13783.12</td>\n",
       "      <td>0.135</td>\n",
       "      <td>0.853</td>\n",
       "      <td>False</td>\n",
       "      <td>ad089c26-f733-4535-9901-bfbf827272b5</td>\n",
       "      <td>e0d289ba-6f94-47f6-a2b2-ecdaa0de0535</td>\n",
       "    </tr>\n",
       "    <tr>\n",
       "      <th>3</th>\n",
       "      <td>False</td>\n",
       "      <td>156</td>\n",
       "      <td>184</td>\n",
       "      <td>9</td>\n",
       "      <td>6246.93</td>\n",
       "      <td>0.199</td>\n",
       "      <td>0.124</td>\n",
       "      <td>False</td>\n",
       "      <td>ad089c26-f733-4535-9901-bfbf827272b5</td>\n",
       "      <td>565789b8-029d-45e1-9c31-63034c6d277a</td>\n",
       "    </tr>\n",
       "    <tr>\n",
       "      <th>4</th>\n",
       "      <td>False</td>\n",
       "      <td>193</td>\n",
       "      <td>173</td>\n",
       "      <td>9</td>\n",
       "      <td>10475.55</td>\n",
       "      <td>0.409</td>\n",
       "      <td>0.378</td>\n",
       "      <td>False</td>\n",
       "      <td>ad089c26-f733-4535-9901-bfbf827272b5</td>\n",
       "      <td>ec0c4e1e-d0b3-414b-b8ae-dd8429ff1214</td>\n",
       "    </tr>\n",
       "  </tbody>\n",
       "</table>\n",
       "</div>"
      ],
      "text/plain": [
       "   adopted  tenure_days  recency_days  activity_intensity  monetary_volume  \\\n",
       "0    False          767           229                  13          4271.00   \n",
       "1     True          980           264                  13          3239.10   \n",
       "2    False          172            80                   7         13783.12   \n",
       "3    False          156           184                   9          6246.93   \n",
       "4    False          193           173                   9         10475.55   \n",
       "\n",
       "   utilisation_ratio  reward_redemption_rate  risk_flag  \\\n",
       "0              0.190                   0.246      False   \n",
       "1              0.345                   0.025      False   \n",
       "2              0.135                   0.853      False   \n",
       "3              0.199                   0.124      False   \n",
       "4              0.409                   0.378      False   \n",
       "\n",
       "                                user_id                            product_id  \n",
       "0  ad089c26-f733-4535-9901-bfbf827272b5  ce07d04c-b6e7-449d-a1ab-f13267ac7cf1  \n",
       "1  ad089c26-f733-4535-9901-bfbf827272b5  69702bb0-34ca-4850-8d38-3d3c261d063e  \n",
       "2  ad089c26-f733-4535-9901-bfbf827272b5  e0d289ba-6f94-47f6-a2b2-ecdaa0de0535  \n",
       "3  ad089c26-f733-4535-9901-bfbf827272b5  565789b8-029d-45e1-9c31-63034c6d277a  \n",
       "4  ad089c26-f733-4535-9901-bfbf827272b5  ec0c4e1e-d0b3-414b-b8ae-dd8429ff1214  "
      ]
     },
     "metadata": {},
     "output_type": "display_data"
    },
    {
     "name": "stdout",
     "output_type": "stream",
     "text": [
      "\n",
      "Total adoption records: 949,650\n",
      "Overall adoption rate: 25.07%\n"
     ]
    },
    {
     "data": {
      "application/vnd.plotly.v1+json": {
       "config": {
        "plotlyServerURL": "https://plot.ly"
       },
       "data": [
        {
         "marker": {
          "color": [
           "#ff7f7f",
           "#7fbf7f"
          ]
         },
         "type": "bar",
         "x": [
          "Not Adopted",
          "Adopted"
         ],
         "y": [
          711603,
          238047
         ]
        }
       ],
       "layout": {
        "template": {
         "data": {
          "bar": [
           {
            "error_x": {
             "color": "#2a3f5f"
            },
            "error_y": {
             "color": "#2a3f5f"
            },
            "marker": {
             "line": {
              "color": "#E5ECF6",
              "width": 0.5
             },
             "pattern": {
              "fillmode": "overlay",
              "size": 10,
              "solidity": 0.2
             }
            },
            "type": "bar"
           }
          ],
          "barpolar": [
           {
            "marker": {
             "line": {
              "color": "#E5ECF6",
              "width": 0.5
             },
             "pattern": {
              "fillmode": "overlay",
              "size": 10,
              "solidity": 0.2
             }
            },
            "type": "barpolar"
           }
          ],
          "carpet": [
           {
            "aaxis": {
             "endlinecolor": "#2a3f5f",
             "gridcolor": "white",
             "linecolor": "white",
             "minorgridcolor": "white",
             "startlinecolor": "#2a3f5f"
            },
            "baxis": {
             "endlinecolor": "#2a3f5f",
             "gridcolor": "white",
             "linecolor": "white",
             "minorgridcolor": "white",
             "startlinecolor": "#2a3f5f"
            },
            "type": "carpet"
           }
          ],
          "choropleth": [
           {
            "colorbar": {
             "outlinewidth": 0,
             "ticks": ""
            },
            "type": "choropleth"
           }
          ],
          "contour": [
           {
            "colorbar": {
             "outlinewidth": 0,
             "ticks": ""
            },
            "colorscale": [
             [
              0,
              "#0d0887"
             ],
             [
              0.1111111111111111,
              "#46039f"
             ],
             [
              0.2222222222222222,
              "#7201a8"
             ],
             [
              0.3333333333333333,
              "#9c179e"
             ],
             [
              0.4444444444444444,
              "#bd3786"
             ],
             [
              0.5555555555555556,
              "#d8576b"
             ],
             [
              0.6666666666666666,
              "#ed7953"
             ],
             [
              0.7777777777777778,
              "#fb9f3a"
             ],
             [
              0.8888888888888888,
              "#fdca26"
             ],
             [
              1,
              "#f0f921"
             ]
            ],
            "type": "contour"
           }
          ],
          "contourcarpet": [
           {
            "colorbar": {
             "outlinewidth": 0,
             "ticks": ""
            },
            "type": "contourcarpet"
           }
          ],
          "heatmap": [
           {
            "colorbar": {
             "outlinewidth": 0,
             "ticks": ""
            },
            "colorscale": [
             [
              0,
              "#0d0887"
             ],
             [
              0.1111111111111111,
              "#46039f"
             ],
             [
              0.2222222222222222,
              "#7201a8"
             ],
             [
              0.3333333333333333,
              "#9c179e"
             ],
             [
              0.4444444444444444,
              "#bd3786"
             ],
             [
              0.5555555555555556,
              "#d8576b"
             ],
             [
              0.6666666666666666,
              "#ed7953"
             ],
             [
              0.7777777777777778,
              "#fb9f3a"
             ],
             [
              0.8888888888888888,
              "#fdca26"
             ],
             [
              1,
              "#f0f921"
             ]
            ],
            "type": "heatmap"
           }
          ],
          "histogram": [
           {
            "marker": {
             "pattern": {
              "fillmode": "overlay",
              "size": 10,
              "solidity": 0.2
             }
            },
            "type": "histogram"
           }
          ],
          "histogram2d": [
           {
            "colorbar": {
             "outlinewidth": 0,
             "ticks": ""
            },
            "colorscale": [
             [
              0,
              "#0d0887"
             ],
             [
              0.1111111111111111,
              "#46039f"
             ],
             [
              0.2222222222222222,
              "#7201a8"
             ],
             [
              0.3333333333333333,
              "#9c179e"
             ],
             [
              0.4444444444444444,
              "#bd3786"
             ],
             [
              0.5555555555555556,
              "#d8576b"
             ],
             [
              0.6666666666666666,
              "#ed7953"
             ],
             [
              0.7777777777777778,
              "#fb9f3a"
             ],
             [
              0.8888888888888888,
              "#fdca26"
             ],
             [
              1,
              "#f0f921"
             ]
            ],
            "type": "histogram2d"
           }
          ],
          "histogram2dcontour": [
           {
            "colorbar": {
             "outlinewidth": 0,
             "ticks": ""
            },
            "colorscale": [
             [
              0,
              "#0d0887"
             ],
             [
              0.1111111111111111,
              "#46039f"
             ],
             [
              0.2222222222222222,
              "#7201a8"
             ],
             [
              0.3333333333333333,
              "#9c179e"
             ],
             [
              0.4444444444444444,
              "#bd3786"
             ],
             [
              0.5555555555555556,
              "#d8576b"
             ],
             [
              0.6666666666666666,
              "#ed7953"
             ],
             [
              0.7777777777777778,
              "#fb9f3a"
             ],
             [
              0.8888888888888888,
              "#fdca26"
             ],
             [
              1,
              "#f0f921"
             ]
            ],
            "type": "histogram2dcontour"
           }
          ],
          "mesh3d": [
           {
            "colorbar": {
             "outlinewidth": 0,
             "ticks": ""
            },
            "type": "mesh3d"
           }
          ],
          "parcoords": [
           {
            "line": {
             "colorbar": {
              "outlinewidth": 0,
              "ticks": ""
             }
            },
            "type": "parcoords"
           }
          ],
          "pie": [
           {
            "automargin": true,
            "type": "pie"
           }
          ],
          "scatter": [
           {
            "fillpattern": {
             "fillmode": "overlay",
             "size": 10,
             "solidity": 0.2
            },
            "type": "scatter"
           }
          ],
          "scatter3d": [
           {
            "line": {
             "colorbar": {
              "outlinewidth": 0,
              "ticks": ""
             }
            },
            "marker": {
             "colorbar": {
              "outlinewidth": 0,
              "ticks": ""
             }
            },
            "type": "scatter3d"
           }
          ],
          "scattercarpet": [
           {
            "marker": {
             "colorbar": {
              "outlinewidth": 0,
              "ticks": ""
             }
            },
            "type": "scattercarpet"
           }
          ],
          "scattergeo": [
           {
            "marker": {
             "colorbar": {
              "outlinewidth": 0,
              "ticks": ""
             }
            },
            "type": "scattergeo"
           }
          ],
          "scattergl": [
           {
            "marker": {
             "colorbar": {
              "outlinewidth": 0,
              "ticks": ""
             }
            },
            "type": "scattergl"
           }
          ],
          "scattermap": [
           {
            "marker": {
             "colorbar": {
              "outlinewidth": 0,
              "ticks": ""
             }
            },
            "type": "scattermap"
           }
          ],
          "scattermapbox": [
           {
            "marker": {
             "colorbar": {
              "outlinewidth": 0,
              "ticks": ""
             }
            },
            "type": "scattermapbox"
           }
          ],
          "scatterpolar": [
           {
            "marker": {
             "colorbar": {
              "outlinewidth": 0,
              "ticks": ""
             }
            },
            "type": "scatterpolar"
           }
          ],
          "scatterpolargl": [
           {
            "marker": {
             "colorbar": {
              "outlinewidth": 0,
              "ticks": ""
             }
            },
            "type": "scatterpolargl"
           }
          ],
          "scatterternary": [
           {
            "marker": {
             "colorbar": {
              "outlinewidth": 0,
              "ticks": ""
             }
            },
            "type": "scatterternary"
           }
          ],
          "surface": [
           {
            "colorbar": {
             "outlinewidth": 0,
             "ticks": ""
            },
            "colorscale": [
             [
              0,
              "#0d0887"
             ],
             [
              0.1111111111111111,
              "#46039f"
             ],
             [
              0.2222222222222222,
              "#7201a8"
             ],
             [
              0.3333333333333333,
              "#9c179e"
             ],
             [
              0.4444444444444444,
              "#bd3786"
             ],
             [
              0.5555555555555556,
              "#d8576b"
             ],
             [
              0.6666666666666666,
              "#ed7953"
             ],
             [
              0.7777777777777778,
              "#fb9f3a"
             ],
             [
              0.8888888888888888,
              "#fdca26"
             ],
             [
              1,
              "#f0f921"
             ]
            ],
            "type": "surface"
           }
          ],
          "table": [
           {
            "cells": {
             "fill": {
              "color": "#EBF0F8"
             },
             "line": {
              "color": "white"
             }
            },
            "header": {
             "fill": {
              "color": "#C8D4E3"
             },
             "line": {
              "color": "white"
             }
            },
            "type": "table"
           }
          ]
         },
         "layout": {
          "annotationdefaults": {
           "arrowcolor": "#2a3f5f",
           "arrowhead": 0,
           "arrowwidth": 1
          },
          "autotypenumbers": "strict",
          "coloraxis": {
           "colorbar": {
            "outlinewidth": 0,
            "ticks": ""
           }
          },
          "colorscale": {
           "diverging": [
            [
             0,
             "#8e0152"
            ],
            [
             0.1,
             "#c51b7d"
            ],
            [
             0.2,
             "#de77ae"
            ],
            [
             0.3,
             "#f1b6da"
            ],
            [
             0.4,
             "#fde0ef"
            ],
            [
             0.5,
             "#f7f7f7"
            ],
            [
             0.6,
             "#e6f5d0"
            ],
            [
             0.7,
             "#b8e186"
            ],
            [
             0.8,
             "#7fbc41"
            ],
            [
             0.9,
             "#4d9221"
            ],
            [
             1,
             "#276419"
            ]
           ],
           "sequential": [
            [
             0,
             "#0d0887"
            ],
            [
             0.1111111111111111,
             "#46039f"
            ],
            [
             0.2222222222222222,
             "#7201a8"
            ],
            [
             0.3333333333333333,
             "#9c179e"
            ],
            [
             0.4444444444444444,
             "#bd3786"
            ],
            [
             0.5555555555555556,
             "#d8576b"
            ],
            [
             0.6666666666666666,
             "#ed7953"
            ],
            [
             0.7777777777777778,
             "#fb9f3a"
            ],
            [
             0.8888888888888888,
             "#fdca26"
            ],
            [
             1,
             "#f0f921"
            ]
           ],
           "sequentialminus": [
            [
             0,
             "#0d0887"
            ],
            [
             0.1111111111111111,
             "#46039f"
            ],
            [
             0.2222222222222222,
             "#7201a8"
            ],
            [
             0.3333333333333333,
             "#9c179e"
            ],
            [
             0.4444444444444444,
             "#bd3786"
            ],
            [
             0.5555555555555556,
             "#d8576b"
            ],
            [
             0.6666666666666666,
             "#ed7953"
            ],
            [
             0.7777777777777778,
             "#fb9f3a"
            ],
            [
             0.8888888888888888,
             "#fdca26"
            ],
            [
             1,
             "#f0f921"
            ]
           ]
          },
          "colorway": [
           "#636efa",
           "#EF553B",
           "#00cc96",
           "#ab63fa",
           "#FFA15A",
           "#19d3f3",
           "#FF6692",
           "#B6E880",
           "#FF97FF",
           "#FECB52"
          ],
          "font": {
           "color": "#2a3f5f"
          },
          "geo": {
           "bgcolor": "white",
           "lakecolor": "white",
           "landcolor": "#E5ECF6",
           "showlakes": true,
           "showland": true,
           "subunitcolor": "white"
          },
          "hoverlabel": {
           "align": "left"
          },
          "hovermode": "closest",
          "mapbox": {
           "style": "light"
          },
          "paper_bgcolor": "white",
          "plot_bgcolor": "#E5ECF6",
          "polar": {
           "angularaxis": {
            "gridcolor": "white",
            "linecolor": "white",
            "ticks": ""
           },
           "bgcolor": "#E5ECF6",
           "radialaxis": {
            "gridcolor": "white",
            "linecolor": "white",
            "ticks": ""
           }
          },
          "scene": {
           "xaxis": {
            "backgroundcolor": "#E5ECF6",
            "gridcolor": "white",
            "gridwidth": 2,
            "linecolor": "white",
            "showbackground": true,
            "ticks": "",
            "zerolinecolor": "white"
           },
           "yaxis": {
            "backgroundcolor": "#E5ECF6",
            "gridcolor": "white",
            "gridwidth": 2,
            "linecolor": "white",
            "showbackground": true,
            "ticks": "",
            "zerolinecolor": "white"
           },
           "zaxis": {
            "backgroundcolor": "#E5ECF6",
            "gridcolor": "white",
            "gridwidth": 2,
            "linecolor": "white",
            "showbackground": true,
            "ticks": "",
            "zerolinecolor": "white"
           }
          },
          "shapedefaults": {
           "line": {
            "color": "#2a3f5f"
           }
          },
          "ternary": {
           "aaxis": {
            "gridcolor": "white",
            "linecolor": "white",
            "ticks": ""
           },
           "baxis": {
            "gridcolor": "white",
            "linecolor": "white",
            "ticks": ""
           },
           "bgcolor": "#E5ECF6",
           "caxis": {
            "gridcolor": "white",
            "linecolor": "white",
            "ticks": ""
           }
          },
          "title": {
           "x": 0.05
          },
          "xaxis": {
           "automargin": true,
           "gridcolor": "white",
           "linecolor": "white",
           "ticks": "",
           "title": {
            "standoff": 15
           },
           "zerolinecolor": "white",
           "zerolinewidth": 2
          },
          "yaxis": {
           "automargin": true,
           "gridcolor": "white",
           "linecolor": "white",
           "ticks": "",
           "title": {
            "standoff": 15
           },
           "zerolinecolor": "white",
           "zerolinewidth": 2
          }
         }
        },
        "title": {
         "text": "Product Adoption Distribution"
        }
       }
      }
     },
     "metadata": {},
     "output_type": "display_data"
    },
    {
     "name": "stdout",
     "output_type": "stream",
     "text": [
      "\n",
      "📊 Usage Metrics Statistics:\n"
     ]
    },
    {
     "data": {
      "application/vnd.microsoft.datawrangler.viewer.v0+json": {
       "columns": [
        {
         "name": "index",
         "rawType": "object",
         "type": "string"
        },
        {
         "name": "tenure_days",
         "rawType": "float64",
         "type": "float"
        },
        {
         "name": "recency_days",
         "rawType": "float64",
         "type": "float"
        },
        {
         "name": "activity_intensity",
         "rawType": "float64",
         "type": "float"
        },
        {
         "name": "monetary_volume",
         "rawType": "float64",
         "type": "float"
        }
       ],
       "ref": "f740fdeb-10bd-4b94-a798-562deb7b238b",
       "rows": [
        [
         "count",
         "949650.0",
         "949650.0",
         "949650.0",
         "949650.0"
        ],
        [
         "mean",
         "362.10661401569",
         "182.34757752856316",
         "9.9925435686832",
         "8128.243606412888"
        ],
        [
         "std",
         "352.75628585511106",
         "105.67458846207306",
         "3.1589176604196334",
         "10644.929221535453"
        ],
        [
         "min",
         "0.0",
         "0.0",
         "0.0",
         "37.52"
        ],
        [
         "25%",
         "105.0",
         "91.0",
         "8.0",
         "2505.0625"
        ],
        [
         "50%",
         "252.0",
         "182.0",
         "10.0",
         "4920.345"
        ],
        [
         "75%",
         "505.0",
         "274.0",
         "12.0",
         "9667.01"
        ],
        [
         "max",
         "1825.0",
         "365.0",
         "28.0",
         "518039.35"
        ]
       ],
       "shape": {
        "columns": 4,
        "rows": 8
       }
      },
      "text/html": [
       "<div>\n",
       "<style scoped>\n",
       "    .dataframe tbody tr th:only-of-type {\n",
       "        vertical-align: middle;\n",
       "    }\n",
       "\n",
       "    .dataframe tbody tr th {\n",
       "        vertical-align: top;\n",
       "    }\n",
       "\n",
       "    .dataframe thead th {\n",
       "        text-align: right;\n",
       "    }\n",
       "</style>\n",
       "<table border=\"1\" class=\"dataframe\">\n",
       "  <thead>\n",
       "    <tr style=\"text-align: right;\">\n",
       "      <th></th>\n",
       "      <th>tenure_days</th>\n",
       "      <th>recency_days</th>\n",
       "      <th>activity_intensity</th>\n",
       "      <th>monetary_volume</th>\n",
       "    </tr>\n",
       "  </thead>\n",
       "  <tbody>\n",
       "    <tr>\n",
       "      <th>count</th>\n",
       "      <td>949650.000000</td>\n",
       "      <td>949650.000000</td>\n",
       "      <td>949650.000000</td>\n",
       "      <td>949650.000000</td>\n",
       "    </tr>\n",
       "    <tr>\n",
       "      <th>mean</th>\n",
       "      <td>362.106614</td>\n",
       "      <td>182.347578</td>\n",
       "      <td>9.992544</td>\n",
       "      <td>8128.243606</td>\n",
       "    </tr>\n",
       "    <tr>\n",
       "      <th>std</th>\n",
       "      <td>352.756286</td>\n",
       "      <td>105.674588</td>\n",
       "      <td>3.158918</td>\n",
       "      <td>10644.929222</td>\n",
       "    </tr>\n",
       "    <tr>\n",
       "      <th>min</th>\n",
       "      <td>0.000000</td>\n",
       "      <td>0.000000</td>\n",
       "      <td>0.000000</td>\n",
       "      <td>37.520000</td>\n",
       "    </tr>\n",
       "    <tr>\n",
       "      <th>25%</th>\n",
       "      <td>105.000000</td>\n",
       "      <td>91.000000</td>\n",
       "      <td>8.000000</td>\n",
       "      <td>2505.062500</td>\n",
       "    </tr>\n",
       "    <tr>\n",
       "      <th>50%</th>\n",
       "      <td>252.000000</td>\n",
       "      <td>182.000000</td>\n",
       "      <td>10.000000</td>\n",
       "      <td>4920.345000</td>\n",
       "    </tr>\n",
       "    <tr>\n",
       "      <th>75%</th>\n",
       "      <td>505.000000</td>\n",
       "      <td>274.000000</td>\n",
       "      <td>12.000000</td>\n",
       "      <td>9667.010000</td>\n",
       "    </tr>\n",
       "    <tr>\n",
       "      <th>max</th>\n",
       "      <td>1825.000000</td>\n",
       "      <td>365.000000</td>\n",
       "      <td>28.000000</td>\n",
       "      <td>518039.350000</td>\n",
       "    </tr>\n",
       "  </tbody>\n",
       "</table>\n",
       "</div>"
      ],
      "text/plain": [
       "         tenure_days   recency_days  activity_intensity  monetary_volume\n",
       "count  949650.000000  949650.000000       949650.000000    949650.000000\n",
       "mean      362.106614     182.347578            9.992544      8128.243606\n",
       "std       352.756286     105.674588            3.158918     10644.929222\n",
       "min         0.000000       0.000000            0.000000        37.520000\n",
       "25%       105.000000      91.000000            8.000000      2505.062500\n",
       "50%       252.000000     182.000000           10.000000      4920.345000\n",
       "75%       505.000000     274.000000           12.000000      9667.010000\n",
       "max      1825.000000     365.000000           28.000000    518039.350000"
      ]
     },
     "metadata": {},
     "output_type": "display_data"
    }
   ],
   "source": [
    "# Adoption logs analysis\n",
    "if 'adoption_logs' in locals():\n",
    "    print(\"📈 ADOPTION LOGS ANALYSIS\")\n",
    "    print(\"=\" * 50)\n",
    "    \n",
    "    # Sample data\n",
    "    print(\"\\n🔍 Sample Adoption Data:\")\n",
    "    display(adoption_logs.head())\n",
    "    \n",
    "    # Basic statistics\n",
    "    print(f\"\\nTotal adoption records: {len(adoption_logs):,}\")\n",
    "    \n",
    "    # Adoption rate analysis\n",
    "    if 'adopted' in adoption_logs.columns:\n",
    "        adoption_rate = adoption_logs['adopted'].mean()\n",
    "        print(f\"Overall adoption rate: {adoption_rate:.2%}\")\n",
    "        \n",
    "        # Adoption distribution\n",
    "        fig = go.Figure()\n",
    "        adoption_counts = adoption_logs['adopted'].value_counts()\n",
    "        fig.add_trace(go.Bar(\n",
    "            x=['Not Adopted', 'Adopted'], \n",
    "            y=[adoption_counts.get(0, 0), adoption_counts.get(1, 0)],\n",
    "            marker_color=['#ff7f7f', '#7fbf7f']\n",
    "        ))\n",
    "        fig.update_layout(title=\"Product Adoption Distribution\")\n",
    "        fig.show()\n",
    "    \n",
    "    # Analyze usage patterns\n",
    "    usage_cols = ['tenure_days', 'recency_days', 'activity_intensity', 'monetary_volume']\n",
    "    available_usage = [col for col in usage_cols if col in adoption_logs.columns]\n",
    "    \n",
    "    if available_usage:\n",
    "        print(f\"\\n📊 Usage Metrics Statistics:\")\n",
    "        display(adoption_logs[available_usage].describe())\n",
    "else:\n",
    "    print(\"⚠️ Adoption logs dataset not available\")"
   ]
  },
  {
   "cell_type": "code",
   "execution_count": 11,
   "id": "b4de004a",
   "metadata": {},
   "outputs": [
    {
     "name": "stdout",
     "output_type": "stream",
     "text": [
      "🔗 CROSS-DATASET ANALYSIS\n",
      "==================================================\n",
      "Merged dataset shape: (949650, 35)\n",
      "\n",
      "📊 Adoption Rate by Product Category:\n",
      "Merged dataset shape: (949650, 35)\n",
      "\n",
      "📊 Adoption Rate by Product Category:\n"
     ]
    },
    {
     "data": {
      "application/vnd.microsoft.datawrangler.viewer.v0+json": {
       "columns": [
        {
         "name": "category",
         "rawType": "object",
         "type": "string"
        },
        {
         "name": "Adoption_Rate",
         "rawType": "float64",
         "type": "float"
        },
        {
         "name": "Total_Records",
         "rawType": "int64",
         "type": "integer"
        }
       ],
       "ref": "e2a79874-639a-44fd-a23f-7a9e95563226",
       "rows": [
        [
         "CreditCard",
         "0.257",
         "4608"
        ],
        [
         "FixedDeposit",
         "0.257",
         "4813"
        ],
        [
         "DebitCard",
         "0.252",
         "5201"
        ],
        [
         "Insurance",
         "0.252",
         "4532"
        ],
        [
         "Overdraft",
         "0.251",
         "205080"
        ],
        [
         "Mortgage",
         "0.251",
         "105447"
        ],
        [
         "SavingsAccount",
         "0.251",
         "205273"
        ],
        [
         "FXTransfer",
         "0.25",
         "304789"
        ],
        [
         "PersonalLoan",
         "0.25",
         "104966"
        ],
        [
         "InvestmentFund",
         "0.246",
         "4941"
        ]
       ],
       "shape": {
        "columns": 2,
        "rows": 10
       }
      },
      "text/html": [
       "<div>\n",
       "<style scoped>\n",
       "    .dataframe tbody tr th:only-of-type {\n",
       "        vertical-align: middle;\n",
       "    }\n",
       "\n",
       "    .dataframe tbody tr th {\n",
       "        vertical-align: top;\n",
       "    }\n",
       "\n",
       "    .dataframe thead th {\n",
       "        text-align: right;\n",
       "    }\n",
       "</style>\n",
       "<table border=\"1\" class=\"dataframe\">\n",
       "  <thead>\n",
       "    <tr style=\"text-align: right;\">\n",
       "      <th></th>\n",
       "      <th>Adoption_Rate</th>\n",
       "      <th>Total_Records</th>\n",
       "    </tr>\n",
       "    <tr>\n",
       "      <th>category</th>\n",
       "      <th></th>\n",
       "      <th></th>\n",
       "    </tr>\n",
       "  </thead>\n",
       "  <tbody>\n",
       "    <tr>\n",
       "      <th>CreditCard</th>\n",
       "      <td>0.257</td>\n",
       "      <td>4608</td>\n",
       "    </tr>\n",
       "    <tr>\n",
       "      <th>FixedDeposit</th>\n",
       "      <td>0.257</td>\n",
       "      <td>4813</td>\n",
       "    </tr>\n",
       "    <tr>\n",
       "      <th>DebitCard</th>\n",
       "      <td>0.252</td>\n",
       "      <td>5201</td>\n",
       "    </tr>\n",
       "    <tr>\n",
       "      <th>Insurance</th>\n",
       "      <td>0.252</td>\n",
       "      <td>4532</td>\n",
       "    </tr>\n",
       "    <tr>\n",
       "      <th>Overdraft</th>\n",
       "      <td>0.251</td>\n",
       "      <td>205080</td>\n",
       "    </tr>\n",
       "    <tr>\n",
       "      <th>Mortgage</th>\n",
       "      <td>0.251</td>\n",
       "      <td>105447</td>\n",
       "    </tr>\n",
       "    <tr>\n",
       "      <th>SavingsAccount</th>\n",
       "      <td>0.251</td>\n",
       "      <td>205273</td>\n",
       "    </tr>\n",
       "    <tr>\n",
       "      <th>FXTransfer</th>\n",
       "      <td>0.250</td>\n",
       "      <td>304789</td>\n",
       "    </tr>\n",
       "    <tr>\n",
       "      <th>PersonalLoan</th>\n",
       "      <td>0.250</td>\n",
       "      <td>104966</td>\n",
       "    </tr>\n",
       "    <tr>\n",
       "      <th>InvestmentFund</th>\n",
       "      <td>0.246</td>\n",
       "      <td>4941</td>\n",
       "    </tr>\n",
       "  </tbody>\n",
       "</table>\n",
       "</div>"
      ],
      "text/plain": [
       "                Adoption_Rate  Total_Records\n",
       "category                                    \n",
       "CreditCard              0.257           4608\n",
       "FixedDeposit            0.257           4813\n",
       "DebitCard               0.252           5201\n",
       "Insurance               0.252           4532\n",
       "Overdraft               0.251         205080\n",
       "Mortgage                0.251         105447\n",
       "SavingsAccount          0.251         205273\n",
       "FXTransfer              0.250         304789\n",
       "PersonalLoan            0.250         104966\n",
       "InvestmentFund          0.246           4941"
      ]
     },
     "metadata": {},
     "output_type": "display_data"
    },
    {
     "data": {
      "application/vnd.plotly.v1+json": {
       "config": {
        "plotlyServerURL": "https://plot.ly"
       },
       "data": [
        {
         "text": {
          "bdata": "ppvEILBy0D9U46WbxCDQPwAAAAAAANA/ppvEILBy0D9U46WbxCDQP7ByaJHtfM8/qvHSTWIQ0D+q8dJNYhDQPwAAAAAAANA/qvHSTWIQ0D8=",
          "dtype": "f8"
         },
         "textposition": "auto",
         "type": "bar",
         "x": [
          "CreditCard",
          "DebitCard",
          "FXTransfer",
          "FixedDeposit",
          "Insurance",
          "InvestmentFund",
          "Mortgage",
          "Overdraft",
          "PersonalLoan",
          "SavingsAccount"
         ],
         "y": {
          "bdata": "ppvEILBy0D9U46WbxCDQPwAAAAAAANA/ppvEILBy0D9U46WbxCDQP7ByaJHtfM8/qvHSTWIQ0D+q8dJNYhDQPwAAAAAAANA/qvHSTWIQ0D8=",
          "dtype": "f8"
         }
        }
       ],
       "layout": {
        "template": {
         "data": {
          "bar": [
           {
            "error_x": {
             "color": "#2a3f5f"
            },
            "error_y": {
             "color": "#2a3f5f"
            },
            "marker": {
             "line": {
              "color": "#E5ECF6",
              "width": 0.5
             },
             "pattern": {
              "fillmode": "overlay",
              "size": 10,
              "solidity": 0.2
             }
            },
            "type": "bar"
           }
          ],
          "barpolar": [
           {
            "marker": {
             "line": {
              "color": "#E5ECF6",
              "width": 0.5
             },
             "pattern": {
              "fillmode": "overlay",
              "size": 10,
              "solidity": 0.2
             }
            },
            "type": "barpolar"
           }
          ],
          "carpet": [
           {
            "aaxis": {
             "endlinecolor": "#2a3f5f",
             "gridcolor": "white",
             "linecolor": "white",
             "minorgridcolor": "white",
             "startlinecolor": "#2a3f5f"
            },
            "baxis": {
             "endlinecolor": "#2a3f5f",
             "gridcolor": "white",
             "linecolor": "white",
             "minorgridcolor": "white",
             "startlinecolor": "#2a3f5f"
            },
            "type": "carpet"
           }
          ],
          "choropleth": [
           {
            "colorbar": {
             "outlinewidth": 0,
             "ticks": ""
            },
            "type": "choropleth"
           }
          ],
          "contour": [
           {
            "colorbar": {
             "outlinewidth": 0,
             "ticks": ""
            },
            "colorscale": [
             [
              0,
              "#0d0887"
             ],
             [
              0.1111111111111111,
              "#46039f"
             ],
             [
              0.2222222222222222,
              "#7201a8"
             ],
             [
              0.3333333333333333,
              "#9c179e"
             ],
             [
              0.4444444444444444,
              "#bd3786"
             ],
             [
              0.5555555555555556,
              "#d8576b"
             ],
             [
              0.6666666666666666,
              "#ed7953"
             ],
             [
              0.7777777777777778,
              "#fb9f3a"
             ],
             [
              0.8888888888888888,
              "#fdca26"
             ],
             [
              1,
              "#f0f921"
             ]
            ],
            "type": "contour"
           }
          ],
          "contourcarpet": [
           {
            "colorbar": {
             "outlinewidth": 0,
             "ticks": ""
            },
            "type": "contourcarpet"
           }
          ],
          "heatmap": [
           {
            "colorbar": {
             "outlinewidth": 0,
             "ticks": ""
            },
            "colorscale": [
             [
              0,
              "#0d0887"
             ],
             [
              0.1111111111111111,
              "#46039f"
             ],
             [
              0.2222222222222222,
              "#7201a8"
             ],
             [
              0.3333333333333333,
              "#9c179e"
             ],
             [
              0.4444444444444444,
              "#bd3786"
             ],
             [
              0.5555555555555556,
              "#d8576b"
             ],
             [
              0.6666666666666666,
              "#ed7953"
             ],
             [
              0.7777777777777778,
              "#fb9f3a"
             ],
             [
              0.8888888888888888,
              "#fdca26"
             ],
             [
              1,
              "#f0f921"
             ]
            ],
            "type": "heatmap"
           }
          ],
          "histogram": [
           {
            "marker": {
             "pattern": {
              "fillmode": "overlay",
              "size": 10,
              "solidity": 0.2
             }
            },
            "type": "histogram"
           }
          ],
          "histogram2d": [
           {
            "colorbar": {
             "outlinewidth": 0,
             "ticks": ""
            },
            "colorscale": [
             [
              0,
              "#0d0887"
             ],
             [
              0.1111111111111111,
              "#46039f"
             ],
             [
              0.2222222222222222,
              "#7201a8"
             ],
             [
              0.3333333333333333,
              "#9c179e"
             ],
             [
              0.4444444444444444,
              "#bd3786"
             ],
             [
              0.5555555555555556,
              "#d8576b"
             ],
             [
              0.6666666666666666,
              "#ed7953"
             ],
             [
              0.7777777777777778,
              "#fb9f3a"
             ],
             [
              0.8888888888888888,
              "#fdca26"
             ],
             [
              1,
              "#f0f921"
             ]
            ],
            "type": "histogram2d"
           }
          ],
          "histogram2dcontour": [
           {
            "colorbar": {
             "outlinewidth": 0,
             "ticks": ""
            },
            "colorscale": [
             [
              0,
              "#0d0887"
             ],
             [
              0.1111111111111111,
              "#46039f"
             ],
             [
              0.2222222222222222,
              "#7201a8"
             ],
             [
              0.3333333333333333,
              "#9c179e"
             ],
             [
              0.4444444444444444,
              "#bd3786"
             ],
             [
              0.5555555555555556,
              "#d8576b"
             ],
             [
              0.6666666666666666,
              "#ed7953"
             ],
             [
              0.7777777777777778,
              "#fb9f3a"
             ],
             [
              0.8888888888888888,
              "#fdca26"
             ],
             [
              1,
              "#f0f921"
             ]
            ],
            "type": "histogram2dcontour"
           }
          ],
          "mesh3d": [
           {
            "colorbar": {
             "outlinewidth": 0,
             "ticks": ""
            },
            "type": "mesh3d"
           }
          ],
          "parcoords": [
           {
            "line": {
             "colorbar": {
              "outlinewidth": 0,
              "ticks": ""
             }
            },
            "type": "parcoords"
           }
          ],
          "pie": [
           {
            "automargin": true,
            "type": "pie"
           }
          ],
          "scatter": [
           {
            "fillpattern": {
             "fillmode": "overlay",
             "size": 10,
             "solidity": 0.2
            },
            "type": "scatter"
           }
          ],
          "scatter3d": [
           {
            "line": {
             "colorbar": {
              "outlinewidth": 0,
              "ticks": ""
             }
            },
            "marker": {
             "colorbar": {
              "outlinewidth": 0,
              "ticks": ""
             }
            },
            "type": "scatter3d"
           }
          ],
          "scattercarpet": [
           {
            "marker": {
             "colorbar": {
              "outlinewidth": 0,
              "ticks": ""
             }
            },
            "type": "scattercarpet"
           }
          ],
          "scattergeo": [
           {
            "marker": {
             "colorbar": {
              "outlinewidth": 0,
              "ticks": ""
             }
            },
            "type": "scattergeo"
           }
          ],
          "scattergl": [
           {
            "marker": {
             "colorbar": {
              "outlinewidth": 0,
              "ticks": ""
             }
            },
            "type": "scattergl"
           }
          ],
          "scattermap": [
           {
            "marker": {
             "colorbar": {
              "outlinewidth": 0,
              "ticks": ""
             }
            },
            "type": "scattermap"
           }
          ],
          "scattermapbox": [
           {
            "marker": {
             "colorbar": {
              "outlinewidth": 0,
              "ticks": ""
             }
            },
            "type": "scattermapbox"
           }
          ],
          "scatterpolar": [
           {
            "marker": {
             "colorbar": {
              "outlinewidth": 0,
              "ticks": ""
             }
            },
            "type": "scatterpolar"
           }
          ],
          "scatterpolargl": [
           {
            "marker": {
             "colorbar": {
              "outlinewidth": 0,
              "ticks": ""
             }
            },
            "type": "scatterpolargl"
           }
          ],
          "scatterternary": [
           {
            "marker": {
             "colorbar": {
              "outlinewidth": 0,
              "ticks": ""
             }
            },
            "type": "scatterternary"
           }
          ],
          "surface": [
           {
            "colorbar": {
             "outlinewidth": 0,
             "ticks": ""
            },
            "colorscale": [
             [
              0,
              "#0d0887"
             ],
             [
              0.1111111111111111,
              "#46039f"
             ],
             [
              0.2222222222222222,
              "#7201a8"
             ],
             [
              0.3333333333333333,
              "#9c179e"
             ],
             [
              0.4444444444444444,
              "#bd3786"
             ],
             [
              0.5555555555555556,
              "#d8576b"
             ],
             [
              0.6666666666666666,
              "#ed7953"
             ],
             [
              0.7777777777777778,
              "#fb9f3a"
             ],
             [
              0.8888888888888888,
              "#fdca26"
             ],
             [
              1,
              "#f0f921"
             ]
            ],
            "type": "surface"
           }
          ],
          "table": [
           {
            "cells": {
             "fill": {
              "color": "#EBF0F8"
             },
             "line": {
              "color": "white"
             }
            },
            "header": {
             "fill": {
              "color": "#C8D4E3"
             },
             "line": {
              "color": "white"
             }
            },
            "type": "table"
           }
          ]
         },
         "layout": {
          "annotationdefaults": {
           "arrowcolor": "#2a3f5f",
           "arrowhead": 0,
           "arrowwidth": 1
          },
          "autotypenumbers": "strict",
          "coloraxis": {
           "colorbar": {
            "outlinewidth": 0,
            "ticks": ""
           }
          },
          "colorscale": {
           "diverging": [
            [
             0,
             "#8e0152"
            ],
            [
             0.1,
             "#c51b7d"
            ],
            [
             0.2,
             "#de77ae"
            ],
            [
             0.3,
             "#f1b6da"
            ],
            [
             0.4,
             "#fde0ef"
            ],
            [
             0.5,
             "#f7f7f7"
            ],
            [
             0.6,
             "#e6f5d0"
            ],
            [
             0.7,
             "#b8e186"
            ],
            [
             0.8,
             "#7fbc41"
            ],
            [
             0.9,
             "#4d9221"
            ],
            [
             1,
             "#276419"
            ]
           ],
           "sequential": [
            [
             0,
             "#0d0887"
            ],
            [
             0.1111111111111111,
             "#46039f"
            ],
            [
             0.2222222222222222,
             "#7201a8"
            ],
            [
             0.3333333333333333,
             "#9c179e"
            ],
            [
             0.4444444444444444,
             "#bd3786"
            ],
            [
             0.5555555555555556,
             "#d8576b"
            ],
            [
             0.6666666666666666,
             "#ed7953"
            ],
            [
             0.7777777777777778,
             "#fb9f3a"
            ],
            [
             0.8888888888888888,
             "#fdca26"
            ],
            [
             1,
             "#f0f921"
            ]
           ],
           "sequentialminus": [
            [
             0,
             "#0d0887"
            ],
            [
             0.1111111111111111,
             "#46039f"
            ],
            [
             0.2222222222222222,
             "#7201a8"
            ],
            [
             0.3333333333333333,
             "#9c179e"
            ],
            [
             0.4444444444444444,
             "#bd3786"
            ],
            [
             0.5555555555555556,
             "#d8576b"
            ],
            [
             0.6666666666666666,
             "#ed7953"
            ],
            [
             0.7777777777777778,
             "#fb9f3a"
            ],
            [
             0.8888888888888888,
             "#fdca26"
            ],
            [
             1,
             "#f0f921"
            ]
           ]
          },
          "colorway": [
           "#636efa",
           "#EF553B",
           "#00cc96",
           "#ab63fa",
           "#FFA15A",
           "#19d3f3",
           "#FF6692",
           "#B6E880",
           "#FF97FF",
           "#FECB52"
          ],
          "font": {
           "color": "#2a3f5f"
          },
          "geo": {
           "bgcolor": "white",
           "lakecolor": "white",
           "landcolor": "#E5ECF6",
           "showlakes": true,
           "showland": true,
           "subunitcolor": "white"
          },
          "hoverlabel": {
           "align": "left"
          },
          "hovermode": "closest",
          "mapbox": {
           "style": "light"
          },
          "paper_bgcolor": "white",
          "plot_bgcolor": "#E5ECF6",
          "polar": {
           "angularaxis": {
            "gridcolor": "white",
            "linecolor": "white",
            "ticks": ""
           },
           "bgcolor": "#E5ECF6",
           "radialaxis": {
            "gridcolor": "white",
            "linecolor": "white",
            "ticks": ""
           }
          },
          "scene": {
           "xaxis": {
            "backgroundcolor": "#E5ECF6",
            "gridcolor": "white",
            "gridwidth": 2,
            "linecolor": "white",
            "showbackground": true,
            "ticks": "",
            "zerolinecolor": "white"
           },
           "yaxis": {
            "backgroundcolor": "#E5ECF6",
            "gridcolor": "white",
            "gridwidth": 2,
            "linecolor": "white",
            "showbackground": true,
            "ticks": "",
            "zerolinecolor": "white"
           },
           "zaxis": {
            "backgroundcolor": "#E5ECF6",
            "gridcolor": "white",
            "gridwidth": 2,
            "linecolor": "white",
            "showbackground": true,
            "ticks": "",
            "zerolinecolor": "white"
           }
          },
          "shapedefaults": {
           "line": {
            "color": "#2a3f5f"
           }
          },
          "ternary": {
           "aaxis": {
            "gridcolor": "white",
            "linecolor": "white",
            "ticks": ""
           },
           "baxis": {
            "gridcolor": "white",
            "linecolor": "white",
            "ticks": ""
           },
           "bgcolor": "#E5ECF6",
           "caxis": {
            "gridcolor": "white",
            "linecolor": "white",
            "ticks": ""
           }
          },
          "title": {
           "x": 0.05
          },
          "xaxis": {
           "automargin": true,
           "gridcolor": "white",
           "linecolor": "white",
           "ticks": "",
           "title": {
            "standoff": 15
           },
           "zerolinecolor": "white",
           "zerolinewidth": 2
          },
          "yaxis": {
           "automargin": true,
           "gridcolor": "white",
           "linecolor": "white",
           "ticks": "",
           "title": {
            "standoff": 15
           },
           "zerolinecolor": "white",
           "zerolinewidth": 2
          }
         }
        },
        "title": {
         "text": "Adoption Rate by Product Category"
        },
        "xaxis": {
         "title": {
          "text": "Product Category"
         }
        },
        "yaxis": {
         "title": {
          "text": "Adoption Rate"
         }
        }
       }
      }
     },
     "metadata": {},
     "output_type": "display_data"
    }
   ],
   "source": [
    "# Cross-dataset analysis: Product-Adoption relationship\n",
    "if 'products' in locals() and 'adoption_logs' in locals():\n",
    "    print(\"🔗 CROSS-DATASET ANALYSIS\")\n",
    "    print(\"=\" * 50)\n",
    "    \n",
    "    # Merge products with adoption logs\n",
    "    if 'product_id' in products.columns and 'product_id' in adoption_logs.columns:\n",
    "        product_adoption = adoption_logs.merge(products, on='product_id', how='left')\n",
    "        \n",
    "        print(f\"Merged dataset shape: {product_adoption.shape}\")\n",
    "        \n",
    "        # Adoption rate by product category\n",
    "        if 'adopted' in product_adoption.columns and 'category' in product_adoption.columns:\n",
    "            adoption_by_category = product_adoption.groupby('category')['adopted'].agg(['mean', 'count']).round(3)\n",
    "            adoption_by_category.columns = ['Adoption_Rate', 'Total_Records']\n",
    "            \n",
    "            print(\"\\n📊 Adoption Rate by Product Category:\")\n",
    "            display(adoption_by_category.sort_values('Adoption_Rate', ascending=False))\n",
    "            \n",
    "            # Visualization\n",
    "            fig = go.Figure()\n",
    "            fig.add_trace(go.Bar(\n",
    "                x=adoption_by_category.index,\n",
    "                y=adoption_by_category['Adoption_Rate'],\n",
    "                text=adoption_by_category['Adoption_Rate'].round(3),\n",
    "                textposition='auto'\n",
    "            ))\n",
    "            fig.update_layout(\n",
    "                title=\"Adoption Rate by Product Category\",\n",
    "                xaxis_title=\"Product Category\",\n",
    "                yaxis_title=\"Adoption Rate\"\n",
    "            )\n",
    "            fig.show()\n",
    "    else:\n",
    "        print(\"⚠️ Cannot merge datasets - product_id column missing\")\n",
    "else:\n",
    "    print(\"⚠️ Cannot perform cross-dataset analysis - datasets not available\")"
   ]
  },
  {
   "cell_type": "markdown",
   "id": "bb339481",
   "metadata": {},
   "source": [
    "## 5. Feature Correlation Analysis"
   ]
  },
  {
   "cell_type": "code",
   "execution_count": 12,
   "id": "ab3c00c0",
   "metadata": {},
   "outputs": [
    {
     "name": "stdout",
     "output_type": "stream",
     "text": [
      "🔗 PRODUCT FEATURES CORRELATION ANALYSIS\n",
      "==================================================\n",
      "\n",
      "✅ No highly correlated features found\n",
      "\n",
      "✅ No highly correlated features found\n"
     ]
    }
   ],
   "source": [
    "# Correlation analysis for products dataset\n",
    "if 'products' in locals():\n",
    "    print(\"🔗 PRODUCT FEATURES CORRELATION ANALYSIS\")\n",
    "    print(\"=\" * 50)\n",
    "    \n",
    "    # Select numeric columns for correlation\n",
    "    numeric_cols = products.select_dtypes(include=[np.number]).columns.tolist()\n",
    "    \n",
    "    if len(numeric_cols) > 1:\n",
    "        # Calculate correlation matrix\n",
    "        corr_matrix = products[numeric_cols].corr()\n",
    "        \n",
    "        # Create heatmap\n",
    "        plt.figure(figsize=(12, 8))\n",
    "        mask = np.triu(np.ones_like(corr_matrix, dtype=bool))\n",
    "        sns.heatmap(corr_matrix, \n",
    "                    mask=mask,\n",
    "                    annot=True, \n",
    "                    cmap='RdBu_r', \n",
    "                    center=0,\n",
    "                    square=True,\n",
    "                    fmt='.2f')\n",
    "        plt.title('Product Features Correlation Matrix')\n",
    "        plt.tight_layout()\n",
    "        plt.show()\n",
    "        \n",
    "        # Find highly correlated pairs\n",
    "        high_corr_pairs = []\n",
    "        for i in range(len(corr_matrix.columns)):\n",
    "            for j in range(i+1, len(corr_matrix.columns)):\n",
    "                corr_val = corr_matrix.iloc[i, j]\n",
    "                if abs(corr_val) > 0.7:\n",
    "                    high_corr_pairs.append((\n",
    "                        corr_matrix.columns[i], \n",
    "                        corr_matrix.columns[j], \n",
    "                        corr_val\n",
    "                    ))\n",
    "        \n",
    "        if high_corr_pairs:\n",
    "            print(f\"\\n⚠️ Highly correlated features (|r| > 0.7):\")\n",
    "            for feat1, feat2, corr in high_corr_pairs:\n",
    "                print(f\"  {feat1} ↔ {feat2}: {corr:.3f}\")\n",
    "        else:\n",
    "            print(\"\\n✅ No highly correlated features found\")\n",
    "    else:\n",
    "        print(\"⚠️ Insufficient numeric columns for correlation analysis\")"
   ]
  },
  {
   "cell_type": "markdown",
   "id": "3b67c40a",
   "metadata": {},
   "source": [
    "## 6. Business Insights & Key Findings"
   ]
  },
  {
   "cell_type": "code",
   "execution_count": 13,
   "id": "4b9ff504",
   "metadata": {},
   "outputs": [
    {
     "name": "stdout",
     "output_type": "stream",
     "text": [
      "🎯 KEY FINDINGS SUMMARY\n",
      "==================================================\n",
      "\n",
      "📦 PRODUCT INSIGHTS:\n",
      "  • Top 3 product categories: SavingsAccount, Mortgage, Overdraft\n",
      "  • Average historical conversion rate: 11.73%\n",
      "  • APR range: 0.5% - 18.9%\n",
      "\n",
      "📈 ADOPTION INSIGHTS:\n",
      "  • Total adoption records: 949,650\n",
      "  • Overall adoption rate: 25.07%\n",
      "\n",
      "🔍 DATA QUALITY INSIGHTS:\n",
      "  • Customers: 2 columns with >10% missing, 0 duplicates\n",
      "  • Products: 0 columns with >10% missing, 0 duplicates\n",
      "  • Adoption_logs: 0 columns with >10% missing, 0 duplicates\n",
      "\n",
      "📋 SUMMARY:\n",
      "  1. Product portfolio: 1000 products across 10 categories\n",
      "  2. Average conversion rate: 11.73%\n",
      "  3. Adoption logs: 949,650 records\n",
      "  4. Overall adoption rate: 25.07%\n",
      "  5. customers: Data quality issues detected\n"
     ]
    }
   ],
   "source": [
    "# Summary of key findings\n",
    "print(\"🎯 KEY FINDINGS SUMMARY\")\n",
    "print(\"=\" * 50)\n",
    "\n",
    "findings = []\n",
    "\n",
    "# Product insights\n",
    "if 'products' in locals():\n",
    "    print(\"\\n📦 PRODUCT INSIGHTS:\")\n",
    "    \n",
    "    # Most popular categories\n",
    "    top_categories = products['category'].value_counts().head(3)\n",
    "    print(f\"  • Top 3 product categories: {', '.join(top_categories.index)}\")\n",
    "    findings.append(f\"Product portfolio: {len(products)} products across {products['category'].nunique()} categories\")\n",
    "    \n",
    "    # Performance metrics\n",
    "    if 'hist_conv_rate' in products.columns:\n",
    "        avg_conv_rate = products['hist_conv_rate'].mean()\n",
    "        print(f\"  • Average historical conversion rate: {avg_conv_rate:.2%}\")\n",
    "        findings.append(f\"Average conversion rate: {avg_conv_rate:.2%}\")\n",
    "    \n",
    "    if 'apr' in products.columns:\n",
    "        apr_range = f\"{products['apr'].min():.1f}% - {products['apr'].max():.1f}%\"\n",
    "        print(f\"  • APR range: {apr_range}\")\n",
    "\n",
    "# Adoption insights\n",
    "if 'adoption_logs' in locals():\n",
    "    print(\"\\n📈 ADOPTION INSIGHTS:\")\n",
    "    \n",
    "    total_records = len(adoption_logs)\n",
    "    print(f\"  • Total adoption records: {total_records:,}\")\n",
    "    findings.append(f\"Adoption logs: {total_records:,} records\")\n",
    "    \n",
    "    if 'adopted' in adoption_logs.columns:\n",
    "        adoption_rate = adoption_logs['adopted'].mean()\n",
    "        print(f\"  • Overall adoption rate: {adoption_rate:.2%}\")\n",
    "        findings.append(f\"Overall adoption rate: {adoption_rate:.2%}\")\n",
    "        \n",
    "        # Class imbalance check\n",
    "        positive_rate = adoption_rate\n",
    "        if positive_rate < 0.1 or positive_rate > 0.9:\n",
    "            print(f\"  ⚠️ Class imbalance detected: {positive_rate:.2%} positive rate\")\n",
    "            findings.append(\"Class imbalance issue identified\")\n",
    "\n",
    "# Data quality insights\n",
    "print(\"\\n🔍 DATA QUALITY INSIGHTS:\")\n",
    "for dataset_name, quality_info in datasets_quality.items():\n",
    "    missing_issues = len([x for x in quality_info['missing_pct'] if x > 10])\n",
    "    duplicates = quality_info['duplicates']\n",
    "    \n",
    "    print(f\"  • {dataset_name.capitalize()}: {missing_issues} columns with >10% missing, {duplicates} duplicates\")\n",
    "    \n",
    "    if missing_issues > 0 or duplicates > 0:\n",
    "        findings.append(f\"{dataset_name}: Data quality issues detected\")\n",
    "\n",
    "print(f\"\\n📋 SUMMARY:\")\n",
    "for i, finding in enumerate(findings, 1):\n",
    "    print(f\"  {i}. {finding}\")"
   ]
  },
  {
   "cell_type": "markdown",
   "id": "dd0d4a38",
   "metadata": {},
   "source": [
    "## 7. Recommendations for Next Steps\n",
    "\n",
    "Based on our EDA, here are the key recommendations for moving forward:\n",
    "\n",
    "### Data Preprocessing Priorities:\n",
    "1. **Handle missing values** in high-missing columns\n",
    "2. **Remove duplicates** where identified  \n",
    "3. **Encode categorical variables** for modeling\n",
    "4. **Scale numeric features** to similar ranges\n",
    "\n",
    "### Feature Engineering Opportunities:\n",
    "1. **Customer-Product Interaction Features**: Create features that capture compatibility between customer profiles and product characteristics\n",
    "2. **Temporal Features**: Extract time-based patterns from adoption history\n",
    "3. **Aggregation Features**: Customer-level and product-level summary statistics\n",
    "4. **Risk-Reward Balance**: Combine risk and reward metrics for better decision features\n",
    "\n",
    "### Modeling Considerations:\n",
    "1. **Class Imbalance**: If adoption rate is very low/high, use appropriate sampling or cost-sensitive learning\n",
    "2. **Feature Selection**: Address highly correlated features to avoid multicollinearity\n",
    "3. **Cross-Validation Strategy**: Use time-based splits to avoid data leakage\n",
    "4. **Evaluation Metrics**: Focus on business-relevant metrics like Precision@K and conversion lift\n",
    "\n",
    "### Business Insights:\n",
    "1. **Product Performance Variation**: Different product categories show varying adoption patterns\n",
    "2. **Customer Segmentation Potential**: Rich customer features enable sophisticated segmentation\n",
    "3. **Personalization Opportunities**: Customer-product matching can drive recommendations"
   ]
  },
  {
   "cell_type": "code",
   "execution_count": 14,
   "id": "b5e9d63f",
   "metadata": {},
   "outputs": [
    {
     "name": "stdout",
     "output_type": "stream",
     "text": [
      "✅ EDA analysis complete!\n",
      "📁 Insights saved to 'eda_insights.json'\n",
      "\n",
      "🚀 Ready to proceed with feature engineering and modeling!\n"
     ]
    }
   ],
   "source": [
    "# Save key insights for future reference\n",
    "import json\n",
    "from datetime import datetime\n",
    "\n",
    "# Create insights summary\n",
    "insights_summary = {\n",
    "    'analysis_date': datetime.now().isoformat(),\n",
    "    'datasets_analyzed': list(datasets_quality.keys()),\n",
    "    'key_findings': findings,\n",
    "    'data_shapes': {},\n",
    "    'recommendations': [\n",
    "        'Implement comprehensive data preprocessing pipeline',\n",
    "        'Develop customer-product interaction features', \n",
    "        'Address class imbalance in modeling',\n",
    "        'Use time-based validation strategy',\n",
    "        'Focus on business-relevant evaluation metrics'\n",
    "    ]\n",
    "}\n",
    "\n",
    "# Add dataset shapes if available\n",
    "if 'products' in locals():\n",
    "    insights_summary['data_shapes']['products'] = list(products.shape)\n",
    "if 'customers' in locals():\n",
    "    insights_summary['data_shapes']['customers'] = list(customers.shape)\n",
    "if 'adoption_logs' in locals():\n",
    "    insights_summary['data_shapes']['adoption_logs'] = list(adoption_logs.shape)\n",
    "\n",
    "# Save insights\n",
    "with open('eda_insights.json', 'w') as f:\n",
    "    json.dump(insights_summary, f, indent=2)\n",
    "\n",
    "print(\"✅ EDA analysis complete!\")\n",
    "print(\"📁 Insights saved to 'eda_insights.json'\")\n",
    "print(\"\\n🚀 Ready to proceed with feature engineering and modeling!\")"
   ]
  },
  {
   "cell_type": "markdown",
   "id": "a2a0032a",
   "metadata": {},
   "source": [
    "# II. Data Preprocessing Pipeline\n",
    "\n",
    "Based on our EDA findings, we'll implement a comprehensive preprocessing pipeline to prepare the data for modeling.\n",
    "\n",
    "## Preprocessing Strategy:\n",
    "1. **Data Cleaning**: Handle missing values and duplicates\n",
    "2. **Feature Engineering**: Create interaction and derived features\n",
    "3. **Encoding**: Transform categorical variables\n",
    "4. **Scaling**: Normalize numeric features\n",
    "5. **Validation**: Ensure data quality and consistency"
   ]
  },
  {
   "cell_type": "code",
   "execution_count": 15,
   "id": "4bb1ad12",
   "metadata": {},
   "outputs": [
    {
     "name": "stdout",
     "output_type": "stream",
     "text": [
      "🔧 Data Preprocessor initialized\n"
     ]
    }
   ],
   "source": [
    "# Data Preprocessing Functions\n",
    "from sklearn.preprocessing import StandardScaler, LabelEncoder, OneHotEncoder\n",
    "from sklearn.impute import SimpleImputer, KNNImputer\n",
    "from sklearn.model_selection import train_test_split\n",
    "from datetime import datetime, timedelta\n",
    "import ast\n",
    "\n",
    "class DataPreprocessor:\n",
    "    \"\"\"Comprehensive data preprocessing pipeline for customer product adoption prediction\"\"\"\n",
    "    \n",
    "    def __init__(self):\n",
    "        self.scalers = {}\n",
    "        self.encoders = {}\n",
    "        self.imputers = {}\n",
    "        self.feature_names = []\n",
    "        self.preprocessing_log = []\n",
    "        \n",
    "    def log_step(self, message):\n",
    "        \"\"\"Log preprocessing steps\"\"\"\n",
    "        timestamp = datetime.now().strftime('%H:%M:%S')\n",
    "        log_entry = f\"[{timestamp}] {message}\"\n",
    "        self.preprocessing_log.append(log_entry)\n",
    "        print(f\"✓ {message}\")\n",
    "    \n",
    "    def handle_missing_values(self, df, strategy='auto'):\n",
    "        \"\"\"Handle missing values with appropriate strategies\"\"\"\n",
    "        self.log_step(\"Starting missing value treatment\")\n",
    "        \n",
    "        df_processed = df.copy()\n",
    "        missing_summary = df.isnull().sum()\n",
    "        high_missing_cols = missing_summary[missing_summary > len(df) * 0.5].index.tolist()\n",
    "        \n",
    "        if high_missing_cols:\n",
    "            self.log_step(f\"Dropping columns with >50% missing: {high_missing_cols}\")\n",
    "            df_processed = df_processed.drop(columns=high_missing_cols)\n",
    "        \n",
    "        # Separate numeric and categorical columns\n",
    "        numeric_cols = df_processed.select_dtypes(include=[np.number]).columns.tolist()\n",
    "        categorical_cols = df_processed.select_dtypes(include=['object']).columns.tolist()\n",
    "        \n",
    "        # Handle numeric missing values\n",
    "        if numeric_cols:\n",
    "            for col in numeric_cols:\n",
    "                if df_processed[col].isnull().sum() > 0:\n",
    "                    if df_processed[col].isnull().sum() / len(df_processed) < 0.1:\n",
    "                        # Low missing: use median\n",
    "                        df_processed[col].fillna(df_processed[col].median(), inplace=True)\n",
    "                        self.log_step(f\"Filled {col} with median (low missing)\")\n",
    "                    else:\n",
    "                        # High missing: use KNN imputation\n",
    "                        imputer = KNNImputer(n_neighbors=5)\n",
    "                        df_processed[col] = imputer.fit_transform(df_processed[[col]]).flatten()\n",
    "                        self.log_step(f\"Applied KNN imputation to {col}\")\n",
    "        \n",
    "        # Handle categorical missing values\n",
    "        if categorical_cols:\n",
    "            for col in categorical_cols:\n",
    "                if df_processed[col].isnull().sum() > 0:\n",
    "                    # Fill with mode or 'Unknown'\n",
    "                    mode_val = df_processed[col].mode()\n",
    "                    fill_val = mode_val[0] if len(mode_val) > 0 else 'Unknown'\n",
    "                    df_processed[col].fillna(fill_val, inplace=True)\n",
    "                    self.log_step(f\"Filled {col} with mode/Unknown\")\n",
    "        \n",
    "        return df_processed\n",
    "    \n",
    "    def remove_duplicates(self, df):\n",
    "        \"\"\"Remove duplicate rows\"\"\"\n",
    "        initial_shape = df.shape\n",
    "        df_cleaned = df.drop_duplicates()\n",
    "        duplicates_removed = initial_shape[0] - df_cleaned.shape[0]\n",
    "        \n",
    "        if duplicates_removed > 0:\n",
    "            self.log_step(f\"Removed {duplicates_removed} duplicate rows\")\n",
    "        else:\n",
    "            self.log_step(\"No duplicates found\")\n",
    "            \n",
    "        return df_cleaned\n",
    "    \n",
    "    def encode_categorical_features(self, df, high_cardinality_threshold=20):\n",
    "        \"\"\"Encode categorical features with appropriate methods\"\"\"\n",
    "        self.log_step(\"Starting categorical encoding\")\n",
    "        \n",
    "        df_encoded = df.copy()\n",
    "        categorical_cols = df.select_dtypes(include=['object']).columns.tolist()\n",
    "        \n",
    "        for col in categorical_cols:\n",
    "            unique_count = df[col].nunique()\n",
    "            \n",
    "            if unique_count == 2:\n",
    "                # Binary encoding\n",
    "                le = LabelEncoder()\n",
    "                df_encoded[col] = le.fit_transform(df_encoded[col].astype(str))\n",
    "                self.encoders[col] = le\n",
    "                self.log_step(f\"Binary encoded {col}\")\n",
    "                \n",
    "            elif unique_count <= high_cardinality_threshold:\n",
    "                # One-hot encoding for low cardinality\n",
    "                dummies = pd.get_dummies(df_encoded[col], prefix=col, drop_first=True)\n",
    "                df_encoded = pd.concat([df_encoded.drop(columns=[col]), dummies], axis=1)\n",
    "                self.log_step(f\"One-hot encoded {col} ({unique_count} categories)\")\n",
    "                \n",
    "            else:\n",
    "                # Target encoding or frequency encoding for high cardinality\n",
    "                freq_encoding = df_encoded[col].value_counts().to_dict()\n",
    "                df_encoded[f'{col}_frequency'] = df_encoded[col].map(freq_encoding)\n",
    "                df_encoded = df_encoded.drop(columns=[col])\n",
    "                self.log_step(f\"Frequency encoded {col} (high cardinality: {unique_count})\")\n",
    "        \n",
    "        return df_encoded\n",
    "    \n",
    "    def scale_numeric_features(self, df, method='standard'):\n",
    "        \"\"\"Scale numeric features\"\"\"\n",
    "        self.log_step(f\"Starting feature scaling ({method})\")\n",
    "        \n",
    "        df_scaled = df.copy()\n",
    "        numeric_cols = df.select_dtypes(include=[np.number]).columns.tolist()\n",
    "        \n",
    "        if method == 'standard':\n",
    "            scaler = StandardScaler()\n",
    "        else:\n",
    "            from sklearn.preprocessing import MinMaxScaler\n",
    "            scaler = MinMaxScaler()\n",
    "        \n",
    "        if numeric_cols:\n",
    "            df_scaled[numeric_cols] = scaler.fit_transform(df_scaled[numeric_cols])\n",
    "            self.scalers['numeric'] = scaler\n",
    "            self.log_step(f\"Scaled {len(numeric_cols)} numeric features\")\n",
    "        \n",
    "        return df_scaled\n",
    "\n",
    "# Initialize preprocessor\n",
    "preprocessor = DataPreprocessor()\n",
    "print(\"🔧 Data Preprocessor initialized\")"
   ]
  },
  {
   "cell_type": "markdown",
   "id": "ed4f6138",
   "metadata": {},
   "source": [
    "### 8.1 Feature Engineering Pipeline\n",
    "\n",
    "Create new features that capture business logic and customer-product interactions."
   ]
  },
  {
   "cell_type": "code",
   "execution_count": 16,
   "id": "1ee5b0e7",
   "metadata": {},
   "outputs": [
    {
     "name": "stdout",
     "output_type": "stream",
     "text": [
      "🔨 Feature Engineer initialized\n"
     ]
    }
   ],
   "source": [
    "class FeatureEngineer:\n",
    "    \"\"\"Advanced feature engineering for customer product adoption\"\"\"\n",
    "    \n",
    "    def __init__(self):\n",
    "        self.feature_log = []\n",
    "    \n",
    "    def log_feature(self, message):\n",
    "        \"\"\"Log feature engineering steps\"\"\"\n",
    "        timestamp = datetime.now().strftime('%H:%M:%S')\n",
    "        self.feature_log.append(f\"[{timestamp}] {message}\")\n",
    "        print(f\"🔨 {message}\")\n",
    "    \n",
    "    def create_customer_product_interactions(self, customers_df, products_df):\n",
    "        \"\"\"Create interaction features between customers and products\"\"\"\n",
    "        self.log_feature(\"Creating customer-product interaction features\")\n",
    "        \n",
    "        interactions = []\n",
    "        \n",
    "        # Create all customer-product combinations\n",
    "        for _, customer in customers_df.iterrows():\n",
    "            for _, product in products_df.iterrows():\n",
    "                interaction = {\n",
    "                    'user_id': customer.get('user_id'),\n",
    "                    'product_id': product.get('product_id'),\n",
    "                }\n",
    "                \n",
    "                # Income-Product Tier Match\n",
    "                if 'income_tier' in customer.index and 'tier' in product.index:\n",
    "                    income_tier = str(customer['income_tier']).lower()\n",
    "                    product_tier = str(product['tier']).lower()\n",
    "                    \n",
    "                    tier_compatibility = {\n",
    "                        ('low', 'standard'): 1,\n",
    "                        ('middle', 'gold'): 1,\n",
    "                        ('high', 'platinum'): 1,\n",
    "                        ('affluent', 'signature'): 1,\n",
    "                        ('affluent', 'infinite'): 1\n",
    "                    }\n",
    "                    \n",
    "                    interaction['income_product_match'] = tier_compatibility.get(\n",
    "                        (income_tier, product_tier), 0\n",
    "                    )\n",
    "                \n",
    "                # Age-Product Category Match\n",
    "                if 'age' in customer.index and 'category' in product.index:\n",
    "                    age = customer['age']\n",
    "                    category = str(product['category'])\n",
    "                    \n",
    "                    # Age-based product affinity\n",
    "                    age_product_affinity = 0\n",
    "                    if 18 <= age <= 30:\n",
    "                        if category in ['DebitCard', 'PersonalLoan']: age_product_affinity = 1\n",
    "                    elif 30 <= age <= 50:\n",
    "                        if category in ['CreditCard', 'Mortgage', 'Insurance']: age_product_affinity = 1\n",
    "                    elif age > 50:\n",
    "                        if category in ['FixedDeposit', 'InvestmentFund']: age_product_affinity = 1\n",
    "                    \n",
    "                    interaction['age_product_affinity'] = age_product_affinity\n",
    "                \n",
    "                # Risk-Reward Balance\n",
    "                if 'churn_risk' in customer.index and 'risk_adj_margin' in product.index:\n",
    "                    customer_risk = customer['churn_risk']\n",
    "                    product_risk = product['risk_adj_margin']\n",
    "                    \n",
    "                    # Risk compatibility (inverse relationship)\n",
    "                    interaction['risk_compatibility'] = 1 / (1 + abs(customer_risk - product_risk))\n",
    "                \n",
    "                # CLV-Product Value Match\n",
    "                if 'clv_score' in customer.index and 'expected_utility' in product.index:\n",
    "                    clv = customer['clv_score']\n",
    "                    utility = product['expected_utility']\n",
    "                    interaction['clv_utility_match'] = clv * utility\n",
    "                \n",
    "                # Channel Preference Match\n",
    "                if 'preferred_channel' in customer.index and 'channels' in product.index:\n",
    "                    pref_channel = str(customer['preferred_channel'])\n",
    "                    product_channels = str(product['channels'])\n",
    "                    \n",
    "                    # Simple string matching (could be improved with proper parsing)\n",
    "                    interaction['channel_match'] = 1 if pref_channel.lower() in product_channels.lower() else 0\n",
    "                \n",
    "                interactions.append(interaction)\n",
    "        \n",
    "        interactions_df = pd.DataFrame(interactions)\n",
    "        self.log_feature(f\"Created {len(interactions_df)} customer-product interactions\")\n",
    "        \n",
    "        return interactions_df\n",
    "    \n",
    "    def create_temporal_features(self, df):\n",
    "        \"\"\"Create time-based features\"\"\"\n",
    "        self.log_feature(\"Creating temporal features\")\n",
    "        \n",
    "        df_temporal = df.copy()\n",
    "        \n",
    "        # If we have date columns, extract temporal features\n",
    "        date_cols = [col for col in df.columns if 'date' in col.lower() or 'time' in col.lower()]\n",
    "        \n",
    "        for col in date_cols:\n",
    "            try:\n",
    "                # Try to parse dates\n",
    "                df_temporal[col] = pd.to_datetime(df_temporal[col], errors='coerce')\n",
    "                \n",
    "                # Extract temporal components\n",
    "                df_temporal[f'{col}_year'] = df_temporal[col].dt.year\n",
    "                df_temporal[f'{col}_month'] = df_temporal[col].dt.month\n",
    "                df_temporal[f'{col}_quarter'] = df_temporal[col].dt.quarter\n",
    "                df_temporal[f'{col}_dayofweek'] = df_temporal[col].dt.dayofweek\n",
    "                df_temporal[f'{col}_is_weekend'] = (df_temporal[col].dt.dayofweek >= 5).astype(int)\n",
    "                \n",
    "                self.log_feature(f\"Extracted temporal features from {col}\")\n",
    "                \n",
    "            except Exception as e:\n",
    "                self.log_feature(f\"Could not parse {col} as date: {e}\")\n",
    "        \n",
    "        # Create recency features\n",
    "        if 'tenure_days' in df.columns:\n",
    "            df_temporal['tenure_months'] = df_temporal['tenure_days'] / 30\n",
    "            df_temporal['tenure_years'] = df_temporal['tenure_days'] / 365\n",
    "            self.log_feature(\"Created tenure-based features\")\n",
    "        \n",
    "        return df_temporal\n",
    "    \n",
    "    def create_aggregation_features(self, adoption_df, customers_df, products_df):\n",
    "        \"\"\"Create customer and product level aggregations\"\"\"\n",
    "        self.log_feature(\"Creating aggregation features\")\n",
    "        \n",
    "        # Customer-level aggregations\n",
    "        customer_aggs = adoption_df.groupby('user_id').agg({\n",
    "            'adopted': ['mean', 'sum', 'count'],\n",
    "            'tenure_days': ['mean', 'max'],\n",
    "            'monetary_volume': ['mean', 'sum', 'std'],\n",
    "            'activity_intensity': ['mean', 'max']\n",
    "        }).round(3)\n",
    "        \n",
    "        # Flatten column names\n",
    "        customer_aggs.columns = ['_'.join(col) for col in customer_aggs.columns]\n",
    "        customer_aggs = customer_aggs.add_prefix('customer_')\n",
    "        customer_aggs.reset_index(inplace=True)\n",
    "        \n",
    "        # Product-level aggregations\n",
    "        product_aggs = adoption_df.groupby('product_id').agg({\n",
    "            'adopted': ['mean', 'sum', 'count'],\n",
    "            'monetary_volume': ['mean', 'sum'],\n",
    "            'utilisation_ratio': ['mean', 'std']\n",
    "        }).round(3)\n",
    "        \n",
    "        product_aggs.columns = ['_'.join(col) for col in product_aggs.columns]\n",
    "        product_aggs = product_aggs.add_prefix('product_')\n",
    "        product_aggs.reset_index(inplace=True)\n",
    "        \n",
    "        self.log_feature(f\"Created customer aggregations: {customer_aggs.shape}\")\n",
    "        self.log_feature(f\"Created product aggregations: {product_aggs.shape}\")\n",
    "        \n",
    "        return customer_aggs, product_aggs\n",
    "    \n",
    "    def create_business_logic_features(self, df):\n",
    "        \"\"\"Create features based on business logic\"\"\"\n",
    "        self.log_feature(\"Creating business logic features\")\n",
    "        \n",
    "        df_business = df.copy()\n",
    "        \n",
    "        # Financial stability indicators\n",
    "        if 'avg_balance' in df.columns and 'monthly_salary' in df.columns:\n",
    "            df_business['financial_stability'] = df_business['avg_balance'] / (df_business['monthly_salary'] + 1)\n",
    "            self.log_feature(\"Created financial_stability ratio\")\n",
    "        \n",
    "        # Digital engagement score\n",
    "        digital_cols = ['mobile_login_freq', 'ecom_pos_ratio', 'offer_ctr']\n",
    "        available_digital = [col for col in digital_cols if col in df.columns]\n",
    "        \n",
    "        if available_digital:\n",
    "            df_business['digital_engagement_score'] = df_business[available_digital].mean(axis=1)\n",
    "            self.log_feature(\"Created digital_engagement_score\")\n",
    "        \n",
    "        # Risk-adjusted value\n",
    "        if 'clv_score' in df.columns and 'churn_risk' in df.columns:\n",
    "            df_business['risk_adjusted_value'] = df_business['clv_score'] * (1 - df_business['churn_risk'])\n",
    "            self.log_feature(\"Created risk_adjusted_value\")\n",
    "        \n",
    "        # Product portfolio diversity\n",
    "        if 'products' in df.columns:\n",
    "            # Assuming products is a string representation of list\n",
    "            try:\n",
    "                df_business['portfolio_diversity'] = df_business['products'].apply(\n",
    "                    lambda x: len(str(x).split(',')) if pd.notna(x) else 0\n",
    "                )\n",
    "                self.log_feature(\"Created portfolio_diversity\")\n",
    "            except:\n",
    "                self.log_feature(\"Could not create portfolio_diversity\")\n",
    "        \n",
    "        return df_business\n",
    "\n",
    "# Initialize feature engineer\n",
    "feature_engineer = FeatureEngineer()\n",
    "print(\"🔨 Feature Engineer initialized\")"
   ]
  },
  {
   "cell_type": "markdown",
   "id": "2f1eea32",
   "metadata": {},
   "source": [
    "### 8.2 Execute Preprocessing Pipeline\n",
    "\n",
    "Now let's apply our preprocessing pipeline to the actual datasets."
   ]
  },
  {
   "cell_type": "code",
   "execution_count": 17,
   "id": "e6eb9c48",
   "metadata": {},
   "outputs": [
    {
     "name": "stdout",
     "output_type": "stream",
     "text": [
      "🚀 STARTING DATA PREPROCESSING PIPELINE\n",
      "============================================================\n",
      "\n",
      "📦 PREPROCESSING PRODUCTS DATASET\n",
      "----------------------------------------\n",
      "✓ Starting missing value treatment\n",
      "✓ No duplicates found\n",
      "🔨 Creating business logic features\n",
      "🔨 Creating temporal features\n",
      "🔨 Extracted temporal features from offer_dates\n",
      "✓ Starting categorical encoding\n",
      "✓ Frequency encoded product_id (high cardinality: 1000)\n",
      "✓ One-hot encoded category (10 categories)\n",
      "✓ One-hot encoded tier (5 categories)\n",
      "✓ One-hot encoded reward_type (5 categories)\n",
      "✓ One-hot encoded eligibility (13 categories)\n",
      "✓ One-hot encoded compliance_tag (5 categories)\n",
      "✓ Frequency encoded channels (high cardinality: 273)\n",
      "✓ Frequency encoded target_segments (high cardinality: 277)\n",
      "🔨 Extracted temporal features from offer_dates\n",
      "✓ Starting categorical encoding\n",
      "✓ Frequency encoded product_id (high cardinality: 1000)\n",
      "✓ One-hot encoded category (10 categories)\n",
      "✓ One-hot encoded tier (5 categories)\n",
      "✓ One-hot encoded reward_type (5 categories)\n",
      "✓ One-hot encoded eligibility (13 categories)\n",
      "✓ One-hot encoded compliance_tag (5 categories)\n",
      "✓ Frequency encoded channels (high cardinality: 273)\n",
      "✓ Frequency encoded target_segments (high cardinality: 277)\n",
      "✓ One-hot encoded geo_applic (6 categories)\n",
      "✓ One-hot encoded merchant_industry (8 categories)\n",
      "✓ Frequency encoded valid_window (high cardinality: 92)\n",
      "✓ One-hot encoded popularity_trend (3 categories)\n",
      "✓ Starting feature scaling (standard)\n",
      "✓ Scaled 22 numeric features\n",
      "\n",
      "✅ Products preprocessing complete: (1000, 26) → (1000, 70)\n",
      "\n",
      "📈 PREPROCESSING ADOPTION LOGS DATASET\n",
      "----------------------------------------\n",
      "✓ Starting missing value treatment\n",
      "✓ One-hot encoded geo_applic (6 categories)\n",
      "✓ One-hot encoded merchant_industry (8 categories)\n",
      "✓ Frequency encoded valid_window (high cardinality: 92)\n",
      "✓ One-hot encoded popularity_trend (3 categories)\n",
      "✓ Starting feature scaling (standard)\n",
      "✓ Scaled 22 numeric features\n",
      "\n",
      "✅ Products preprocessing complete: (1000, 26) → (1000, 70)\n",
      "\n",
      "📈 PREPROCESSING ADOPTION LOGS DATASET\n",
      "----------------------------------------\n",
      "✓ Starting missing value treatment\n",
      "✓ No duplicates found\n",
      "🔨 Creating temporal features\n",
      "🔨 Created tenure-based features\n",
      "🔨 Creating business logic features\n",
      "✓ Starting categorical encoding\n",
      "✓ No duplicates found\n",
      "🔨 Creating temporal features\n",
      "🔨 Created tenure-based features\n",
      "🔨 Creating business logic features\n",
      "✓ Starting categorical encoding\n",
      "✓ Frequency encoded user_id (high cardinality: 100000)\n",
      "✓ Frequency encoded product_id (high cardinality: 1000)\n",
      "✓ Frequency encoded user_id (high cardinality: 100000)\n",
      "✓ Frequency encoded product_id (high cardinality: 1000)\n",
      "✓ Starting feature scaling (standard)\n",
      "✓ Starting feature scaling (standard)\n",
      "✓ Scaled 10 numeric features\n",
      "\n",
      "✅ Adoption logs preprocessing complete: (949650, 10) → (949650, 12)\n",
      "\n",
      "⚠️ Customers dataset too large or not available - skipping detailed preprocessing\n",
      "\n",
      "============================================================\n",
      "🎉 PREPROCESSING PIPELINE COMPLETED!\n",
      "============================================================\n",
      "✓ Scaled 10 numeric features\n",
      "\n",
      "✅ Adoption logs preprocessing complete: (949650, 10) → (949650, 12)\n",
      "\n",
      "⚠️ Customers dataset too large or not available - skipping detailed preprocessing\n",
      "\n",
      "============================================================\n",
      "🎉 PREPROCESSING PIPELINE COMPLETED!\n",
      "============================================================\n"
     ]
    }
   ],
   "source": [
    "# Execute preprocessing pipeline\n",
    "print(\"🚀 STARTING DATA PREPROCESSING PIPELINE\")\n",
    "print(\"=\" * 60)\n",
    "\n",
    "# Store original datasets for comparison\n",
    "original_shapes = {}\n",
    "processed_datasets = {}\n",
    "\n",
    "# Process Products Dataset\n",
    "if 'products' in locals():\n",
    "    print(\"\\n📦 PREPROCESSING PRODUCTS DATASET\")\n",
    "    print(\"-\" * 40)\n",
    "    \n",
    "    original_shapes['products'] = products.shape\n",
    "    \n",
    "    # Step 1: Handle missing values\n",
    "    products_clean = preprocessor.handle_missing_values(products)\n",
    "    \n",
    "    # Step 2: Remove duplicates\n",
    "    products_clean = preprocessor.remove_duplicates(products_clean)\n",
    "    \n",
    "    # Step 3: Feature engineering\n",
    "    products_engineered = feature_engineer.create_business_logic_features(products_clean)\n",
    "    products_engineered = feature_engineer.create_temporal_features(products_engineered)\n",
    "    \n",
    "    # Step 4: Encode categorical features\n",
    "    products_encoded = preprocessor.encode_categorical_features(products_engineered)\n",
    "    \n",
    "    # Step 5: Scale numeric features\n",
    "    products_final = preprocessor.scale_numeric_features(products_encoded)\n",
    "    \n",
    "    processed_datasets['products'] = products_final\n",
    "    print(f\"\\n✅ Products preprocessing complete: {original_shapes['products']} → {products_final.shape}\")\n",
    "\n",
    "# Process Adoption Logs Dataset\n",
    "if 'adoption_logs' in locals():\n",
    "    print(\"\\n📈 PREPROCESSING ADOPTION LOGS DATASET\")\n",
    "    print(\"-\" * 40)\n",
    "    \n",
    "    original_shapes['adoption_logs'] = adoption_logs.shape\n",
    "    \n",
    "    # Step 1: Handle missing values\n",
    "    adoption_clean = preprocessor.handle_missing_values(adoption_logs)\n",
    "    \n",
    "    # Step 2: Remove duplicates\n",
    "    adoption_clean = preprocessor.remove_duplicates(adoption_clean)\n",
    "    \n",
    "    # Step 3: Feature engineering\n",
    "    adoption_engineered = feature_engineer.create_temporal_features(adoption_clean)\n",
    "    adoption_engineered = feature_engineer.create_business_logic_features(adoption_engineered)\n",
    "    \n",
    "    # Step 4: Encode categorical features (preserve target variable)\n",
    "    target_col = 'adopted' if 'adopted' in adoption_engineered.columns else None\n",
    "    if target_col:\n",
    "        target_values = adoption_engineered[target_col].copy()\n",
    "        adoption_features = adoption_engineered.drop(columns=[target_col])\n",
    "        adoption_encoded = preprocessor.encode_categorical_features(adoption_features)\n",
    "        adoption_encoded[target_col] = target_values\n",
    "    else:\n",
    "        adoption_encoded = preprocessor.encode_categorical_features(adoption_engineered)\n",
    "    \n",
    "    # Step 5: Scale numeric features (except target)\n",
    "    if target_col:\n",
    "        target_values = adoption_encoded[target_col].copy()\n",
    "        adoption_features = adoption_encoded.drop(columns=[target_col])\n",
    "        adoption_scaled = preprocessor.scale_numeric_features(adoption_features)\n",
    "        adoption_scaled[target_col] = target_values\n",
    "        adoption_final = adoption_scaled\n",
    "    else:\n",
    "        adoption_final = preprocessor.scale_numeric_features(adoption_encoded)\n",
    "    \n",
    "    processed_datasets['adoption_logs'] = adoption_final\n",
    "    print(f\"\\n✅ Adoption logs preprocessing complete: {original_shapes['adoption_logs']} → {adoption_final.shape}\")\n",
    "\n",
    "# Process Customers Dataset (if available and not too large)\n",
    "if 'customers' in locals() and len(customers) <= 50000:\n",
    "    print(\"\\n👥 PREPROCESSING CUSTOMERS DATASET\")\n",
    "    print(\"-\" * 40)\n",
    "    \n",
    "    original_shapes['customers'] = customers.shape\n",
    "    \n",
    "    # Use sample for large datasets\n",
    "    if len(customers) > 10000:\n",
    "        customers_sample = customers.sample(n=10000, random_state=42)\n",
    "        preprocessor.log_step(f\"Using sample of {len(customers_sample)} customers\")\n",
    "    else:\n",
    "        customers_sample = customers.copy()\n",
    "    \n",
    "    # Step 1: Handle missing values\n",
    "    customers_clean = preprocessor.handle_missing_values(customers_sample)\n",
    "    \n",
    "    # Step 2: Remove duplicates\n",
    "    customers_clean = preprocessor.remove_duplicates(customers_clean)\n",
    "    \n",
    "    # Step 3: Feature engineering\n",
    "    customers_engineered = feature_engineer.create_business_logic_features(customers_clean)\n",
    "    customers_engineered = feature_engineer.create_temporal_features(customers_engineered)\n",
    "    \n",
    "    # Step 4: Encode categorical features\n",
    "    customers_encoded = preprocessor.encode_categorical_features(customers_engineered)\n",
    "    \n",
    "    # Step 5: Scale numeric features\n",
    "    customers_final = preprocessor.scale_numeric_features(customers_encoded)\n",
    "    \n",
    "    processed_datasets['customers'] = customers_final\n",
    "    print(f\"\\n✅ Customers preprocessing complete: {customers_sample.shape} → {customers_final.shape}\")\n",
    "\n",
    "else:\n",
    "    print(\"\\n⚠️ Customers dataset too large or not available - skipping detailed preprocessing\")\n",
    "\n",
    "print(\"\\n\" + \"=\" * 60)\n",
    "print(\"🎉 PREPROCESSING PIPELINE COMPLETED!\")\n",
    "print(\"=\" * 60)"
   ]
  },
  {
   "cell_type": "markdown",
   "id": "afa9c084",
   "metadata": {},
   "source": [
    "### 8.3 Preprocessing Results Analysis\n",
    "\n",
    "Analyze the impact of our preprocessing pipeline."
   ]
  },
  {
   "cell_type": "code",
   "execution_count": 18,
   "id": "137620b9",
   "metadata": {},
   "outputs": [
    {
     "name": "stdout",
     "output_type": "stream",
     "text": [
      "📊 PREPROCESSING RESULTS ANALYSIS\n",
      "==================================================\n",
      "\n",
      "📏 Dataset Shape Changes:\n",
      "  products:\n",
      "    Before: 1,000 rows × 26 columns\n",
      "    After:  1,000 rows × 70 columns\n",
      "    Change: +0 rows, +44 columns\n",
      "\n",
      "  adoption_logs:\n",
      "    Before: 949,650 rows × 10 columns\n",
      "    After:  949,650 rows × 12 columns\n",
      "    Change: +0 rows, +2 columns\n",
      "\n",
      "\n",
      "🔨 Feature Engineering Summary:\n",
      "  [17:08:39] Creating business logic features\n",
      "  [17:08:39] Creating temporal features\n",
      "  [17:08:39] Extracted temporal features from offer_dates\n",
      "  [17:08:40] Creating temporal features\n",
      "  [17:08:40] Created tenure-based features\n",
      "  [17:08:40] Creating business logic features\n",
      "\n",
      "🔧 Preprocessing Steps Summary:\n",
      "  [17:08:39] Starting missing value treatment\n",
      "  [17:08:39] No duplicates found\n",
      "  [17:08:39] Starting categorical encoding\n",
      "  [17:08:39] Frequency encoded product_id (high cardinality: 1000)\n",
      "  [17:08:39] One-hot encoded category (10 categories)\n",
      "  [17:08:39] One-hot encoded tier (5 categories)\n",
      "  [17:08:39] One-hot encoded reward_type (5 categories)\n",
      "  [17:08:39] One-hot encoded eligibility (13 categories)\n",
      "  [17:08:39] One-hot encoded compliance_tag (5 categories)\n",
      "  [17:08:39] Frequency encoded channels (high cardinality: 273)\n",
      "  [17:08:39] Frequency encoded target_segments (high cardinality: 277)\n",
      "  [17:08:39] One-hot encoded geo_applic (6 categories)\n",
      "  [17:08:39] One-hot encoded merchant_industry (8 categories)\n",
      "  [17:08:39] Frequency encoded valid_window (high cardinality: 92)\n",
      "  [17:08:39] One-hot encoded popularity_trend (3 categories)\n",
      "  [17:08:39] Starting feature scaling (standard)\n",
      "  [17:08:39] Scaled 22 numeric features\n",
      "  [17:08:39] Starting missing value treatment\n",
      "  [17:08:40] No duplicates found\n",
      "  [17:08:40] Starting categorical encoding\n",
      "  [17:08:41] Frequency encoded user_id (high cardinality: 100000)\n",
      "  [17:08:41] Frequency encoded product_id (high cardinality: 1000)\n",
      "  [17:08:41] Starting feature scaling (standard)\n",
      "  [17:08:41] Scaled 10 numeric features\n",
      "\n",
      "🔍 Post-Processing Data Quality:\n",
      "  products:\n",
      "    Missing values: 5000\n",
      "    Duplicates: 0\n",
      "    Data types: {dtype('bool'): 47, dtype('float64'): 22, dtype('<M8[ns]'): 1}\n",
      "\n",
      "  adoption_logs:\n",
      "    Missing values: 0\n",
      "    Duplicates: 0\n",
      "    Data types: {dtype('float64'): 10, dtype('bool'): 2}\n",
      "\n",
      "\n",
      "💾 Memory Usage Analysis:\n",
      "  products:\n",
      "    Before: 1.06 MB\n",
      "    After:  0.22 MB\n",
      "    Change: -0.84 MB\n",
      "\n",
      "  adoption_logs:\n",
      "    Before: 213.74 MB\n",
      "    After:  74.26 MB\n",
      "    Change: -139.47 MB\n",
      "\n",
      "  adoption_logs:\n",
      "    Missing values: 0\n",
      "    Duplicates: 0\n",
      "    Data types: {dtype('float64'): 10, dtype('bool'): 2}\n",
      "\n",
      "\n",
      "💾 Memory Usage Analysis:\n",
      "  products:\n",
      "    Before: 1.06 MB\n",
      "    After:  0.22 MB\n",
      "    Change: -0.84 MB\n",
      "\n",
      "  adoption_logs:\n",
      "    Before: 213.74 MB\n",
      "    After:  74.26 MB\n",
      "    Change: -139.47 MB\n",
      "\n"
     ]
    }
   ],
   "source": [
    "# Analyze preprocessing results\n",
    "print(\"📊 PREPROCESSING RESULTS ANALYSIS\")\n",
    "print(\"=\" * 50)\n",
    "\n",
    "# Compare before and after shapes\n",
    "print(\"\\n📏 Dataset Shape Changes:\")\n",
    "for dataset_name, original_shape in original_shapes.items():\n",
    "    if dataset_name in processed_datasets:\n",
    "        new_shape = processed_datasets[dataset_name].shape\n",
    "        print(f\"  {dataset_name}:\")\n",
    "        print(f\"    Before: {original_shape[0]:,} rows × {original_shape[1]} columns\")\n",
    "        print(f\"    After:  {new_shape[0]:,} rows × {new_shape[1]} columns\")\n",
    "        print(f\"    Change: {new_shape[0]-original_shape[0]:+,} rows, {new_shape[1]-original_shape[1]:+} columns\")\n",
    "        print()\n",
    "\n",
    "# Feature engineering summary\n",
    "print(\"\\n🔨 Feature Engineering Summary:\")\n",
    "for log_entry in feature_engineer.feature_log:\n",
    "    print(f\"  {log_entry}\")\n",
    "\n",
    "# Preprocessing steps summary\n",
    "print(\"\\n🔧 Preprocessing Steps Summary:\")\n",
    "for log_entry in preprocessor.preprocessing_log:\n",
    "    print(f\"  {log_entry}\")\n",
    "\n",
    "# Check data quality after preprocessing\n",
    "print(\"\\n🔍 Post-Processing Data Quality:\")\n",
    "for dataset_name, df in processed_datasets.items():\n",
    "    missing_count = df.isnull().sum().sum()\n",
    "    duplicate_count = df.duplicated().sum()\n",
    "    \n",
    "    print(f\"  {dataset_name}:\")\n",
    "    print(f\"    Missing values: {missing_count}\")\n",
    "    print(f\"    Duplicates: {duplicate_count}\")\n",
    "    print(f\"    Data types: {df.dtypes.value_counts().to_dict()}\")\n",
    "    print()\n",
    "\n",
    "# Memory usage comparison\n",
    "print(\"\\n💾 Memory Usage Analysis:\")\n",
    "for dataset_name in original_shapes.keys():\n",
    "    if dataset_name in processed_datasets:\n",
    "        if dataset_name == 'products' and 'products' in locals():\n",
    "            original_memory = products.memory_usage(deep=True).sum() / 1024**2\n",
    "        elif dataset_name == 'adoption_logs' and 'adoption_logs' in locals():\n",
    "            original_memory = adoption_logs.memory_usage(deep=True).sum() / 1024**2\n",
    "        elif dataset_name == 'customers' and 'customers' in locals():\n",
    "            original_memory = customers.memory_usage(deep=True).sum() / 1024**2\n",
    "        else:\n",
    "            continue\n",
    "            \n",
    "        new_memory = processed_datasets[dataset_name].memory_usage(deep=True).sum() / 1024**2\n",
    "        \n",
    "        print(f\"  {dataset_name}:\")\n",
    "        print(f\"    Before: {original_memory:.2f} MB\")\n",
    "        print(f\"    After:  {new_memory:.2f} MB\")\n",
    "        print(f\"    Change: {new_memory-original_memory:+.2f} MB\")\n",
    "        print()"
   ]
  },
  {
   "cell_type": "markdown",
   "id": "cd54c618",
   "metadata": {},
   "source": [
    "### 8.4 Feature Importance & Selection\n",
    "\n",
    "Analyze feature importance and prepare for modeling."
   ]
  },
  {
   "cell_type": "code",
   "execution_count": 19,
   "id": "c06a216f",
   "metadata": {},
   "outputs": [
    {
     "name": "stdout",
     "output_type": "stream",
     "text": [
      "🎯 FEATURE ANALYSIS FOR MODELING\n",
      "==================================================\n",
      "\n",
      "📊 Feature Analysis Dataset:\n",
      "  Features: 10\n",
      "  Samples: 949,650\n",
      "  Target distribution: {False: 711603, True: 238047}\n",
      "\n",
      "🌲 Random Forest Feature Importance:\n",
      "\n",
      "📊 Feature Analysis Dataset:\n",
      "  Features: 10\n",
      "  Samples: 949,650\n",
      "  Target distribution: {False: 711603, True: 238047}\n",
      "\n",
      "🌲 Random Forest Feature Importance:\n",
      "  ❌ Could not compute RF importance: could not allocate 33554432 bytes\n",
      "\n",
      "🔗 Mutual Information Analysis:\n",
      "  ❌ Could not compute RF importance: could not allocate 33554432 bytes\n",
      "\n",
      "🔗 Mutual Information Analysis:\n",
      "\n",
      "  Top 10 Features by Mutual Information:\n",
      "    user_id_frequency: 0.0435\n",
      "    activity_intensity: 0.0060\n",
      "    product_id_frequency: 0.0030\n",
      "    recency_days: 0.0007\n",
      "    tenure_years: 0.0005\n",
      "    tenure_days: 0.0002\n",
      "    reward_redemption_rate: 0.0000\n",
      "    monetary_volume: 0.0000\n",
      "    utilisation_ratio: 0.0000\n",
      "    tenure_months: 0.0000\n",
      "\n",
      "📈 Correlation with Target:\n",
      "\n",
      "  Top 10 Features by Correlation:\n",
      "    utilisation_ratio: 0.0020\n",
      "    recency_days: 0.0017\n",
      "    activity_intensity: 0.0016\n",
      "    monetary_volume: 0.0015\n",
      "    user_id_frequency: 0.0009\n",
      "    tenure_months: 0.0009\n",
      "    tenure_years: 0.0009\n",
      "    tenure_days: 0.0009\n",
      "    reward_redemption_rate: 0.0003\n",
      "    product_id_frequency: 0.0002\n",
      "\n",
      "🎯 Feature Selection Recommendations:\n",
      "  • High mutual information features: 1\n",
      "  • High correlation features: 0\n",
      "\n",
      "  Top 10 Features by Mutual Information:\n",
      "    user_id_frequency: 0.0435\n",
      "    activity_intensity: 0.0060\n",
      "    product_id_frequency: 0.0030\n",
      "    recency_days: 0.0007\n",
      "    tenure_years: 0.0005\n",
      "    tenure_days: 0.0002\n",
      "    reward_redemption_rate: 0.0000\n",
      "    monetary_volume: 0.0000\n",
      "    utilisation_ratio: 0.0000\n",
      "    tenure_months: 0.0000\n",
      "\n",
      "📈 Correlation with Target:\n",
      "\n",
      "  Top 10 Features by Correlation:\n",
      "    utilisation_ratio: 0.0020\n",
      "    recency_days: 0.0017\n",
      "    activity_intensity: 0.0016\n",
      "    monetary_volume: 0.0015\n",
      "    user_id_frequency: 0.0009\n",
      "    tenure_months: 0.0009\n",
      "    tenure_years: 0.0009\n",
      "    tenure_days: 0.0009\n",
      "    reward_redemption_rate: 0.0003\n",
      "    product_id_frequency: 0.0002\n",
      "\n",
      "🎯 Feature Selection Recommendations:\n",
      "  • High mutual information features: 1\n",
      "  • High correlation features: 0\n"
     ]
    }
   ],
   "source": [
    "# Feature Analysis for Modeling\n",
    "from sklearn.ensemble import RandomForestClassifier\n",
    "from sklearn.feature_selection import mutual_info_classif\n",
    "from sklearn.decomposition import PCA\n",
    "\n",
    "print(\"🎯 FEATURE ANALYSIS FOR MODELING\")\n",
    "print(\"=\" * 50)\n",
    "\n",
    "# Prepare data for feature analysis\n",
    "if 'adoption_logs' in processed_datasets and 'adopted' in processed_datasets['adoption_logs'].columns:\n",
    "    analysis_df = processed_datasets['adoption_logs'].copy()\n",
    "    \n",
    "    # Separate features and target\n",
    "    target_col = 'adopted'\n",
    "    X = analysis_df.drop(columns=[target_col])\n",
    "    y = analysis_df[target_col]\n",
    "    \n",
    "    # Remove any remaining non-numeric columns\n",
    "    numeric_features = X.select_dtypes(include=[np.number]).columns.tolist()\n",
    "    X_numeric = X[numeric_features]\n",
    "    \n",
    "    print(f\"\\n📊 Feature Analysis Dataset:\")\n",
    "    print(f\"  Features: {X_numeric.shape[1]}\")\n",
    "    print(f\"  Samples: {X_numeric.shape[0]:,}\")\n",
    "    print(f\"  Target distribution: {y.value_counts().to_dict()}\")\n",
    "    \n",
    "    if len(X_numeric.columns) > 0 and len(X_numeric) > 100:\n",
    "        # 1. Random Forest Feature Importance\n",
    "        print(\"\\n🌲 Random Forest Feature Importance:\")\n",
    "        try:\n",
    "            rf = RandomForestClassifier(n_estimators=100, random_state=42, n_jobs=-1)\n",
    "            rf.fit(X_numeric.fillna(0), y)\n",
    "            \n",
    "            feature_importance = pd.DataFrame({\n",
    "                'feature': X_numeric.columns,\n",
    "                'importance': rf.feature_importances_\n",
    "            }).sort_values('importance', ascending=False)\n",
    "            \n",
    "            print(\"\\n  Top 10 Most Important Features:\")\n",
    "            for i, row in feature_importance.head(10).iterrows():\n",
    "                print(f\"    {row['feature']}: {row['importance']:.4f}\")\n",
    "            \n",
    "            # Visualize feature importance\n",
    "            plt.figure(figsize=(10, 6))\n",
    "            sns.barplot(data=feature_importance.head(15), x='importance', y='feature')\n",
    "            plt.title('Top 15 Feature Importances (Random Forest)')\n",
    "            plt.tight_layout()\n",
    "            plt.show()\n",
    "            \n",
    "        except Exception as e:\n",
    "            print(f\"  ❌ Could not compute RF importance: {e}\")\n",
    "        \n",
    "        # 2. Mutual Information\n",
    "        print(\"\\n🔗 Mutual Information Analysis:\")\n",
    "        try:\n",
    "            mi_scores = mutual_info_classif(X_numeric.fillna(0), y, random_state=42)\n",
    "            mi_df = pd.DataFrame({\n",
    "                'feature': X_numeric.columns,\n",
    "                'mutual_info': mi_scores\n",
    "            }).sort_values('mutual_info', ascending=False)\n",
    "            \n",
    "            print(\"\\n  Top 10 Features by Mutual Information:\")\n",
    "            for i, row in mi_df.head(10).iterrows():\n",
    "                print(f\"    {row['feature']}: {row['mutual_info']:.4f}\")\n",
    "                \n",
    "        except Exception as e:\n",
    "            print(f\"  ❌ Could not compute mutual information: {e}\")\n",
    "        \n",
    "        # 3. Correlation with target\n",
    "        print(\"\\n📈 Correlation with Target:\")\n",
    "        try:\n",
    "            correlations = X_numeric.corrwith(y).abs().sort_values(ascending=False)\n",
    "            \n",
    "            print(\"\\n  Top 10 Features by Correlation:\")\n",
    "            for feature, corr in correlations.head(10).items():\n",
    "                print(f\"    {feature}: {corr:.4f}\")\n",
    "                \n",
    "        except Exception as e:\n",
    "            print(f\"  ❌ Could not compute correlations: {e}\")\n",
    "        \n",
    "        # 4. Feature Selection Recommendations\n",
    "        print(\"\\n🎯 Feature Selection Recommendations:\")\n",
    "        \n",
    "        # High importance features\n",
    "        if 'feature_importance' in locals():\n",
    "            high_importance_features = feature_importance[feature_importance['importance'] > 0.01]['feature'].tolist()\n",
    "            print(f\"  • High RF importance features: {len(high_importance_features)}\")\n",
    "        \n",
    "        # High mutual information features\n",
    "        if 'mi_df' in locals():\n",
    "            high_mi_features = mi_df[mi_df['mutual_info'] > 0.01]['feature'].tolist()\n",
    "            print(f\"  • High mutual information features: {len(high_mi_features)}\")\n",
    "        \n",
    "        # High correlation features\n",
    "        if 'correlations' in locals():\n",
    "            high_corr_features = correlations[correlations > 0.1].index.tolist()\n",
    "            print(f\"  • High correlation features: {len(high_corr_features)}\")\n",
    "        \n",
    "        # Combined feature selection\n",
    "        if all(x in locals() for x in ['high_importance_features', 'high_mi_features', 'high_corr_features']):\n",
    "            selected_features = list(set(high_importance_features + high_mi_features + high_corr_features))\n",
    "            print(f\"  • Recommended features for modeling: {len(selected_features)}\")\n",
    "            print(f\"  • Feature reduction: {len(X_numeric.columns)} → {len(selected_features)} ({len(selected_features)/len(X_numeric.columns)*100:.1f}%)\")\n",
    "            \n",
    "            # Store selected features\n",
    "            with open('selected_features.txt', 'w') as f:\n",
    "                f.write('\\n'.join(selected_features))\n",
    "            print(\"  • Selected features saved to 'selected_features.txt'\")\n",
    "    \n",
    "    else:\n",
    "        print(\"\\n⚠️ Insufficient data for feature analysis\")\n",
    "\n",
    "else:\n",
    "    print(\"\\n⚠️ Target variable not available for feature analysis\")"
   ]
  },
  {
   "cell_type": "markdown",
   "id": "a1c4a4f2",
   "metadata": {},
   "source": [
    "### 8.5 Preprocessing Summary & Next Steps\n",
    "\n",
    "Final summary of preprocessing results and recommendations for modeling."
   ]
  },
  {
   "cell_type": "code",
   "execution_count": 20,
   "id": "3b1a265a",
   "metadata": {},
   "outputs": [
    {
     "name": "stdout",
     "output_type": "stream",
     "text": [
      "📋 FINAL PREPROCESSING SUMMARY\n",
      "============================================================\n",
      "\n",
      "🎯 Key Achievements:\n",
      "\n",
      "  📊 PRODUCTS:\n",
      "    ✓ Shape: (1000, 26) → (1000, 70)\n",
      "    ✓ Missing values: 5000\n",
      "    ✓ Duplicates: 0\n",
      "    ✓ Features: 70 (22 numeric, 0 categorical)\n",
      "\n",
      "  📊 ADOPTION_LOGS:\n",
      "    ✓ Shape: (949650, 10) → (949650, 12)\n",
      "    ✓ Missing values: 0\n",
      "    ✓ Duplicates: 0\n",
      "    ✓ Features: 12 (10 numeric, 0 categorical)\n",
      "\n",
      "🚀 Recommendations for Modeling:\n",
      "  1. Data is now ready for machine learning modeling\n",
      "  2. Consider ensemble methods due to feature diversity\n",
      "  3. Use stratified sampling due to potential class imbalance\n",
      "  4. Implement time-based cross-validation for robust evaluation\n",
      "  5. Monitor for data drift in production deployment\n",
      "\n",
      "💾 Saving Processed Datasets:\n",
      "  ✓ Saved data/processed_products.csv (1,000 × 70)\n",
      "\n",
      "🎯 Key Achievements:\n",
      "\n",
      "  📊 PRODUCTS:\n",
      "    ✓ Shape: (1000, 26) → (1000, 70)\n",
      "    ✓ Missing values: 5000\n",
      "    ✓ Duplicates: 0\n",
      "    ✓ Features: 70 (22 numeric, 0 categorical)\n",
      "\n",
      "  📊 ADOPTION_LOGS:\n",
      "    ✓ Shape: (949650, 10) → (949650, 12)\n",
      "    ✓ Missing values: 0\n",
      "    ✓ Duplicates: 0\n",
      "    ✓ Features: 12 (10 numeric, 0 categorical)\n",
      "\n",
      "🚀 Recommendations for Modeling:\n",
      "  1. Data is now ready for machine learning modeling\n",
      "  2. Consider ensemble methods due to feature diversity\n",
      "  3. Use stratified sampling due to potential class imbalance\n",
      "  4. Implement time-based cross-validation for robust evaluation\n",
      "  5. Monitor for data drift in production deployment\n",
      "\n",
      "💾 Saving Processed Datasets:\n",
      "  ✓ Saved data/processed_products.csv (1,000 × 70)\n",
      "  ✓ Saved data/processed_adoption_logs.csv (949,650 × 12)\n",
      "\n",
      "📁 Preprocessing summary saved to 'preprocessing_summary.json'\n",
      "\n",
      "============================================================\n",
      "🎉 DATA PREPROCESSING COMPLETE!\n",
      "✅ Ready for model development and training\n",
      "============================================================\n",
      "  ✓ Saved data/processed_adoption_logs.csv (949,650 × 12)\n",
      "\n",
      "📁 Preprocessing summary saved to 'preprocessing_summary.json'\n",
      "\n",
      "============================================================\n",
      "🎉 DATA PREPROCESSING COMPLETE!\n",
      "✅ Ready for model development and training\n",
      "============================================================\n"
     ]
    }
   ],
   "source": [
    "# Final Preprocessing Summary\n",
    "import json\n",
    "from datetime import datetime\n",
    "\n",
    "print(\"📋 FINAL PREPROCESSING SUMMARY\")\n",
    "print(\"=\" * 60)\n",
    "\n",
    "# Create comprehensive summary\n",
    "preprocessing_summary = {\n",
    "    'preprocessing_date': datetime.now().isoformat(),\n",
    "    'datasets_processed': list(processed_datasets.keys()),\n",
    "    'original_shapes': original_shapes,\n",
    "    'processed_shapes': {name: df.shape for name, df in processed_datasets.items()},\n",
    "    'preprocessing_steps': preprocessor.preprocessing_log,\n",
    "    'feature_engineering_steps': feature_engineer.feature_log,\n",
    "    'data_quality_metrics': {},\n",
    "    'recommendations': []\n",
    "}\n",
    "\n",
    "# Calculate data quality metrics\n",
    "for dataset_name, df in processed_datasets.items():\n",
    "    preprocessing_summary['data_quality_metrics'][dataset_name] = {\n",
    "        'missing_values': int(df.isnull().sum().sum()),\n",
    "        'duplicates': int(df.duplicated().sum()),\n",
    "        'numeric_features': len(df.select_dtypes(include=[np.number]).columns),\n",
    "        'categorical_features': len(df.select_dtypes(include=['object']).columns),\n",
    "        'total_features': len(df.columns)\n",
    "    }\n",
    "\n",
    "# Generate recommendations\n",
    "recommendations = [\n",
    "    \"Data is now ready for machine learning modeling\",\n",
    "    \"Consider ensemble methods due to feature diversity\",\n",
    "    \"Use stratified sampling due to potential class imbalance\",\n",
    "    \"Implement time-based cross-validation for robust evaluation\",\n",
    "    \"Monitor for data drift in production deployment\"\n",
    "]\n",
    "\n",
    "if 'selected_features' in locals():\n",
    "    recommendations.append(f\"Use the {len(selected_features)} selected high-importance features\")\n",
    "\n",
    "preprocessing_summary['recommendations'] = recommendations\n",
    "\n",
    "# Display summary\n",
    "print(\"\\n🎯 Key Achievements:\")\n",
    "for dataset_name in processed_datasets.keys():\n",
    "    metrics = preprocessing_summary['data_quality_metrics'][dataset_name]\n",
    "    original_shape = original_shapes[dataset_name]\n",
    "    new_shape = processed_datasets[dataset_name].shape\n",
    "    \n",
    "    print(f\"\\n  📊 {dataset_name.upper()}:\")\n",
    "    print(f\"    ✓ Shape: {original_shape} → {new_shape}\")\n",
    "    print(f\"    ✓ Missing values: {metrics['missing_values']}\")\n",
    "    print(f\"    ✓ Duplicates: {metrics['duplicates']}\")\n",
    "    print(f\"    ✓ Features: {metrics['total_features']} ({metrics['numeric_features']} numeric, {metrics['categorical_features']} categorical)\")\n",
    "\n",
    "print(\"\\n🚀 Recommendations for Modeling:\")\n",
    "for i, rec in enumerate(recommendations, 1):\n",
    "    print(f\"  {i}. {rec}\")\n",
    "\n",
    "# Save processed datasets\n",
    "print(\"\\n💾 Saving Processed Datasets:\")\n",
    "for dataset_name, df in processed_datasets.items():\n",
    "    filename = f'data/processed_{dataset_name}.csv'\n",
    "    try:\n",
    "        df.to_csv(filename, index=False)\n",
    "        print(f\"  ✓ Saved {filename} ({df.shape[0]:,} × {df.shape[1]})\")\n",
    "    except Exception as e:\n",
    "        print(f\"  ❌ Failed to save {filename}: {e}\")\n",
    "\n",
    "# Save preprocessing summary\n",
    "with open('preprocessing_summary.json', 'w') as f:\n",
    "    json.dump(preprocessing_summary, f, indent=2, default=str)\n",
    "print(\"\\n📁 Preprocessing summary saved to 'preprocessing_summary.json'\")\n",
    "\n",
    "print(\"\\n\" + \"=\" * 60)\n",
    "print(\"🎉 DATA PREPROCESSING COMPLETE!\")\n",
    "print(\"✅ Ready for model development and training\")\n",
    "print(\"=\" * 60)"
   ]
  }
 ],
 "metadata": {
  "kernelspec": {
   "display_name": "Python 3",
   "language": "python",
   "name": "python3"
  },
  "language_info": {
   "codemirror_mode": {
    "name": "ipython",
    "version": 3
   },
   "file_extension": ".py",
   "mimetype": "text/x-python",
   "name": "python",
   "nbconvert_exporter": "python",
   "pygments_lexer": "ipython3",
   "version": "3.11.9"
  }
 },
 "nbformat": 4,
 "nbformat_minor": 5
}
